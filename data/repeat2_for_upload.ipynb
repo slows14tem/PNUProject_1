{
 "cells": [
  {
   "cell_type": "code",
   "execution_count": 1,
   "outputs": [
    {
     "name": "stderr",
     "output_type": "stream",
     "text": [
      "C:\\Users\\user\\miniconda3\\envs\\pycaret2\\lib\\site-packages\\numpy\\_distributor_init.py:30: UserWarning: loaded more than 1 DLL from .libs:\n",
      "C:\\Users\\user\\miniconda3\\envs\\pycaret2\\lib\\site-packages\\numpy\\.libs\\libopenblas.4SP5SUA7CBGXUEOC35YP2ASOICYYEQZZ.gfortran-win_amd64.dll\n",
      "C:\\Users\\user\\miniconda3\\envs\\pycaret2\\lib\\site-packages\\numpy\\.libs\\libopenblas.GK7GX5KEQ4F6UYO3P26ULGBQYHGQO7J4.gfortran-win_amd64.dll\n",
      "  warnings.warn(\"loaded more than 1 DLL from .libs:\"\n"
     ]
    }
   ],
   "source": [
    "from importlib import machinery\n",
    "\n",
    "import matplotlib.pyplot as plt\n",
    "from keras.layers import Input, Dense\n",
    "from keras.models import Model\n",
    "from keras.optimizers import RMSprop\n",
    "from keras import backend as K\n",
    "import tensorflow as tf\n",
    "\n",
    "from sklearn import preprocessing\n",
    "label_encoder = preprocessing.LabelEncoder()\n",
    "import io\n",
    "import pandas as pd\n",
    "\n",
    "from sklearn.preprocessing import LabelEncoder\n",
    "\n",
    "\n",
    "class MultiColumnLabelEncoder:\n",
    "\n",
    "    def __init__(self, columns=None):\n",
    "        self.columns = columns # array of column names to encode\n",
    "\n",
    "\n",
    "    def fit(self, X, y=None):\n",
    "        self.encoders = {}\n",
    "        columns = X.columns if self.columns is None else self.columns\n",
    "        for col in columns:\n",
    "            self.encoders[col] = LabelEncoder().fit(X[col])\n",
    "        return self\n",
    "\n",
    "\n",
    "    def transform(self, X):\n",
    "        output = X.copy()\n",
    "        columns = X.columns if self.columns is None else self.columns\n",
    "        for col in columns:\n",
    "            output[col] = self.encoders[col].transform(X[col])\n",
    "        return output\n",
    "\n",
    "\n",
    "    def fit_transform(self, X, y=None):\n",
    "        return self.fit(X,y).transform(X)\n",
    "\n",
    "\n",
    "    def inverse_transform(self, X):\n",
    "        output = X.copy()\n",
    "        columns = X.columns if self.columns is None else self.columns\n",
    "        for col in columns:\n",
    "            output[col] = self.encoders[col].inverse_transform(X[col])\n",
    "        return output"
   ],
   "metadata": {
    "collapsed": false
   }
  },
  {
   "cell_type": "code",
   "execution_count": 2,
   "metadata": {
    "collapsed": true
   },
   "outputs": [
    {
     "data": {
      "text/plain": "          id   cheongguseobeonho   no  \\\n0          1  ELS-BS-ESP-2004002   12   \n1          2  OCA-BS-ESP-2010004    5   \n2          3  MIR-BS-ESP-2011002  119   \n3          4  BLO-BS-ESP-2003002   16   \n4          5  DEO-BS-ESP-2105008   97   \n...      ...                 ...  ...   \n17315  21080  BLO-BS-ESP-2006006    1   \n17316  21081  BLO-BS-ESP-2004008    1   \n17317  21082  ELS-BS-ESP-1908002    2   \n17318  21083  BLO-BS-ESP-1906014    2   \n17319  21084  BLO-BS-ESP-1906014    3   \n\n                                                subject_  \\\n0                           NO.1 A/E C18 MAJOR O/H PARTS   \n1                   운전시간 대비 #2 AUX ENG TOP END O/H PARTS   \n2          운전시간 대비 #2 AUX ENG(CAT 3512C) MAJOR O/H PARTS   \n3                           #1 AUX ENG TOP END O/H PARTS   \n4                                        DEO-E-210512-01   \n...                                                  ...   \n17315  BLO-F-ENGINE-200515-03 BOAT DAVIT CYL 외, AIRCO...   \n17316  BLO-F-ENGINE-200403-01 (NAVI DECK CRANE DERRIN...   \n17317                                ELS-F-ENG-190628-02   \n17318            BLO-F-ENGINE-190617-01 (NET BOAT PARTS)   \n17319            BLO-F-ENGINE-190617-01 (NET BOAT PARTS)   \n\n                   machinery                              assembly  \\\n0      NO.1 GENERATOR ENGINE               323-6480 LINES GP-FUEL    \n1      NO.2 GENERATOR ENGINE                            GASKET KIT   \n2      NO.2 GENERATOR ENGINE             285-8374 MANIFOLD GP-EXH    \n3      NO.1 GENERATOR ENGINE                     159-8828 TURBO GP   \n4      NO.1 GENERATOR ENGINE             2N4727 INSTRUMNT PANEL GP   \n...                      ...                                   ...   \n17315            HYD. SYSTEM  5-753-2E_BOAT DAVIT & N.D CRANE LINE   \n17316            HYD. SYSTEM  5-753-2E_BOAT DAVIT & N.D CRANE LINE   \n17317            6M NET BOAT                       ELECTRIC CLUTCH   \n17318            7M NET BOAT        HAND HYDRAULIC STEERING SYSTEM   \n17319            7M NET BOAT        HAND HYDRAULIC STEERING SYSTEM   \n\n                                     items                         part1  \\\n0                         SEAL-O-RING-STOR                     7.00E-275   \n1                       OIL COOLER & LINES                     7.00E-275   \n2                                   WASHER                     7.00E-275   \n3                           BOLT-HIGH TEMP                     7.00E-275   \n4                                     SEAL                     7.00E-275   \n...                                    ...                           ...   \n17315         HYD. CYLINDER_NET BOAT DAVIT            φ150 × φ85 × 695st   \n17316  HYD. CYLINDER_N.D CRANE_BOOM_LIFTER          φ160 × φ112 × 1130st   \n17317                                PULLY                     Φ305X5V-3   \n17318                            CYLINDER            Φ50 x S195 CYLINDER   \n17319                SEAL KIT FOR CYLINDER  Φ50 x S195 CYLINDER SEAL KIT   \n\n                           Part2                                         key1  \\\n0                           None                                    7.00E-275   \n1                           None                                    7.00E-275   \n2                           None                                    7.00E-275   \n3                           None                                    7.00E-275   \n4                           None                                    7.00E-275   \n...                          ...                                          ...   \n17315  FF-SE-1CB150BB695ABD-YP2J  φ150 × φ85 × 695stFF-SE-1CB150BB695ABD-YP2J   \n17316       S-2CA160A20.6N1130-1     φ160 × φ112 × 1130stS-2CA160A20.6N1130-1   \n17317                       None                                    Φ305X5V-3   \n17318                       None                          Φ50 x S195 CYLINDER   \n17319                       None                 Φ50 x S195 CYLINDER SEAL KIT   \n\n       ... ipgochanggo  changgochulgo  changgochulgosuryang chulgoseonbak  \\\n0      ...          BS     2020-09-19                     1           BLO   \n1      ...          BS     2020-09-18                     1           JBG   \n2      ...          BS     2020-12-12                     1           BON   \n3      ...          BS     2021-06-16                     1           MIR   \n4      ...          BS     0000-00-00                     0          None   \n...    ...         ...            ...                   ...           ...   \n17315  ...          BW     0000-00-00                     0          None   \n17316  ...          BW     2020-08-26                     1           BLO   \n17317  ...          BW     2019-09-04                     1           ELS   \n17318  ...          BW     2019-08-20                     1           BLO   \n17319  ...          BW     2019-08-20                     2           BLO   \n\n       chulgounbanseon seonbagipgo  seonbagipgosuryang wallyo_yeobu 발주-월  \\\n0                본선 선적  0000-00-00                   0         None    3   \n1                본선 선적  0000-00-00                   0         None    7   \n2       SANWA FONTAINE  0000-00-00                   0         None   10   \n3            체항수리 시 사용  0000-00-00                   0         None   11   \n4                 None  0000-00-00                   0         None    1   \n...                ...         ...                 ...          ...  ...   \n17315             None  0000-00-00                   0         None    6   \n17316       BLO 상가시 선적  0000-00-00                   0         None    4   \n17317          ONENESS  2019-10-02                   1           완료    8   \n17318         세이셀 컨테이너  2019-10-12                   1           완료    6   \n17319         세이셀 컨테이너  2019-10-12                   2           완료    6   \n\n        창고입고-발주  \n0      194 days  \n1       59 days  \n2       61 days  \n3      212 days  \n4      220 days  \n...         ...  \n17315   95 days  \n17316   67 days  \n17317   25 days  \n17318   25 days  \n17319   25 days  \n\n[17320 rows x 38 columns]",
      "text/html": "<div>\n<style scoped>\n    .dataframe tbody tr th:only-of-type {\n        vertical-align: middle;\n    }\n\n    .dataframe tbody tr th {\n        vertical-align: top;\n    }\n\n    .dataframe thead th {\n        text-align: right;\n    }\n</style>\n<table border=\"1\" class=\"dataframe\">\n  <thead>\n    <tr style=\"text-align: right;\">\n      <th></th>\n      <th>id</th>\n      <th>cheongguseobeonho</th>\n      <th>no</th>\n      <th>subject_</th>\n      <th>machinery</th>\n      <th>assembly</th>\n      <th>items</th>\n      <th>part1</th>\n      <th>Part2</th>\n      <th>key1</th>\n      <th>...</th>\n      <th>ipgochanggo</th>\n      <th>changgochulgo</th>\n      <th>changgochulgosuryang</th>\n      <th>chulgoseonbak</th>\n      <th>chulgounbanseon</th>\n      <th>seonbagipgo</th>\n      <th>seonbagipgosuryang</th>\n      <th>wallyo_yeobu</th>\n      <th>발주-월</th>\n      <th>창고입고-발주</th>\n    </tr>\n  </thead>\n  <tbody>\n    <tr>\n      <th>0</th>\n      <td>1</td>\n      <td>ELS-BS-ESP-2004002</td>\n      <td>12</td>\n      <td>NO.1 A/E C18 MAJOR O/H PARTS</td>\n      <td>NO.1 GENERATOR ENGINE</td>\n      <td>323-6480 LINES GP-FUEL</td>\n      <td>SEAL-O-RING-STOR</td>\n      <td>7.00E-275</td>\n      <td>None</td>\n      <td>7.00E-275</td>\n      <td>...</td>\n      <td>BS</td>\n      <td>2020-09-19</td>\n      <td>1</td>\n      <td>BLO</td>\n      <td>본선 선적</td>\n      <td>0000-00-00</td>\n      <td>0</td>\n      <td>None</td>\n      <td>3</td>\n      <td>194 days</td>\n    </tr>\n    <tr>\n      <th>1</th>\n      <td>2</td>\n      <td>OCA-BS-ESP-2010004</td>\n      <td>5</td>\n      <td>운전시간 대비 #2 AUX ENG TOP END O/H PARTS</td>\n      <td>NO.2 GENERATOR ENGINE</td>\n      <td>GASKET KIT</td>\n      <td>OIL COOLER &amp; LINES</td>\n      <td>7.00E-275</td>\n      <td>None</td>\n      <td>7.00E-275</td>\n      <td>...</td>\n      <td>BS</td>\n      <td>2020-09-18</td>\n      <td>1</td>\n      <td>JBG</td>\n      <td>본선 선적</td>\n      <td>0000-00-00</td>\n      <td>0</td>\n      <td>None</td>\n      <td>7</td>\n      <td>59 days</td>\n    </tr>\n    <tr>\n      <th>2</th>\n      <td>3</td>\n      <td>MIR-BS-ESP-2011002</td>\n      <td>119</td>\n      <td>운전시간 대비 #2 AUX ENG(CAT 3512C) MAJOR O/H PARTS</td>\n      <td>NO.2 GENERATOR ENGINE</td>\n      <td>285-8374 MANIFOLD GP-EXH</td>\n      <td>WASHER</td>\n      <td>7.00E-275</td>\n      <td>None</td>\n      <td>7.00E-275</td>\n      <td>...</td>\n      <td>BS</td>\n      <td>2020-12-12</td>\n      <td>1</td>\n      <td>BON</td>\n      <td>SANWA FONTAINE</td>\n      <td>0000-00-00</td>\n      <td>0</td>\n      <td>None</td>\n      <td>10</td>\n      <td>61 days</td>\n    </tr>\n    <tr>\n      <th>3</th>\n      <td>4</td>\n      <td>BLO-BS-ESP-2003002</td>\n      <td>16</td>\n      <td>#1 AUX ENG TOP END O/H PARTS</td>\n      <td>NO.1 GENERATOR ENGINE</td>\n      <td>159-8828 TURBO GP</td>\n      <td>BOLT-HIGH TEMP</td>\n      <td>7.00E-275</td>\n      <td>None</td>\n      <td>7.00E-275</td>\n      <td>...</td>\n      <td>BS</td>\n      <td>2021-06-16</td>\n      <td>1</td>\n      <td>MIR</td>\n      <td>체항수리 시 사용</td>\n      <td>0000-00-00</td>\n      <td>0</td>\n      <td>None</td>\n      <td>11</td>\n      <td>212 days</td>\n    </tr>\n    <tr>\n      <th>4</th>\n      <td>5</td>\n      <td>DEO-BS-ESP-2105008</td>\n      <td>97</td>\n      <td>DEO-E-210512-01</td>\n      <td>NO.1 GENERATOR ENGINE</td>\n      <td>2N4727 INSTRUMNT PANEL GP</td>\n      <td>SEAL</td>\n      <td>7.00E-275</td>\n      <td>None</td>\n      <td>7.00E-275</td>\n      <td>...</td>\n      <td>BS</td>\n      <td>0000-00-00</td>\n      <td>0</td>\n      <td>None</td>\n      <td>None</td>\n      <td>0000-00-00</td>\n      <td>0</td>\n      <td>None</td>\n      <td>1</td>\n      <td>220 days</td>\n    </tr>\n    <tr>\n      <th>...</th>\n      <td>...</td>\n      <td>...</td>\n      <td>...</td>\n      <td>...</td>\n      <td>...</td>\n      <td>...</td>\n      <td>...</td>\n      <td>...</td>\n      <td>...</td>\n      <td>...</td>\n      <td>...</td>\n      <td>...</td>\n      <td>...</td>\n      <td>...</td>\n      <td>...</td>\n      <td>...</td>\n      <td>...</td>\n      <td>...</td>\n      <td>...</td>\n      <td>...</td>\n      <td>...</td>\n    </tr>\n    <tr>\n      <th>17315</th>\n      <td>21080</td>\n      <td>BLO-BS-ESP-2006006</td>\n      <td>1</td>\n      <td>BLO-F-ENGINE-200515-03 BOAT DAVIT CYL 외, AIRCO...</td>\n      <td>HYD. SYSTEM</td>\n      <td>5-753-2E_BOAT DAVIT &amp; N.D CRANE LINE</td>\n      <td>HYD. CYLINDER_NET BOAT DAVIT</td>\n      <td>φ150 × φ85 × 695st</td>\n      <td>FF-SE-1CB150BB695ABD-YP2J</td>\n      <td>φ150 × φ85 × 695stFF-SE-1CB150BB695ABD-YP2J</td>\n      <td>...</td>\n      <td>BW</td>\n      <td>0000-00-00</td>\n      <td>0</td>\n      <td>None</td>\n      <td>None</td>\n      <td>0000-00-00</td>\n      <td>0</td>\n      <td>None</td>\n      <td>6</td>\n      <td>95 days</td>\n    </tr>\n    <tr>\n      <th>17316</th>\n      <td>21081</td>\n      <td>BLO-BS-ESP-2004008</td>\n      <td>1</td>\n      <td>BLO-F-ENGINE-200403-01 (NAVI DECK CRANE DERRIN...</td>\n      <td>HYD. SYSTEM</td>\n      <td>5-753-2E_BOAT DAVIT &amp; N.D CRANE LINE</td>\n      <td>HYD. CYLINDER_N.D CRANE_BOOM_LIFTER</td>\n      <td>φ160 × φ112 × 1130st</td>\n      <td>S-2CA160A20.6N1130-1</td>\n      <td>φ160 × φ112 × 1130stS-2CA160A20.6N1130-1</td>\n      <td>...</td>\n      <td>BW</td>\n      <td>2020-08-26</td>\n      <td>1</td>\n      <td>BLO</td>\n      <td>BLO 상가시 선적</td>\n      <td>0000-00-00</td>\n      <td>0</td>\n      <td>None</td>\n      <td>4</td>\n      <td>67 days</td>\n    </tr>\n    <tr>\n      <th>17317</th>\n      <td>21082</td>\n      <td>ELS-BS-ESP-1908002</td>\n      <td>2</td>\n      <td>ELS-F-ENG-190628-02</td>\n      <td>6M NET BOAT</td>\n      <td>ELECTRIC CLUTCH</td>\n      <td>PULLY</td>\n      <td>Φ305X5V-3</td>\n      <td>None</td>\n      <td>Φ305X5V-3</td>\n      <td>...</td>\n      <td>BW</td>\n      <td>2019-09-04</td>\n      <td>1</td>\n      <td>ELS</td>\n      <td>ONENESS</td>\n      <td>2019-10-02</td>\n      <td>1</td>\n      <td>완료</td>\n      <td>8</td>\n      <td>25 days</td>\n    </tr>\n    <tr>\n      <th>17318</th>\n      <td>21083</td>\n      <td>BLO-BS-ESP-1906014</td>\n      <td>2</td>\n      <td>BLO-F-ENGINE-190617-01 (NET BOAT PARTS)</td>\n      <td>7M NET BOAT</td>\n      <td>HAND HYDRAULIC STEERING SYSTEM</td>\n      <td>CYLINDER</td>\n      <td>Φ50 x S195 CYLINDER</td>\n      <td>None</td>\n      <td>Φ50 x S195 CYLINDER</td>\n      <td>...</td>\n      <td>BW</td>\n      <td>2019-08-20</td>\n      <td>1</td>\n      <td>BLO</td>\n      <td>세이셀 컨테이너</td>\n      <td>2019-10-12</td>\n      <td>1</td>\n      <td>완료</td>\n      <td>6</td>\n      <td>25 days</td>\n    </tr>\n    <tr>\n      <th>17319</th>\n      <td>21084</td>\n      <td>BLO-BS-ESP-1906014</td>\n      <td>3</td>\n      <td>BLO-F-ENGINE-190617-01 (NET BOAT PARTS)</td>\n      <td>7M NET BOAT</td>\n      <td>HAND HYDRAULIC STEERING SYSTEM</td>\n      <td>SEAL KIT FOR CYLINDER</td>\n      <td>Φ50 x S195 CYLINDER SEAL KIT</td>\n      <td>None</td>\n      <td>Φ50 x S195 CYLINDER SEAL KIT</td>\n      <td>...</td>\n      <td>BW</td>\n      <td>2019-08-20</td>\n      <td>2</td>\n      <td>BLO</td>\n      <td>세이셀 컨테이너</td>\n      <td>2019-10-12</td>\n      <td>2</td>\n      <td>완료</td>\n      <td>6</td>\n      <td>25 days</td>\n    </tr>\n  </tbody>\n</table>\n<p>17320 rows × 38 columns</p>\n</div>"
     },
     "execution_count": 2,
     "metadata": {},
     "output_type": "execute_result"
    }
   ],
   "source": [
    "'''\n",
    "다시 불러왔다.\n",
    "'''\n",
    "\n",
    "import pandas as pd\n",
    "import pymysql\n",
    "\n",
    "conn=pymysql.connect(host='*.com',port=3306,user='*',password='*',db='*', cursorclass=pymysql.cursors.DictCursor)\n",
    "cursor = conn.cursor()\n",
    "sql = \"select * from JSYoon_leadtime_preprocessed\"\n",
    "cursor.execute(sql)\n",
    "result = cursor.fetchall()\n",
    "conn.close()\n",
    "train = pd.DataFrame(result)\n",
    "train"
   ]
  },
  {
   "cell_type": "code",
   "execution_count": 3,
   "outputs": [],
   "source": [
    "features = ['machinery', 'assembly', 'items', 'part1', 'gyeonjeok', 'gyeonjeokhwapye', 'baljucheo', 'baljusuryang', 'baljugeumaek_currency', 'dt', 'key2']"
   ],
   "metadata": {
    "collapsed": false
   }
  },
  {
   "cell_type": "code",
   "execution_count": 4,
   "outputs": [
    {
     "data": {
      "text/plain": "11"
     },
     "execution_count": 4,
     "metadata": {},
     "output_type": "execute_result"
    }
   ],
   "source": [
    "len(features)"
   ],
   "metadata": {
    "collapsed": false
   }
  },
  {
   "cell_type": "code",
   "execution_count": 63,
   "outputs": [],
   "source": [
    "import itertools\n",
    "for i in range(12):\n",
    "    globals()['combo{}'.format(i)] = list(itertools.combinations(train[features].columns, i))"
   ],
   "metadata": {
    "collapsed": false
   }
  },
  {
   "cell_type": "code",
   "execution_count": null,
   "outputs": [],
   "source": [
    "#선언 변수 출력\n",
    "# https://computer-science-student.tistory.com/132\n",
    "for i in range(1,11):\n",
    "\tprint(len(globals()['combo{}'.format(i)]))"
   ],
   "metadata": {
    "collapsed": false,
    "pycharm": {
     "is_executing": true
    }
   }
  },
  {
   "cell_type": "code",
   "execution_count": 128,
   "outputs": [],
   "source": [
    "loc_repeat_1 = 'combo[i][0]'\n",
    "loc_repeat_2 = 'combo[i][0], combo[i][1]'\n",
    "loc_repeat_3 = 'combo[i][0], combo[i][1], combo[i][2]'"
   ],
   "metadata": {
    "collapsed": false
   }
  },
  {
   "cell_type": "code",
   "execution_count": 116,
   "outputs": [
    {
     "name": "stdout",
     "output_type": "stream",
     "text": [
      "combo[i][0]\n",
      "combo[i][0], combo[i][1]\n",
      "combo[i][0], combo[i][1], combo[i][2]\n"
     ]
    }
   ],
   "source": [
    "for i in range(1,4):\n",
    "\tprint(locals()['loc_repeat_{}'.format(i)])"
   ],
   "metadata": {
    "collapsed": false
   }
  },
  {
   "cell_type": "code",
   "execution_count": 141,
   "outputs": [],
   "source": [
    "# 이런 식으로는 밑의 자리를 대치할 수가 없음.\n",
    "test4 = 'combo[i][0], combo[i][1], combo[i][2], combo[i][3], combo[i][4]'"
   ],
   "metadata": {
    "collapsed": false
   }
  },
  {
   "cell_type": "code",
   "execution_count": 140,
   "outputs": [
    {
     "name": "stdout",
     "output_type": "stream",
     "text": [
      "462\n",
      "0 1 2 3 "
     ]
    },
    {
     "ename": "KeyboardInterrupt",
     "evalue": "",
     "output_type": "error",
     "traceback": [
      "\u001B[1;31m---------------------------------------------------------------------------\u001B[0m",
      "\u001B[1;31mKeyboardInterrupt\u001B[0m                         Traceback (most recent call last)",
      "Cell \u001B[1;32mIn[140], line 19\u001B[0m\n\u001B[0;32m     17\u001B[0m \u001B[38;5;28;01mfrom\u001B[39;00m \u001B[38;5;21;01msklearn\u001B[39;00m\u001B[38;5;21;01m.\u001B[39;00m\u001B[38;5;21;01mensemble\u001B[39;00m \u001B[38;5;28;01mimport\u001B[39;00m RandomForestRegressor\n\u001B[0;32m     18\u001B[0m random_forest \u001B[38;5;241m=\u001B[39m RandomForestRegressor()\n\u001B[1;32m---> 19\u001B[0m model_rf \u001B[38;5;241m=\u001B[39m \u001B[43mrandom_forest\u001B[49m\u001B[38;5;241;43m.\u001B[39;49m\u001B[43mfit\u001B[49m\u001B[43m(\u001B[49m\u001B[43mx_train\u001B[49m\u001B[43m,\u001B[49m\u001B[43m \u001B[49m\u001B[43my_train\u001B[49m\u001B[43m)\u001B[49m\n\u001B[0;32m     20\u001B[0m y_pred \u001B[38;5;241m=\u001B[39m random_forest\u001B[38;5;241m.\u001B[39mpredict(x_test)\n\u001B[0;32m     21\u001B[0m y_pred_df \u001B[38;5;241m=\u001B[39m pd\u001B[38;5;241m.\u001B[39mDataFrame(y_pred)\n",
      "File \u001B[1;32m~\\miniconda3\\envs\\pycaret2\\lib\\site-packages\\sklearn\\ensemble\\_forest.py:386\u001B[0m, in \u001B[0;36mBaseForest.fit\u001B[1;34m(self, X, y, sample_weight)\u001B[0m\n\u001B[0;32m    376\u001B[0m trees \u001B[38;5;241m=\u001B[39m [\u001B[38;5;28mself\u001B[39m\u001B[38;5;241m.\u001B[39m_make_estimator(append\u001B[38;5;241m=\u001B[39m\u001B[38;5;28;01mFalse\u001B[39;00m,\n\u001B[0;32m    377\u001B[0m                               random_state\u001B[38;5;241m=\u001B[39mrandom_state)\n\u001B[0;32m    378\u001B[0m          \u001B[38;5;28;01mfor\u001B[39;00m i \u001B[38;5;129;01min\u001B[39;00m \u001B[38;5;28mrange\u001B[39m(n_more_estimators)]\n\u001B[0;32m    380\u001B[0m \u001B[38;5;66;03m# Parallel loop: we prefer the threading backend as the Cython code\u001B[39;00m\n\u001B[0;32m    381\u001B[0m \u001B[38;5;66;03m# for fitting the trees is internally releasing the Python GIL\u001B[39;00m\n\u001B[0;32m    382\u001B[0m \u001B[38;5;66;03m# making threading more efficient than multiprocessing in\u001B[39;00m\n\u001B[0;32m    383\u001B[0m \u001B[38;5;66;03m# that case. However, for joblib 0.12+ we respect any\u001B[39;00m\n\u001B[0;32m    384\u001B[0m \u001B[38;5;66;03m# parallel_backend contexts set at a higher level,\u001B[39;00m\n\u001B[0;32m    385\u001B[0m \u001B[38;5;66;03m# since correctness does not rely on using threads.\u001B[39;00m\n\u001B[1;32m--> 386\u001B[0m trees \u001B[38;5;241m=\u001B[39m \u001B[43mParallel\u001B[49m\u001B[43m(\u001B[49m\u001B[43mn_jobs\u001B[49m\u001B[38;5;241;43m=\u001B[39;49m\u001B[38;5;28;43mself\u001B[39;49m\u001B[38;5;241;43m.\u001B[39;49m\u001B[43mn_jobs\u001B[49m\u001B[43m,\u001B[49m\u001B[43m \u001B[49m\u001B[43mverbose\u001B[49m\u001B[38;5;241;43m=\u001B[39;49m\u001B[38;5;28;43mself\u001B[39;49m\u001B[38;5;241;43m.\u001B[39;49m\u001B[43mverbose\u001B[49m\u001B[43m,\u001B[49m\n\u001B[0;32m    387\u001B[0m \u001B[43m                 \u001B[49m\u001B[38;5;241;43m*\u001B[39;49m\u001B[38;5;241;43m*\u001B[39;49m\u001B[43m_joblib_parallel_args\u001B[49m\u001B[43m(\u001B[49m\u001B[43mprefer\u001B[49m\u001B[38;5;241;43m=\u001B[39;49m\u001B[38;5;124;43m'\u001B[39;49m\u001B[38;5;124;43mthreads\u001B[39;49m\u001B[38;5;124;43m'\u001B[39;49m\u001B[43m)\u001B[49m\u001B[43m)\u001B[49m\u001B[43m(\u001B[49m\n\u001B[0;32m    388\u001B[0m \u001B[43m    \u001B[49m\u001B[43mdelayed\u001B[49m\u001B[43m(\u001B[49m\u001B[43m_parallel_build_trees\u001B[49m\u001B[43m)\u001B[49m\u001B[43m(\u001B[49m\n\u001B[0;32m    389\u001B[0m \u001B[43m        \u001B[49m\u001B[43mt\u001B[49m\u001B[43m,\u001B[49m\u001B[43m \u001B[49m\u001B[38;5;28;43mself\u001B[39;49m\u001B[43m,\u001B[49m\u001B[43m \u001B[49m\u001B[43mX\u001B[49m\u001B[43m,\u001B[49m\u001B[43m \u001B[49m\u001B[43my\u001B[49m\u001B[43m,\u001B[49m\u001B[43m \u001B[49m\u001B[43msample_weight\u001B[49m\u001B[43m,\u001B[49m\u001B[43m \u001B[49m\u001B[43mi\u001B[49m\u001B[43m,\u001B[49m\u001B[43m \u001B[49m\u001B[38;5;28;43mlen\u001B[39;49m\u001B[43m(\u001B[49m\u001B[43mtrees\u001B[49m\u001B[43m)\u001B[49m\u001B[43m,\u001B[49m\n\u001B[0;32m    390\u001B[0m \u001B[43m        \u001B[49m\u001B[43mverbose\u001B[49m\u001B[38;5;241;43m=\u001B[39;49m\u001B[38;5;28;43mself\u001B[39;49m\u001B[38;5;241;43m.\u001B[39;49m\u001B[43mverbose\u001B[49m\u001B[43m,\u001B[49m\u001B[43m \u001B[49m\u001B[43mclass_weight\u001B[49m\u001B[38;5;241;43m=\u001B[39;49m\u001B[38;5;28;43mself\u001B[39;49m\u001B[38;5;241;43m.\u001B[39;49m\u001B[43mclass_weight\u001B[49m\u001B[43m,\u001B[49m\n\u001B[0;32m    391\u001B[0m \u001B[43m        \u001B[49m\u001B[43mn_samples_bootstrap\u001B[49m\u001B[38;5;241;43m=\u001B[39;49m\u001B[43mn_samples_bootstrap\u001B[49m\u001B[43m)\u001B[49m\n\u001B[0;32m    392\u001B[0m \u001B[43m    \u001B[49m\u001B[38;5;28;43;01mfor\u001B[39;49;00m\u001B[43m \u001B[49m\u001B[43mi\u001B[49m\u001B[43m,\u001B[49m\u001B[43m \u001B[49m\u001B[43mt\u001B[49m\u001B[43m \u001B[49m\u001B[38;5;129;43;01min\u001B[39;49;00m\u001B[43m \u001B[49m\u001B[38;5;28;43menumerate\u001B[39;49m\u001B[43m(\u001B[49m\u001B[43mtrees\u001B[49m\u001B[43m)\u001B[49m\u001B[43m)\u001B[49m\n\u001B[0;32m    394\u001B[0m \u001B[38;5;66;03m# Collect newly grown trees\u001B[39;00m\n\u001B[0;32m    395\u001B[0m \u001B[38;5;28mself\u001B[39m\u001B[38;5;241m.\u001B[39mestimators_\u001B[38;5;241m.\u001B[39mextend(trees)\n",
      "File \u001B[1;32m~\\miniconda3\\envs\\pycaret2\\lib\\site-packages\\joblib\\parallel.py:1088\u001B[0m, in \u001B[0;36mParallel.__call__\u001B[1;34m(self, iterable)\u001B[0m\n\u001B[0;32m   1085\u001B[0m \u001B[38;5;28;01mif\u001B[39;00m \u001B[38;5;28mself\u001B[39m\u001B[38;5;241m.\u001B[39mdispatch_one_batch(iterator):\n\u001B[0;32m   1086\u001B[0m     \u001B[38;5;28mself\u001B[39m\u001B[38;5;241m.\u001B[39m_iterating \u001B[38;5;241m=\u001B[39m \u001B[38;5;28mself\u001B[39m\u001B[38;5;241m.\u001B[39m_original_iterator \u001B[38;5;129;01mis\u001B[39;00m \u001B[38;5;129;01mnot\u001B[39;00m \u001B[38;5;28;01mNone\u001B[39;00m\n\u001B[1;32m-> 1088\u001B[0m \u001B[38;5;28;01mwhile\u001B[39;00m \u001B[38;5;28;43mself\u001B[39;49m\u001B[38;5;241;43m.\u001B[39;49m\u001B[43mdispatch_one_batch\u001B[49m\u001B[43m(\u001B[49m\u001B[43miterator\u001B[49m\u001B[43m)\u001B[49m:\n\u001B[0;32m   1089\u001B[0m     \u001B[38;5;28;01mpass\u001B[39;00m\n\u001B[0;32m   1091\u001B[0m \u001B[38;5;28;01mif\u001B[39;00m pre_dispatch \u001B[38;5;241m==\u001B[39m \u001B[38;5;124m\"\u001B[39m\u001B[38;5;124mall\u001B[39m\u001B[38;5;124m\"\u001B[39m \u001B[38;5;129;01mor\u001B[39;00m n_jobs \u001B[38;5;241m==\u001B[39m \u001B[38;5;241m1\u001B[39m:\n\u001B[0;32m   1092\u001B[0m     \u001B[38;5;66;03m# The iterable was consumed all at once by the above for loop.\u001B[39;00m\n\u001B[0;32m   1093\u001B[0m     \u001B[38;5;66;03m# No need to wait for async callbacks to trigger to\u001B[39;00m\n\u001B[0;32m   1094\u001B[0m     \u001B[38;5;66;03m# consumption.\u001B[39;00m\n",
      "File \u001B[1;32m~\\miniconda3\\envs\\pycaret2\\lib\\site-packages\\joblib\\parallel.py:901\u001B[0m, in \u001B[0;36mParallel.dispatch_one_batch\u001B[1;34m(self, iterator)\u001B[0m\n\u001B[0;32m    899\u001B[0m     \u001B[38;5;28;01mreturn\u001B[39;00m \u001B[38;5;28;01mFalse\u001B[39;00m\n\u001B[0;32m    900\u001B[0m \u001B[38;5;28;01melse\u001B[39;00m:\n\u001B[1;32m--> 901\u001B[0m     \u001B[38;5;28;43mself\u001B[39;49m\u001B[38;5;241;43m.\u001B[39;49m\u001B[43m_dispatch\u001B[49m\u001B[43m(\u001B[49m\u001B[43mtasks\u001B[49m\u001B[43m)\u001B[49m\n\u001B[0;32m    902\u001B[0m     \u001B[38;5;28;01mreturn\u001B[39;00m \u001B[38;5;28;01mTrue\u001B[39;00m\n",
      "File \u001B[1;32m~\\miniconda3\\envs\\pycaret2\\lib\\site-packages\\joblib\\parallel.py:819\u001B[0m, in \u001B[0;36mParallel._dispatch\u001B[1;34m(self, batch)\u001B[0m\n\u001B[0;32m    817\u001B[0m \u001B[38;5;28;01mwith\u001B[39;00m \u001B[38;5;28mself\u001B[39m\u001B[38;5;241m.\u001B[39m_lock:\n\u001B[0;32m    818\u001B[0m     job_idx \u001B[38;5;241m=\u001B[39m \u001B[38;5;28mlen\u001B[39m(\u001B[38;5;28mself\u001B[39m\u001B[38;5;241m.\u001B[39m_jobs)\n\u001B[1;32m--> 819\u001B[0m     job \u001B[38;5;241m=\u001B[39m \u001B[38;5;28;43mself\u001B[39;49m\u001B[38;5;241;43m.\u001B[39;49m\u001B[43m_backend\u001B[49m\u001B[38;5;241;43m.\u001B[39;49m\u001B[43mapply_async\u001B[49m\u001B[43m(\u001B[49m\u001B[43mbatch\u001B[49m\u001B[43m,\u001B[49m\u001B[43m \u001B[49m\u001B[43mcallback\u001B[49m\u001B[38;5;241;43m=\u001B[39;49m\u001B[43mcb\u001B[49m\u001B[43m)\u001B[49m\n\u001B[0;32m    820\u001B[0m     \u001B[38;5;66;03m# A job can complete so quickly than its callback is\u001B[39;00m\n\u001B[0;32m    821\u001B[0m     \u001B[38;5;66;03m# called before we get here, causing self._jobs to\u001B[39;00m\n\u001B[0;32m    822\u001B[0m     \u001B[38;5;66;03m# grow. To ensure correct results ordering, .insert is\u001B[39;00m\n\u001B[0;32m    823\u001B[0m     \u001B[38;5;66;03m# used (rather than .append) in the following line\u001B[39;00m\n\u001B[0;32m    824\u001B[0m     \u001B[38;5;28mself\u001B[39m\u001B[38;5;241m.\u001B[39m_jobs\u001B[38;5;241m.\u001B[39minsert(job_idx, job)\n",
      "File \u001B[1;32m~\\miniconda3\\envs\\pycaret2\\lib\\site-packages\\joblib\\_parallel_backends.py:208\u001B[0m, in \u001B[0;36mSequentialBackend.apply_async\u001B[1;34m(self, func, callback)\u001B[0m\n\u001B[0;32m    206\u001B[0m \u001B[38;5;28;01mdef\u001B[39;00m \u001B[38;5;21mapply_async\u001B[39m(\u001B[38;5;28mself\u001B[39m, func, callback\u001B[38;5;241m=\u001B[39m\u001B[38;5;28;01mNone\u001B[39;00m):\n\u001B[0;32m    207\u001B[0m     \u001B[38;5;124;03m\"\"\"Schedule a func to be run\"\"\"\u001B[39;00m\n\u001B[1;32m--> 208\u001B[0m     result \u001B[38;5;241m=\u001B[39m \u001B[43mImmediateResult\u001B[49m\u001B[43m(\u001B[49m\u001B[43mfunc\u001B[49m\u001B[43m)\u001B[49m\n\u001B[0;32m    209\u001B[0m     \u001B[38;5;28;01mif\u001B[39;00m callback:\n\u001B[0;32m    210\u001B[0m         callback(result)\n",
      "File \u001B[1;32m~\\miniconda3\\envs\\pycaret2\\lib\\site-packages\\joblib\\_parallel_backends.py:597\u001B[0m, in \u001B[0;36mImmediateResult.__init__\u001B[1;34m(self, batch)\u001B[0m\n\u001B[0;32m    594\u001B[0m \u001B[38;5;28;01mdef\u001B[39;00m \u001B[38;5;21m__init__\u001B[39m(\u001B[38;5;28mself\u001B[39m, batch):\n\u001B[0;32m    595\u001B[0m     \u001B[38;5;66;03m# Don't delay the application, to avoid keeping the input\u001B[39;00m\n\u001B[0;32m    596\u001B[0m     \u001B[38;5;66;03m# arguments in memory\u001B[39;00m\n\u001B[1;32m--> 597\u001B[0m     \u001B[38;5;28mself\u001B[39m\u001B[38;5;241m.\u001B[39mresults \u001B[38;5;241m=\u001B[39m \u001B[43mbatch\u001B[49m\u001B[43m(\u001B[49m\u001B[43m)\u001B[49m\n",
      "File \u001B[1;32m~\\miniconda3\\envs\\pycaret2\\lib\\site-packages\\joblib\\parallel.py:288\u001B[0m, in \u001B[0;36mBatchedCalls.__call__\u001B[1;34m(self)\u001B[0m\n\u001B[0;32m    284\u001B[0m \u001B[38;5;28;01mdef\u001B[39;00m \u001B[38;5;21m__call__\u001B[39m(\u001B[38;5;28mself\u001B[39m):\n\u001B[0;32m    285\u001B[0m     \u001B[38;5;66;03m# Set the default nested backend to self._backend but do not set the\u001B[39;00m\n\u001B[0;32m    286\u001B[0m     \u001B[38;5;66;03m# change the default number of processes to -1\u001B[39;00m\n\u001B[0;32m    287\u001B[0m     \u001B[38;5;28;01mwith\u001B[39;00m parallel_backend(\u001B[38;5;28mself\u001B[39m\u001B[38;5;241m.\u001B[39m_backend, n_jobs\u001B[38;5;241m=\u001B[39m\u001B[38;5;28mself\u001B[39m\u001B[38;5;241m.\u001B[39m_n_jobs):\n\u001B[1;32m--> 288\u001B[0m         \u001B[38;5;28;01mreturn\u001B[39;00m [func(\u001B[38;5;241m*\u001B[39margs, \u001B[38;5;241m*\u001B[39m\u001B[38;5;241m*\u001B[39mkwargs)\n\u001B[0;32m    289\u001B[0m                 \u001B[38;5;28;01mfor\u001B[39;00m func, args, kwargs \u001B[38;5;129;01min\u001B[39;00m \u001B[38;5;28mself\u001B[39m\u001B[38;5;241m.\u001B[39mitems]\n",
      "File \u001B[1;32m~\\miniconda3\\envs\\pycaret2\\lib\\site-packages\\joblib\\parallel.py:288\u001B[0m, in \u001B[0;36m<listcomp>\u001B[1;34m(.0)\u001B[0m\n\u001B[0;32m    284\u001B[0m \u001B[38;5;28;01mdef\u001B[39;00m \u001B[38;5;21m__call__\u001B[39m(\u001B[38;5;28mself\u001B[39m):\n\u001B[0;32m    285\u001B[0m     \u001B[38;5;66;03m# Set the default nested backend to self._backend but do not set the\u001B[39;00m\n\u001B[0;32m    286\u001B[0m     \u001B[38;5;66;03m# change the default number of processes to -1\u001B[39;00m\n\u001B[0;32m    287\u001B[0m     \u001B[38;5;28;01mwith\u001B[39;00m parallel_backend(\u001B[38;5;28mself\u001B[39m\u001B[38;5;241m.\u001B[39m_backend, n_jobs\u001B[38;5;241m=\u001B[39m\u001B[38;5;28mself\u001B[39m\u001B[38;5;241m.\u001B[39m_n_jobs):\n\u001B[1;32m--> 288\u001B[0m         \u001B[38;5;28;01mreturn\u001B[39;00m [\u001B[43mfunc\u001B[49m\u001B[43m(\u001B[49m\u001B[38;5;241;43m*\u001B[39;49m\u001B[43margs\u001B[49m\u001B[43m,\u001B[49m\u001B[43m \u001B[49m\u001B[38;5;241;43m*\u001B[39;49m\u001B[38;5;241;43m*\u001B[39;49m\u001B[43mkwargs\u001B[49m\u001B[43m)\u001B[49m\n\u001B[0;32m    289\u001B[0m                 \u001B[38;5;28;01mfor\u001B[39;00m func, args, kwargs \u001B[38;5;129;01min\u001B[39;00m \u001B[38;5;28mself\u001B[39m\u001B[38;5;241m.\u001B[39mitems]\n",
      "File \u001B[1;32m~\\miniconda3\\envs\\pycaret2\\lib\\site-packages\\sklearn\\ensemble\\_forest.py:168\u001B[0m, in \u001B[0;36m_parallel_build_trees\u001B[1;34m(tree, forest, X, y, sample_weight, tree_idx, n_trees, verbose, class_weight, n_samples_bootstrap)\u001B[0m\n\u001B[0;32m    164\u001B[0m     \u001B[38;5;28;01melif\u001B[39;00m class_weight \u001B[38;5;241m==\u001B[39m \u001B[38;5;124m'\u001B[39m\u001B[38;5;124mbalanced_subsample\u001B[39m\u001B[38;5;124m'\u001B[39m:\n\u001B[0;32m    165\u001B[0m         curr_sample_weight \u001B[38;5;241m*\u001B[39m\u001B[38;5;241m=\u001B[39m compute_sample_weight(\u001B[38;5;124m'\u001B[39m\u001B[38;5;124mbalanced\u001B[39m\u001B[38;5;124m'\u001B[39m, y,\n\u001B[0;32m    166\u001B[0m                                                     indices\u001B[38;5;241m=\u001B[39mindices)\n\u001B[1;32m--> 168\u001B[0m     \u001B[43mtree\u001B[49m\u001B[38;5;241;43m.\u001B[39;49m\u001B[43mfit\u001B[49m\u001B[43m(\u001B[49m\u001B[43mX\u001B[49m\u001B[43m,\u001B[49m\u001B[43m \u001B[49m\u001B[43my\u001B[49m\u001B[43m,\u001B[49m\u001B[43m \u001B[49m\u001B[43msample_weight\u001B[49m\u001B[38;5;241;43m=\u001B[39;49m\u001B[43mcurr_sample_weight\u001B[49m\u001B[43m,\u001B[49m\u001B[43m \u001B[49m\u001B[43mcheck_input\u001B[49m\u001B[38;5;241;43m=\u001B[39;49m\u001B[38;5;28;43;01mFalse\u001B[39;49;00m\u001B[43m)\u001B[49m\n\u001B[0;32m    169\u001B[0m \u001B[38;5;28;01melse\u001B[39;00m:\n\u001B[0;32m    170\u001B[0m     tree\u001B[38;5;241m.\u001B[39mfit(X, y, sample_weight\u001B[38;5;241m=\u001B[39msample_weight, check_input\u001B[38;5;241m=\u001B[39m\u001B[38;5;28;01mFalse\u001B[39;00m)\n",
      "File \u001B[1;32m~\\miniconda3\\envs\\pycaret2\\lib\\site-packages\\sklearn\\tree\\_classes.py:1242\u001B[0m, in \u001B[0;36mDecisionTreeRegressor.fit\u001B[1;34m(self, X, y, sample_weight, check_input, X_idx_sorted)\u001B[0m\n\u001B[0;32m   1205\u001B[0m \u001B[38;5;28;01mdef\u001B[39;00m \u001B[38;5;21mfit\u001B[39m(\u001B[38;5;28mself\u001B[39m, X, y, sample_weight\u001B[38;5;241m=\u001B[39m\u001B[38;5;28;01mNone\u001B[39;00m, check_input\u001B[38;5;241m=\u001B[39m\u001B[38;5;28;01mTrue\u001B[39;00m,\n\u001B[0;32m   1206\u001B[0m         X_idx_sorted\u001B[38;5;241m=\u001B[39m\u001B[38;5;28;01mNone\u001B[39;00m):\n\u001B[0;32m   1207\u001B[0m     \u001B[38;5;124;03m\"\"\"Build a decision tree regressor from the training set (X, y).\u001B[39;00m\n\u001B[0;32m   1208\u001B[0m \n\u001B[0;32m   1209\u001B[0m \u001B[38;5;124;03m    Parameters\u001B[39;00m\n\u001B[1;32m   (...)\u001B[0m\n\u001B[0;32m   1239\u001B[0m \u001B[38;5;124;03m        Fitted estimator.\u001B[39;00m\n\u001B[0;32m   1240\u001B[0m \u001B[38;5;124;03m    \"\"\"\u001B[39;00m\n\u001B[1;32m-> 1242\u001B[0m     \u001B[38;5;28;43msuper\u001B[39;49m\u001B[43m(\u001B[49m\u001B[43m)\u001B[49m\u001B[38;5;241;43m.\u001B[39;49m\u001B[43mfit\u001B[49m\u001B[43m(\u001B[49m\n\u001B[0;32m   1243\u001B[0m \u001B[43m        \u001B[49m\u001B[43mX\u001B[49m\u001B[43m,\u001B[49m\u001B[43m \u001B[49m\u001B[43my\u001B[49m\u001B[43m,\u001B[49m\n\u001B[0;32m   1244\u001B[0m \u001B[43m        \u001B[49m\u001B[43msample_weight\u001B[49m\u001B[38;5;241;43m=\u001B[39;49m\u001B[43msample_weight\u001B[49m\u001B[43m,\u001B[49m\n\u001B[0;32m   1245\u001B[0m \u001B[43m        \u001B[49m\u001B[43mcheck_input\u001B[49m\u001B[38;5;241;43m=\u001B[39;49m\u001B[43mcheck_input\u001B[49m\u001B[43m,\u001B[49m\n\u001B[0;32m   1246\u001B[0m \u001B[43m        \u001B[49m\u001B[43mX_idx_sorted\u001B[49m\u001B[38;5;241;43m=\u001B[39;49m\u001B[43mX_idx_sorted\u001B[49m\u001B[43m)\u001B[49m\n\u001B[0;32m   1247\u001B[0m     \u001B[38;5;28;01mreturn\u001B[39;00m \u001B[38;5;28mself\u001B[39m\n",
      "File \u001B[1;32m~\\miniconda3\\envs\\pycaret2\\lib\\site-packages\\sklearn\\tree\\_classes.py:375\u001B[0m, in \u001B[0;36mBaseDecisionTree.fit\u001B[1;34m(self, X, y, sample_weight, check_input, X_idx_sorted)\u001B[0m\n\u001B[0;32m    366\u001B[0m \u001B[38;5;28;01melse\u001B[39;00m:\n\u001B[0;32m    367\u001B[0m     builder \u001B[38;5;241m=\u001B[39m BestFirstTreeBuilder(splitter, min_samples_split,\n\u001B[0;32m    368\u001B[0m                                    min_samples_leaf,\n\u001B[0;32m    369\u001B[0m                                    min_weight_leaf,\n\u001B[1;32m   (...)\u001B[0m\n\u001B[0;32m    372\u001B[0m                                    \u001B[38;5;28mself\u001B[39m\u001B[38;5;241m.\u001B[39mmin_impurity_decrease,\n\u001B[0;32m    373\u001B[0m                                    min_impurity_split)\n\u001B[1;32m--> 375\u001B[0m \u001B[43mbuilder\u001B[49m\u001B[38;5;241;43m.\u001B[39;49m\u001B[43mbuild\u001B[49m\u001B[43m(\u001B[49m\u001B[38;5;28;43mself\u001B[39;49m\u001B[38;5;241;43m.\u001B[39;49m\u001B[43mtree_\u001B[49m\u001B[43m,\u001B[49m\u001B[43m \u001B[49m\u001B[43mX\u001B[49m\u001B[43m,\u001B[49m\u001B[43m \u001B[49m\u001B[43my\u001B[49m\u001B[43m,\u001B[49m\u001B[43m \u001B[49m\u001B[43msample_weight\u001B[49m\u001B[43m,\u001B[49m\u001B[43m \u001B[49m\u001B[43mX_idx_sorted\u001B[49m\u001B[43m)\u001B[49m\n\u001B[0;32m    377\u001B[0m \u001B[38;5;28;01mif\u001B[39;00m \u001B[38;5;28mself\u001B[39m\u001B[38;5;241m.\u001B[39mn_outputs_ \u001B[38;5;241m==\u001B[39m \u001B[38;5;241m1\u001B[39m \u001B[38;5;129;01mand\u001B[39;00m is_classifier(\u001B[38;5;28mself\u001B[39m):\n\u001B[0;32m    378\u001B[0m     \u001B[38;5;28mself\u001B[39m\u001B[38;5;241m.\u001B[39mn_classes_ \u001B[38;5;241m=\u001B[39m \u001B[38;5;28mself\u001B[39m\u001B[38;5;241m.\u001B[39mn_classes_[\u001B[38;5;241m0\u001B[39m]\n",
      "\u001B[1;31mKeyboardInterrupt\u001B[0m: "
     ]
    }
   ],
   "source": [
    "# 조합 5개\n",
    "import itertools\n",
    "*combo, = itertools.combinations(train[features].columns, 5)\n",
    "print(len(combo))\n",
    "\n",
    "for i in range(len(combo)):\n",
    "    # 여기랑\n",
    "    # 여기에 다짜고짜 test4를 넣는다고 대치가 안됨\n",
    "    original_combo_repeat = train.loc[:, [test4]]\n",
    "    original_combo_repeat = pd.concat([original_combo_repeat, train['leadtime']], axis=1)\n",
    "    from pycaret.regression import *\n",
    "    multi = MultiColumnLabelEncoder(columns=original_combo_repeat)\n",
    "    X = multi.fit_transform(original_combo_repeat)\n",
    "    # 여기를 바꿔줘야 됨\n",
    "    features_combo_repeat = X.iloc[:, 0:5].columns\n",
    "    from sklearn.model_selection import train_test_split\n",
    "    x_train, x_test, y_train, y_test = train_test_split(X[features_combo_repeat], X['leadtime'])\n",
    "    from sklearn.ensemble import RandomForestRegressor\n",
    "    random_forest = RandomForestRegressor()\n",
    "    model_rf = random_forest.fit(x_train, y_train)\n",
    "    y_pred = random_forest.predict(x_test)\n",
    "    y_pred_df = pd.DataFrame(y_pred)\n",
    "    y_pred_df.columns = ['predicted']\n",
    "    y_pred_df = y_pred_df.astype(int)\n",
    "    TR = pd.concat([x_train[features_combo_repeat], y_train], axis=1)\n",
    "    VAL = pd.concat([x_test[features_combo_repeat], y_test], axis=1)\n",
    "    VAL2 = VAL.reset_index(drop=True)\n",
    "    temp = pd.concat([y_pred_df, VAL2], axis=1)\n",
    "    temp_inv = multi.inverse_transform(temp)\n",
    "    # temp_inv['차이'] = (temp_inv['predicted'] - temp_inv['leadtime']).abs()\n",
    "    temp_inv = temp_inv.reset_index(drop=True)\n",
    "    from sklearn.metrics import mean_squared_error, mean_squared_log_error, mean_absolute_error\n",
    "    official_y_true = temp_inv['leadtime']\n",
    "    official_y_pred = temp_inv['predicted']\n",
    "    '''\n",
    "    feature를 다 때려넣고 만든 rmse가 57이었다.\n",
    "    그것보다 더 낮은 mse값이 존재할까?\n",
    "    현재 rmse 23\n",
    "    '''\n",
    "    print(i, end=' ')\n",
    "    if (mean_squared_error(official_y_true, official_y_pred)**0.5) < 21:\n",
    "        print(features_combo_repeat)\n",
    "        print('**rmse    ', mean_squared_error(official_y_true, official_y_pred)**0.5)\n",
    "        print('**msle   ', mean_squared_log_error(official_y_true, official_y_pred))\n",
    "        print('**absolute   ', mean_absolute_error(official_y_true, official_y_pred))"
   ],
   "metadata": {
    "collapsed": false
   }
  }
 ],
 "metadata": {
  "kernelspec": {
   "display_name": "Python 3",
   "language": "python",
   "name": "python3"
  },
  "language_info": {
   "codemirror_mode": {
    "name": "ipython",
    "version": 2
   },
   "file_extension": ".py",
   "mimetype": "text/x-python",
   "name": "python",
   "nbconvert_exporter": "python",
   "pygments_lexer": "ipython2",
   "version": "2.7.6"
  }
 },
 "nbformat": 4,
 "nbformat_minor": 0
}
