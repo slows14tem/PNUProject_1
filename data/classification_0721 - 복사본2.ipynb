{
 "cells": [
  {
   "cell_type": "code",
   "execution_count": 1,
   "metadata": {
    "collapsed": false
   },
   "outputs": [],
   "source": [
    "# 이제 필요없는 거는 날릴 때도 됐다."
   ]
  },
  {
   "cell_type": "code",
   "execution_count": 20,
   "metadata": {
    "collapsed": false
   },
   "outputs": [],
   "source": [
    "#한글 폰트 사용\n",
    "from matplotlib import font_manager,rc\n",
    "#폰트 경로\n",
    "font_path = \"C:/Users/user/AppData/Local/Microsoft/Windows/Fonts/NanumBarunGothic.ttf\"\n",
    "font_name = font_manager.FontProperties(fname=font_path).get_name()"
   ]
  },
  {
   "cell_type": "code",
   "execution_count": 21,
   "metadata": {
    "colab": {
     "base_uri": "https://localhost:8080/",
     "height": 296
    },
    "id": "gI7n8Qzc-0BE",
    "outputId": "11a1987c-1870-403c-cdd8-726dab3c57a0"
   },
   "outputs": [],
   "source": [
    "import pandas as pd\n",
    "import numpy as np\n",
    "import keras\n",
    "import pymysql\n",
    "from sklearn import preprocessing"
   ]
  },
  {
   "cell_type": "code",
   "execution_count": 22,
   "metadata": {
    "colab": {
     "base_uri": "https://localhost:8080/",
     "height": 523
    },
    "id": "xNN2Y6NT_HRL",
    "outputId": "f4244e39-9116-4c07-cde0-c6ac43b8aa8d"
   },
   "outputs": [],
   "source": [
    "# db 연결\n",
    "\n",
    "conn=pymysql.connect(host='***.com',port=3306,\n",
    "                    user='***',password='***',db='bigdata', cursorclass=pymysql.cursors.DictCursor)\n",
    "cursor = conn.cursor()\n",
    "sql = \"select * from original\"\n",
    "cursor.execute(sql)\n",
    "result = cursor.fetchall()\n",
    "conn.close()\n",
    "train = pd.DataFrame(result)\n"
   ]
  },
  {
   "cell_type": "code",
   "execution_count": 23,
   "metadata": {
    "collapsed": false
   },
   "outputs": [
    {
     "data": {
      "text/plain": "Index(['id', 'cheongguseobeonho', 'no', 'subject_', 'machinery', 'assembly',\n       'items', 'part1', 'Part2', 'key1', 'key2', 'leadtime', 'cheongguryang',\n       'gyeonjeok', 'gyeonjeoksuryang', 'gyeonjeokhwapye', 'gyeonjeokdanga',\n       'baljubeonho', 'baljucheo', 'balju', 'baljusuryang', 'baljugeumaek',\n       'dt', 'miipgogigan', 'changgoipgo', 'changgoipgosuryang', 'control_no',\n       'ipgochanggo', 'changgochulgo', 'changgochulgosuryang', 'chulgoseonbak',\n       'chulgounbanseon', 'seonbagipgo', 'seonbagipgosuryang', 'wallyo_yeobu'],\n      dtype='object')"
     },
     "execution_count": 23,
     "metadata": {},
     "output_type": "execute_result"
    }
   ],
   "source": [
    "train\n",
    "train.columns"
   ]
  },
  {
   "cell_type": "code",
   "execution_count": 24,
   "metadata": {
    "id": "3l1uVcfUmZq3"
   },
   "outputs": [],
   "source": [
    "label_encoder = preprocessing.LabelEncoder()"
   ]
  },
  {
   "cell_type": "code",
   "execution_count": 25,
   "metadata": {
    "id": "9fvRwPKy-y0k"
   },
   "outputs": [],
   "source": [
    "'''\n",
    "그러니까 이걸 왜 골랐는지 설명을 해라.\n",
    "subject_ 이런 거 고를 수 있다 key2를 분석하는데 필요한 engine같은 단어가 있잖아.\n",
    "machinery 마찬가지고.\n",
    "assembly에도 그런 key2와 유사한 키워드가 포함되어 있다.\n",
    "part1 뺄 수 있을 것같다. 그런 차원에서 본다면 큰 의미가 없지 않나.\n",
    "예전에 R에서 넣어봤을 때 물론 넣은게 accuracy가 더 높긴 했다.\n",
    "'''\n",
    "train['subject'] = label_encoder.fit_transform(train['subject_'])\n",
    "train['machinery']= label_encoder.fit_transform(train['machinery'])\n",
    "train['assembly']= label_encoder.fit_transform(train['assembly'])\n",
    "train['items']= label_encoder.fit_transform(train['items'])"
   ]
  },
  {
   "cell_type": "code",
   "execution_count": 26,
   "metadata": {
    "id": "iompzPX9_a6Y"
   },
   "outputs": [],
   "source": [
    "columns= ['machinery'  , 'assembly' , 'items', 'subject', 'key2']\n",
    "features= ['machinery'  , 'assembly' , 'items', 'subject' ]\n",
    "target= ['key2']"
   ]
  },
  {
   "cell_type": "markdown",
   "metadata": {
    "id": "94Oco_zI_52N"
   },
   "source": [
    "data_Encode 에 해당 컬럼들을 넣는다."
   ]
  },
  {
   "cell_type": "code",
   "execution_count": 27,
   "metadata": {
    "colab": {
     "base_uri": "https://localhost:8080/"
    },
    "id": "wf8K6U3f_3rr",
    "outputId": "280ed532-6a69-4ca4-c503-04679612e35a"
   },
   "outputs": [
    {
     "data": {
      "text/plain": "       machinery  assembly  items  subject      key2\n0            109       295   4906      953    COOLER\n1            114      1201   3733     1673    COOLER\n2            114       220   5995     1674    COOLER\n3            109        83    700       10    COOLER\n4            109       251   4736      524    COOLER\n...          ...       ...    ...      ...       ...\n21079         64       488   2839      258  CYLINDER\n21080         64       488   2838      256  CYLINDER\n21081          0       919   4200      576      BELT\n21082          5      1231   1601      237  CYLINDER\n21083          5      1231   4775      237  CYLINDER\n\n[21084 rows x 5 columns]",
      "text/html": "<div>\n<style scoped>\n    .dataframe tbody tr th:only-of-type {\n        vertical-align: middle;\n    }\n\n    .dataframe tbody tr th {\n        vertical-align: top;\n    }\n\n    .dataframe thead th {\n        text-align: right;\n    }\n</style>\n<table border=\"1\" class=\"dataframe\">\n  <thead>\n    <tr style=\"text-align: right;\">\n      <th></th>\n      <th>machinery</th>\n      <th>assembly</th>\n      <th>items</th>\n      <th>subject</th>\n      <th>key2</th>\n    </tr>\n  </thead>\n  <tbody>\n    <tr>\n      <th>0</th>\n      <td>109</td>\n      <td>295</td>\n      <td>4906</td>\n      <td>953</td>\n      <td>COOLER</td>\n    </tr>\n    <tr>\n      <th>1</th>\n      <td>114</td>\n      <td>1201</td>\n      <td>3733</td>\n      <td>1673</td>\n      <td>COOLER</td>\n    </tr>\n    <tr>\n      <th>2</th>\n      <td>114</td>\n      <td>220</td>\n      <td>5995</td>\n      <td>1674</td>\n      <td>COOLER</td>\n    </tr>\n    <tr>\n      <th>3</th>\n      <td>109</td>\n      <td>83</td>\n      <td>700</td>\n      <td>10</td>\n      <td>COOLER</td>\n    </tr>\n    <tr>\n      <th>4</th>\n      <td>109</td>\n      <td>251</td>\n      <td>4736</td>\n      <td>524</td>\n      <td>COOLER</td>\n    </tr>\n    <tr>\n      <th>...</th>\n      <td>...</td>\n      <td>...</td>\n      <td>...</td>\n      <td>...</td>\n      <td>...</td>\n    </tr>\n    <tr>\n      <th>21079</th>\n      <td>64</td>\n      <td>488</td>\n      <td>2839</td>\n      <td>258</td>\n      <td>CYLINDER</td>\n    </tr>\n    <tr>\n      <th>21080</th>\n      <td>64</td>\n      <td>488</td>\n      <td>2838</td>\n      <td>256</td>\n      <td>CYLINDER</td>\n    </tr>\n    <tr>\n      <th>21081</th>\n      <td>0</td>\n      <td>919</td>\n      <td>4200</td>\n      <td>576</td>\n      <td>BELT</td>\n    </tr>\n    <tr>\n      <th>21082</th>\n      <td>5</td>\n      <td>1231</td>\n      <td>1601</td>\n      <td>237</td>\n      <td>CYLINDER</td>\n    </tr>\n    <tr>\n      <th>21083</th>\n      <td>5</td>\n      <td>1231</td>\n      <td>4775</td>\n      <td>237</td>\n      <td>CYLINDER</td>\n    </tr>\n  </tbody>\n</table>\n<p>21084 rows × 5 columns</p>\n</div>"
     },
     "execution_count": 27,
     "metadata": {},
     "output_type": "execute_result"
    }
   ],
   "source": [
    "data_Encode= train[columns]\n",
    "data_Encode"
   ]
  },
  {
   "cell_type": "code",
   "execution_count": 28,
   "metadata": {
    "id": "u6HiBSebBNTi"
   },
   "outputs": [],
   "source": [
    "from sklearn.model_selection import train_test_split"
   ]
  },
  {
   "cell_type": "code",
   "execution_count": 29,
   "metadata": {
    "id": "4Vv44_epBysq"
   },
   "outputs": [],
   "source": [
    "# y에 key2가 들어있는 거임.\n",
    "# 이거를 키려면 numpy가 1.24.0 미만이어야 됨. pip install \"numpy<1.24.0\"\n",
    "X_tr, X_val, y_tr, y_val = train_test_split(data_Encode[features], data_Encode[target], stratify = data_Encode[target], test_size= 0.3)"
   ]
  },
  {
   "cell_type": "code",
   "execution_count": 30,
   "metadata": {
    "colab": {
     "base_uri": "https://localhost:8080/"
    },
    "id": "lgM1ntqnCg5n",
    "outputId": "15d82930-b5d3-47c4-a6b8-985dc9167639"
   },
   "outputs": [],
   "source": [
    "from pycaret.classification import *"
   ]
  },
  {
   "cell_type": "code",
   "execution_count": 31,
   "metadata": {
    "id": "jT4xTIZHC7cj"
   },
   "outputs": [],
   "source": [
    "# train, validation\n",
    "TR = pd.concat([X_tr, y_tr], axis=1)\n",
    "VAL = pd.concat([X_val, y_val], axis=1)"
   ]
  },
  {
   "cell_type": "markdown",
   "metadata": {
    "id": "KD2C-Na_FxEp"
   },
   "source": [
    "환경설정"
   ]
  },
  {
   "cell_type": "code",
   "execution_count": 32,
   "metadata": {
    "colab": {
     "base_uri": "https://localhost:8080/",
     "height": 1000,
     "referenced_widgets": [
      "3111ae3e318f417a99bab6122ac73c94",
      "2c5370c8d0ec49a98f2c99bc7faf84b8",
      "30e2c615576942a8ac4e5320548e084f",
      "eb1f183c7f0441d98df36965646b9b43",
      "90f54d7eaa2148c9b39623090d0f40d6",
      "b281c8748cd74d12b267596ce93daeb6"
     ]
    },
    "id": "sJ9mlGDkFgY1",
    "outputId": "80a5fa70-6683-4c11-d991-e5f04607ee30"
   },
   "outputs": [
    {
     "data": {
      "text/plain": "<pandas.io.formats.style.Styler at 0x1f721a90ac0>",
      "text/html": "<style type=\"text/css\">\n#T_bf1e7_row18_col1, #T_bf1e7_row44_col1 {\n  background-color: lightgreen;\n}\n</style>\n<table id=\"T_bf1e7\">\n  <thead>\n    <tr>\n      <th class=\"blank level0\" >&nbsp;</th>\n      <th id=\"T_bf1e7_level0_col0\" class=\"col_heading level0 col0\" >Description</th>\n      <th id=\"T_bf1e7_level0_col1\" class=\"col_heading level0 col1\" >Value</th>\n    </tr>\n  </thead>\n  <tbody>\n    <tr>\n      <th id=\"T_bf1e7_level0_row0\" class=\"row_heading level0 row0\" >0</th>\n      <td id=\"T_bf1e7_row0_col0\" class=\"data row0 col0\" >session_id</td>\n      <td id=\"T_bf1e7_row0_col1\" class=\"data row0 col1\" >8970</td>\n    </tr>\n    <tr>\n      <th id=\"T_bf1e7_level0_row1\" class=\"row_heading level0 row1\" >1</th>\n      <td id=\"T_bf1e7_row1_col0\" class=\"data row1 col0\" >Target</td>\n      <td id=\"T_bf1e7_row1_col1\" class=\"data row1 col1\" >key2</td>\n    </tr>\n    <tr>\n      <th id=\"T_bf1e7_level0_row2\" class=\"row_heading level0 row2\" >2</th>\n      <td id=\"T_bf1e7_row2_col0\" class=\"data row2 col0\" >Target Type</td>\n      <td id=\"T_bf1e7_row2_col1\" class=\"data row2 col1\" >Multiclass</td>\n    </tr>\n    <tr>\n      <th id=\"T_bf1e7_level0_row3\" class=\"row_heading level0 row3\" >3</th>\n      <td id=\"T_bf1e7_row3_col0\" class=\"data row3 col0\" >Label Encoded</td>\n      <td id=\"T_bf1e7_row3_col1\" class=\"data row3 col1\" >ADAPTER: 0, ANODES: 1, ARM: 2, BATTERY: 3, BEARING: 4, BELT: 5, BINO: 6, BLOCK: 7, BOLT: 8, BRAKE: 9, BUSHING: 10, CARD: 11, CARTRIDGE: 12, CLAMP: 13, CLIP: 14, COMPRESSOR: 15, CONNECTING ROD: 16, CONTROL: 17, COOLER: 18, COVER: 19, CYLINDER: 20, DAMPER: 21, DISC: 22, FILTER: 23, GASKET: 24, GAUGE: 25, GEAR: 26, GENERATOR: 27, HARNESS: 28, HOSE: 29, INJECTOR: 30, KEY: 31, LINE: 32, LINK: 33, LIQUID: 34, MANIFOLD: 35, MONITOR: 36, MOTOR: 37, NET: 38, NUT: 39, O-RING: 40, PIN: 41, PIPE: 42, PISTON: 43, PLATE: 44, PUMP: 45, SCREW: 46, SEAT: 47, SHAFT: 48, SPACER: 49, SPRING: 50, SWITCH: 51, TOOL: 52, TRANSFORMER: 53, TUBE: 54, TURBINE: 55, UNIT: 56, VALVE: 57, WASHER: 58, WINCH: 59, WIRE: 60</td>\n    </tr>\n    <tr>\n      <th id=\"T_bf1e7_level0_row4\" class=\"row_heading level0 row4\" >4</th>\n      <td id=\"T_bf1e7_row4_col0\" class=\"data row4 col0\" >Original Data</td>\n      <td id=\"T_bf1e7_row4_col1\" class=\"data row4 col1\" >(14758, 5)</td>\n    </tr>\n    <tr>\n      <th id=\"T_bf1e7_level0_row5\" class=\"row_heading level0 row5\" >5</th>\n      <td id=\"T_bf1e7_row5_col0\" class=\"data row5 col0\" >Missing Values</td>\n      <td id=\"T_bf1e7_row5_col1\" class=\"data row5 col1\" >False</td>\n    </tr>\n    <tr>\n      <th id=\"T_bf1e7_level0_row6\" class=\"row_heading level0 row6\" >6</th>\n      <td id=\"T_bf1e7_row6_col0\" class=\"data row6 col0\" >Numeric Features</td>\n      <td id=\"T_bf1e7_row6_col1\" class=\"data row6 col1\" >0</td>\n    </tr>\n    <tr>\n      <th id=\"T_bf1e7_level0_row7\" class=\"row_heading level0 row7\" >7</th>\n      <td id=\"T_bf1e7_row7_col0\" class=\"data row7 col0\" >Categorical Features</td>\n      <td id=\"T_bf1e7_row7_col1\" class=\"data row7 col1\" >4</td>\n    </tr>\n    <tr>\n      <th id=\"T_bf1e7_level0_row8\" class=\"row_heading level0 row8\" >8</th>\n      <td id=\"T_bf1e7_row8_col0\" class=\"data row8 col0\" >Ordinal Features</td>\n      <td id=\"T_bf1e7_row8_col1\" class=\"data row8 col1\" >False</td>\n    </tr>\n    <tr>\n      <th id=\"T_bf1e7_level0_row9\" class=\"row_heading level0 row9\" >9</th>\n      <td id=\"T_bf1e7_row9_col0\" class=\"data row9 col0\" >High Cardinality Features</td>\n      <td id=\"T_bf1e7_row9_col1\" class=\"data row9 col1\" >False</td>\n    </tr>\n    <tr>\n      <th id=\"T_bf1e7_level0_row10\" class=\"row_heading level0 row10\" >10</th>\n      <td id=\"T_bf1e7_row10_col0\" class=\"data row10 col0\" >High Cardinality Method</td>\n      <td id=\"T_bf1e7_row10_col1\" class=\"data row10 col1\" >None</td>\n    </tr>\n    <tr>\n      <th id=\"T_bf1e7_level0_row11\" class=\"row_heading level0 row11\" >11</th>\n      <td id=\"T_bf1e7_row11_col0\" class=\"data row11 col0\" >Transformed Train Set</td>\n      <td id=\"T_bf1e7_row11_col1\" class=\"data row11 col1\" >(10330, 6513)</td>\n    </tr>\n    <tr>\n      <th id=\"T_bf1e7_level0_row12\" class=\"row_heading level0 row12\" >12</th>\n      <td id=\"T_bf1e7_row12_col0\" class=\"data row12 col0\" >Transformed Test Set</td>\n      <td id=\"T_bf1e7_row12_col1\" class=\"data row12 col1\" >(4428, 6513)</td>\n    </tr>\n    <tr>\n      <th id=\"T_bf1e7_level0_row13\" class=\"row_heading level0 row13\" >13</th>\n      <td id=\"T_bf1e7_row13_col0\" class=\"data row13 col0\" >Shuffle Train-Test</td>\n      <td id=\"T_bf1e7_row13_col1\" class=\"data row13 col1\" >True</td>\n    </tr>\n    <tr>\n      <th id=\"T_bf1e7_level0_row14\" class=\"row_heading level0 row14\" >14</th>\n      <td id=\"T_bf1e7_row14_col0\" class=\"data row14 col0\" >Stratify Train-Test</td>\n      <td id=\"T_bf1e7_row14_col1\" class=\"data row14 col1\" >False</td>\n    </tr>\n    <tr>\n      <th id=\"T_bf1e7_level0_row15\" class=\"row_heading level0 row15\" >15</th>\n      <td id=\"T_bf1e7_row15_col0\" class=\"data row15 col0\" >Fold Generator</td>\n      <td id=\"T_bf1e7_row15_col1\" class=\"data row15 col1\" >StratifiedKFold</td>\n    </tr>\n    <tr>\n      <th id=\"T_bf1e7_level0_row16\" class=\"row_heading level0 row16\" >16</th>\n      <td id=\"T_bf1e7_row16_col0\" class=\"data row16 col0\" >Fold Number</td>\n      <td id=\"T_bf1e7_row16_col1\" class=\"data row16 col1\" >10</td>\n    </tr>\n    <tr>\n      <th id=\"T_bf1e7_level0_row17\" class=\"row_heading level0 row17\" >17</th>\n      <td id=\"T_bf1e7_row17_col0\" class=\"data row17 col0\" >CPU Jobs</td>\n      <td id=\"T_bf1e7_row17_col1\" class=\"data row17 col1\" >-1</td>\n    </tr>\n    <tr>\n      <th id=\"T_bf1e7_level0_row18\" class=\"row_heading level0 row18\" >18</th>\n      <td id=\"T_bf1e7_row18_col0\" class=\"data row18 col0\" >Use GPU</td>\n      <td id=\"T_bf1e7_row18_col1\" class=\"data row18 col1\" >True</td>\n    </tr>\n    <tr>\n      <th id=\"T_bf1e7_level0_row19\" class=\"row_heading level0 row19\" >19</th>\n      <td id=\"T_bf1e7_row19_col0\" class=\"data row19 col0\" >Log Experiment</td>\n      <td id=\"T_bf1e7_row19_col1\" class=\"data row19 col1\" >False</td>\n    </tr>\n    <tr>\n      <th id=\"T_bf1e7_level0_row20\" class=\"row_heading level0 row20\" >20</th>\n      <td id=\"T_bf1e7_row20_col0\" class=\"data row20 col0\" >Experiment Name</td>\n      <td id=\"T_bf1e7_row20_col1\" class=\"data row20 col1\" >clf-default-name</td>\n    </tr>\n    <tr>\n      <th id=\"T_bf1e7_level0_row21\" class=\"row_heading level0 row21\" >21</th>\n      <td id=\"T_bf1e7_row21_col0\" class=\"data row21 col0\" >USI</td>\n      <td id=\"T_bf1e7_row21_col1\" class=\"data row21 col1\" >fed3</td>\n    </tr>\n    <tr>\n      <th id=\"T_bf1e7_level0_row22\" class=\"row_heading level0 row22\" >22</th>\n      <td id=\"T_bf1e7_row22_col0\" class=\"data row22 col0\" >Imputation Type</td>\n      <td id=\"T_bf1e7_row22_col1\" class=\"data row22 col1\" >simple</td>\n    </tr>\n    <tr>\n      <th id=\"T_bf1e7_level0_row23\" class=\"row_heading level0 row23\" >23</th>\n      <td id=\"T_bf1e7_row23_col0\" class=\"data row23 col0\" >Iterative Imputation Iteration</td>\n      <td id=\"T_bf1e7_row23_col1\" class=\"data row23 col1\" >None</td>\n    </tr>\n    <tr>\n      <th id=\"T_bf1e7_level0_row24\" class=\"row_heading level0 row24\" >24</th>\n      <td id=\"T_bf1e7_row24_col0\" class=\"data row24 col0\" >Numeric Imputer</td>\n      <td id=\"T_bf1e7_row24_col1\" class=\"data row24 col1\" >mean</td>\n    </tr>\n    <tr>\n      <th id=\"T_bf1e7_level0_row25\" class=\"row_heading level0 row25\" >25</th>\n      <td id=\"T_bf1e7_row25_col0\" class=\"data row25 col0\" >Iterative Imputation Numeric Model</td>\n      <td id=\"T_bf1e7_row25_col1\" class=\"data row25 col1\" >None</td>\n    </tr>\n    <tr>\n      <th id=\"T_bf1e7_level0_row26\" class=\"row_heading level0 row26\" >26</th>\n      <td id=\"T_bf1e7_row26_col0\" class=\"data row26 col0\" >Categorical Imputer</td>\n      <td id=\"T_bf1e7_row26_col1\" class=\"data row26 col1\" >constant</td>\n    </tr>\n    <tr>\n      <th id=\"T_bf1e7_level0_row27\" class=\"row_heading level0 row27\" >27</th>\n      <td id=\"T_bf1e7_row27_col0\" class=\"data row27 col0\" >Iterative Imputation Categorical Model</td>\n      <td id=\"T_bf1e7_row27_col1\" class=\"data row27 col1\" >None</td>\n    </tr>\n    <tr>\n      <th id=\"T_bf1e7_level0_row28\" class=\"row_heading level0 row28\" >28</th>\n      <td id=\"T_bf1e7_row28_col0\" class=\"data row28 col0\" >Unknown Categoricals Handling</td>\n      <td id=\"T_bf1e7_row28_col1\" class=\"data row28 col1\" >least_frequent</td>\n    </tr>\n    <tr>\n      <th id=\"T_bf1e7_level0_row29\" class=\"row_heading level0 row29\" >29</th>\n      <td id=\"T_bf1e7_row29_col0\" class=\"data row29 col0\" >Normalize</td>\n      <td id=\"T_bf1e7_row29_col1\" class=\"data row29 col1\" >False</td>\n    </tr>\n    <tr>\n      <th id=\"T_bf1e7_level0_row30\" class=\"row_heading level0 row30\" >30</th>\n      <td id=\"T_bf1e7_row30_col0\" class=\"data row30 col0\" >Normalize Method</td>\n      <td id=\"T_bf1e7_row30_col1\" class=\"data row30 col1\" >None</td>\n    </tr>\n    <tr>\n      <th id=\"T_bf1e7_level0_row31\" class=\"row_heading level0 row31\" >31</th>\n      <td id=\"T_bf1e7_row31_col0\" class=\"data row31 col0\" >Transformation</td>\n      <td id=\"T_bf1e7_row31_col1\" class=\"data row31 col1\" >False</td>\n    </tr>\n    <tr>\n      <th id=\"T_bf1e7_level0_row32\" class=\"row_heading level0 row32\" >32</th>\n      <td id=\"T_bf1e7_row32_col0\" class=\"data row32 col0\" >Transformation Method</td>\n      <td id=\"T_bf1e7_row32_col1\" class=\"data row32 col1\" >None</td>\n    </tr>\n    <tr>\n      <th id=\"T_bf1e7_level0_row33\" class=\"row_heading level0 row33\" >33</th>\n      <td id=\"T_bf1e7_row33_col0\" class=\"data row33 col0\" >PCA</td>\n      <td id=\"T_bf1e7_row33_col1\" class=\"data row33 col1\" >False</td>\n    </tr>\n    <tr>\n      <th id=\"T_bf1e7_level0_row34\" class=\"row_heading level0 row34\" >34</th>\n      <td id=\"T_bf1e7_row34_col0\" class=\"data row34 col0\" >PCA Method</td>\n      <td id=\"T_bf1e7_row34_col1\" class=\"data row34 col1\" >None</td>\n    </tr>\n    <tr>\n      <th id=\"T_bf1e7_level0_row35\" class=\"row_heading level0 row35\" >35</th>\n      <td id=\"T_bf1e7_row35_col0\" class=\"data row35 col0\" >PCA Components</td>\n      <td id=\"T_bf1e7_row35_col1\" class=\"data row35 col1\" >None</td>\n    </tr>\n    <tr>\n      <th id=\"T_bf1e7_level0_row36\" class=\"row_heading level0 row36\" >36</th>\n      <td id=\"T_bf1e7_row36_col0\" class=\"data row36 col0\" >Ignore Low Variance</td>\n      <td id=\"T_bf1e7_row36_col1\" class=\"data row36 col1\" >False</td>\n    </tr>\n    <tr>\n      <th id=\"T_bf1e7_level0_row37\" class=\"row_heading level0 row37\" >37</th>\n      <td id=\"T_bf1e7_row37_col0\" class=\"data row37 col0\" >Combine Rare Levels</td>\n      <td id=\"T_bf1e7_row37_col1\" class=\"data row37 col1\" >False</td>\n    </tr>\n    <tr>\n      <th id=\"T_bf1e7_level0_row38\" class=\"row_heading level0 row38\" >38</th>\n      <td id=\"T_bf1e7_row38_col0\" class=\"data row38 col0\" >Rare Level Threshold</td>\n      <td id=\"T_bf1e7_row38_col1\" class=\"data row38 col1\" >None</td>\n    </tr>\n    <tr>\n      <th id=\"T_bf1e7_level0_row39\" class=\"row_heading level0 row39\" >39</th>\n      <td id=\"T_bf1e7_row39_col0\" class=\"data row39 col0\" >Numeric Binning</td>\n      <td id=\"T_bf1e7_row39_col1\" class=\"data row39 col1\" >False</td>\n    </tr>\n    <tr>\n      <th id=\"T_bf1e7_level0_row40\" class=\"row_heading level0 row40\" >40</th>\n      <td id=\"T_bf1e7_row40_col0\" class=\"data row40 col0\" >Remove Outliers</td>\n      <td id=\"T_bf1e7_row40_col1\" class=\"data row40 col1\" >False</td>\n    </tr>\n    <tr>\n      <th id=\"T_bf1e7_level0_row41\" class=\"row_heading level0 row41\" >41</th>\n      <td id=\"T_bf1e7_row41_col0\" class=\"data row41 col0\" >Outliers Threshold</td>\n      <td id=\"T_bf1e7_row41_col1\" class=\"data row41 col1\" >None</td>\n    </tr>\n    <tr>\n      <th id=\"T_bf1e7_level0_row42\" class=\"row_heading level0 row42\" >42</th>\n      <td id=\"T_bf1e7_row42_col0\" class=\"data row42 col0\" >Remove Multicollinearity</td>\n      <td id=\"T_bf1e7_row42_col1\" class=\"data row42 col1\" >False</td>\n    </tr>\n    <tr>\n      <th id=\"T_bf1e7_level0_row43\" class=\"row_heading level0 row43\" >43</th>\n      <td id=\"T_bf1e7_row43_col0\" class=\"data row43 col0\" >Multicollinearity Threshold</td>\n      <td id=\"T_bf1e7_row43_col1\" class=\"data row43 col1\" >None</td>\n    </tr>\n    <tr>\n      <th id=\"T_bf1e7_level0_row44\" class=\"row_heading level0 row44\" >44</th>\n      <td id=\"T_bf1e7_row44_col0\" class=\"data row44 col0\" >Remove Perfect Collinearity</td>\n      <td id=\"T_bf1e7_row44_col1\" class=\"data row44 col1\" >True</td>\n    </tr>\n    <tr>\n      <th id=\"T_bf1e7_level0_row45\" class=\"row_heading level0 row45\" >45</th>\n      <td id=\"T_bf1e7_row45_col0\" class=\"data row45 col0\" >Clustering</td>\n      <td id=\"T_bf1e7_row45_col1\" class=\"data row45 col1\" >False</td>\n    </tr>\n    <tr>\n      <th id=\"T_bf1e7_level0_row46\" class=\"row_heading level0 row46\" >46</th>\n      <td id=\"T_bf1e7_row46_col0\" class=\"data row46 col0\" >Clustering Iteration</td>\n      <td id=\"T_bf1e7_row46_col1\" class=\"data row46 col1\" >None</td>\n    </tr>\n    <tr>\n      <th id=\"T_bf1e7_level0_row47\" class=\"row_heading level0 row47\" >47</th>\n      <td id=\"T_bf1e7_row47_col0\" class=\"data row47 col0\" >Polynomial Features</td>\n      <td id=\"T_bf1e7_row47_col1\" class=\"data row47 col1\" >False</td>\n    </tr>\n    <tr>\n      <th id=\"T_bf1e7_level0_row48\" class=\"row_heading level0 row48\" >48</th>\n      <td id=\"T_bf1e7_row48_col0\" class=\"data row48 col0\" >Polynomial Degree</td>\n      <td id=\"T_bf1e7_row48_col1\" class=\"data row48 col1\" >None</td>\n    </tr>\n    <tr>\n      <th id=\"T_bf1e7_level0_row49\" class=\"row_heading level0 row49\" >49</th>\n      <td id=\"T_bf1e7_row49_col0\" class=\"data row49 col0\" >Trignometry Features</td>\n      <td id=\"T_bf1e7_row49_col1\" class=\"data row49 col1\" >False</td>\n    </tr>\n    <tr>\n      <th id=\"T_bf1e7_level0_row50\" class=\"row_heading level0 row50\" >50</th>\n      <td id=\"T_bf1e7_row50_col0\" class=\"data row50 col0\" >Polynomial Threshold</td>\n      <td id=\"T_bf1e7_row50_col1\" class=\"data row50 col1\" >None</td>\n    </tr>\n    <tr>\n      <th id=\"T_bf1e7_level0_row51\" class=\"row_heading level0 row51\" >51</th>\n      <td id=\"T_bf1e7_row51_col0\" class=\"data row51 col0\" >Group Features</td>\n      <td id=\"T_bf1e7_row51_col1\" class=\"data row51 col1\" >False</td>\n    </tr>\n    <tr>\n      <th id=\"T_bf1e7_level0_row52\" class=\"row_heading level0 row52\" >52</th>\n      <td id=\"T_bf1e7_row52_col0\" class=\"data row52 col0\" >Feature Selection</td>\n      <td id=\"T_bf1e7_row52_col1\" class=\"data row52 col1\" >False</td>\n    </tr>\n    <tr>\n      <th id=\"T_bf1e7_level0_row53\" class=\"row_heading level0 row53\" >53</th>\n      <td id=\"T_bf1e7_row53_col0\" class=\"data row53 col0\" >Feature Selection Method</td>\n      <td id=\"T_bf1e7_row53_col1\" class=\"data row53 col1\" >classic</td>\n    </tr>\n    <tr>\n      <th id=\"T_bf1e7_level0_row54\" class=\"row_heading level0 row54\" >54</th>\n      <td id=\"T_bf1e7_row54_col0\" class=\"data row54 col0\" >Features Selection Threshold</td>\n      <td id=\"T_bf1e7_row54_col1\" class=\"data row54 col1\" >None</td>\n    </tr>\n    <tr>\n      <th id=\"T_bf1e7_level0_row55\" class=\"row_heading level0 row55\" >55</th>\n      <td id=\"T_bf1e7_row55_col0\" class=\"data row55 col0\" >Feature Interaction</td>\n      <td id=\"T_bf1e7_row55_col1\" class=\"data row55 col1\" >False</td>\n    </tr>\n    <tr>\n      <th id=\"T_bf1e7_level0_row56\" class=\"row_heading level0 row56\" >56</th>\n      <td id=\"T_bf1e7_row56_col0\" class=\"data row56 col0\" >Feature Ratio</td>\n      <td id=\"T_bf1e7_row56_col1\" class=\"data row56 col1\" >False</td>\n    </tr>\n    <tr>\n      <th id=\"T_bf1e7_level0_row57\" class=\"row_heading level0 row57\" >57</th>\n      <td id=\"T_bf1e7_row57_col0\" class=\"data row57 col0\" >Interaction Threshold</td>\n      <td id=\"T_bf1e7_row57_col1\" class=\"data row57 col1\" >None</td>\n    </tr>\n    <tr>\n      <th id=\"T_bf1e7_level0_row58\" class=\"row_heading level0 row58\" >58</th>\n      <td id=\"T_bf1e7_row58_col0\" class=\"data row58 col0\" >Fix Imbalance</td>\n      <td id=\"T_bf1e7_row58_col1\" class=\"data row58 col1\" >False</td>\n    </tr>\n    <tr>\n      <th id=\"T_bf1e7_level0_row59\" class=\"row_heading level0 row59\" >59</th>\n      <td id=\"T_bf1e7_row59_col0\" class=\"data row59 col0\" >Fix Imbalance Method</td>\n      <td id=\"T_bf1e7_row59_col1\" class=\"data row59 col1\" >SMOTE</td>\n    </tr>\n  </tbody>\n</table>\n"
     },
     "metadata": {},
     "output_type": "display_data"
    }
   ],
   "source": [
    "clf= setup(data=TR, target='key2', use_gpu=True, categorical_features=['machinery'  , 'assembly' , 'items', 'subject'])\n",
    "# categorical을 안 주면 label을 숫자로 주니까 쓸 수가 없음\n",
    "# clf= setup(data=TR, target='key2_Encode', use_gpu=True)"
   ]
  },
  {
   "cell_type": "markdown",
   "metadata": {
    "id": "I_s6tBO6Ijw3"
   },
   "source": [
    "BEST 5 출력"
   ]
  },
  {
   "cell_type": "code",
   "execution_count": 33,
   "metadata": {
    "collapsed": false
   },
   "outputs": [
    {
     "data": {
      "text/plain": "<pandas.io.formats.style.Styler at 0x1f7150580a0>",
      "text/html": "<style type=\"text/css\">\n#T_be144 th {\n  text-align: left;\n}\n#T_be144_row0_col0, #T_be144_row0_col2, #T_be144_row0_col3, #T_be144_row0_col4, #T_be144_row1_col0, #T_be144_row1_col1, #T_be144_row1_col2, #T_be144_row1_col4, #T_be144_row1_col5, #T_be144_row1_col6, #T_be144_row1_col7, #T_be144_row2_col0, #T_be144_row2_col1, #T_be144_row2_col2, #T_be144_row2_col3, #T_be144_row2_col4, #T_be144_row2_col5, #T_be144_row2_col6, #T_be144_row2_col7, #T_be144_row3_col0, #T_be144_row3_col1, #T_be144_row3_col2, #T_be144_row3_col3, #T_be144_row3_col5, #T_be144_row3_col6, #T_be144_row3_col7, #T_be144_row4_col0, #T_be144_row4_col1, #T_be144_row4_col2, #T_be144_row4_col3, #T_be144_row4_col4, #T_be144_row4_col5, #T_be144_row4_col6, #T_be144_row4_col7, #T_be144_row5_col0, #T_be144_row5_col1, #T_be144_row5_col2, #T_be144_row5_col3, #T_be144_row5_col4, #T_be144_row5_col5, #T_be144_row5_col6, #T_be144_row5_col7, #T_be144_row6_col0, #T_be144_row6_col1, #T_be144_row6_col3, #T_be144_row6_col4, #T_be144_row6_col5, #T_be144_row6_col6, #T_be144_row6_col7, #T_be144_row7_col0, #T_be144_row7_col1, #T_be144_row7_col2, #T_be144_row7_col3, #T_be144_row7_col4, #T_be144_row7_col5, #T_be144_row7_col6, #T_be144_row7_col7, #T_be144_row8_col0, #T_be144_row8_col1, #T_be144_row8_col2, #T_be144_row8_col3, #T_be144_row8_col4, #T_be144_row8_col5, #T_be144_row8_col6, #T_be144_row8_col7, #T_be144_row9_col0, #T_be144_row9_col1, #T_be144_row9_col2, #T_be144_row9_col3, #T_be144_row9_col4, #T_be144_row9_col5, #T_be144_row9_col6, #T_be144_row9_col7, #T_be144_row10_col0, #T_be144_row10_col1, #T_be144_row10_col2, #T_be144_row10_col3, #T_be144_row10_col4, #T_be144_row10_col5, #T_be144_row10_col6, #T_be144_row10_col7, #T_be144_row11_col0, #T_be144_row11_col1, #T_be144_row11_col2, #T_be144_row11_col3, #T_be144_row11_col4, #T_be144_row11_col5, #T_be144_row11_col6, #T_be144_row11_col7, #T_be144_row12_col0, #T_be144_row12_col1, #T_be144_row12_col2, #T_be144_row12_col3, #T_be144_row12_col4, #T_be144_row12_col5, #T_be144_row12_col6, #T_be144_row12_col7, #T_be144_row13_col0, #T_be144_row13_col1, #T_be144_row13_col2, #T_be144_row13_col3, #T_be144_row13_col4, #T_be144_row13_col5, #T_be144_row13_col6, #T_be144_row13_col7 {\n  text-align: left;\n}\n#T_be144_row0_col1, #T_be144_row0_col5, #T_be144_row0_col6, #T_be144_row0_col7, #T_be144_row1_col3, #T_be144_row3_col4, #T_be144_row6_col2 {\n  text-align: left;\n  background-color: yellow;\n}\n#T_be144_row0_col8, #T_be144_row1_col8, #T_be144_row2_col8, #T_be144_row3_col8, #T_be144_row4_col8, #T_be144_row5_col8, #T_be144_row6_col8, #T_be144_row7_col8, #T_be144_row8_col8, #T_be144_row9_col8, #T_be144_row10_col8, #T_be144_row12_col8, #T_be144_row13_col8 {\n  text-align: left;\n  background-color: lightgrey;\n}\n#T_be144_row11_col8 {\n  text-align: left;\n  background-color: yellow;\n  background-color: lightgrey;\n}\n</style>\n<table id=\"T_be144\">\n  <thead>\n    <tr>\n      <th class=\"blank level0\" >&nbsp;</th>\n      <th id=\"T_be144_level0_col0\" class=\"col_heading level0 col0\" >Model</th>\n      <th id=\"T_be144_level0_col1\" class=\"col_heading level0 col1\" >Accuracy</th>\n      <th id=\"T_be144_level0_col2\" class=\"col_heading level0 col2\" >AUC</th>\n      <th id=\"T_be144_level0_col3\" class=\"col_heading level0 col3\" >Recall</th>\n      <th id=\"T_be144_level0_col4\" class=\"col_heading level0 col4\" >Prec.</th>\n      <th id=\"T_be144_level0_col5\" class=\"col_heading level0 col5\" >F1</th>\n      <th id=\"T_be144_level0_col6\" class=\"col_heading level0 col6\" >Kappa</th>\n      <th id=\"T_be144_level0_col7\" class=\"col_heading level0 col7\" >MCC</th>\n      <th id=\"T_be144_level0_col8\" class=\"col_heading level0 col8\" >TT (Sec)</th>\n    </tr>\n  </thead>\n  <tbody>\n    <tr>\n      <th id=\"T_be144_level0_row0\" class=\"row_heading level0 row0\" >svm</th>\n      <td id=\"T_be144_row0_col0\" class=\"data row0 col0\" >SVM - Linear Kernel</td>\n      <td id=\"T_be144_row0_col1\" class=\"data row0 col1\" >0.6530</td>\n      <td id=\"T_be144_row0_col2\" class=\"data row0 col2\" >0.0000</td>\n      <td id=\"T_be144_row0_col3\" class=\"data row0 col3\" >0.5762</td>\n      <td id=\"T_be144_row0_col4\" class=\"data row0 col4\" >0.6610</td>\n      <td id=\"T_be144_row0_col5\" class=\"data row0 col5\" >0.6491</td>\n      <td id=\"T_be144_row0_col6\" class=\"data row0 col6\" >0.6254</td>\n      <td id=\"T_be144_row0_col7\" class=\"data row0 col7\" >0.6261</td>\n      <td id=\"T_be144_row0_col8\" class=\"data row0 col8\" >11.6860</td>\n    </tr>\n    <tr>\n      <th id=\"T_be144_level0_row1\" class=\"row_heading level0 row1\" >ridge</th>\n      <td id=\"T_be144_row1_col0\" class=\"data row1 col0\" >Ridge Classifier</td>\n      <td id=\"T_be144_row1_col1\" class=\"data row1 col1\" >0.6517</td>\n      <td id=\"T_be144_row1_col2\" class=\"data row1 col2\" >0.0000</td>\n      <td id=\"T_be144_row1_col3\" class=\"data row1 col3\" >0.5950</td>\n      <td id=\"T_be144_row1_col4\" class=\"data row1 col4\" >0.6594</td>\n      <td id=\"T_be144_row1_col5\" class=\"data row1 col5\" >0.6472</td>\n      <td id=\"T_be144_row1_col6\" class=\"data row1 col6\" >0.6228</td>\n      <td id=\"T_be144_row1_col7\" class=\"data row1 col7\" >0.6238</td>\n      <td id=\"T_be144_row1_col8\" class=\"data row1 col8\" >2.9820</td>\n    </tr>\n    <tr>\n      <th id=\"T_be144_level0_row2\" class=\"row_heading level0 row2\" >et</th>\n      <td id=\"T_be144_row2_col0\" class=\"data row2 col0\" >Extra Trees Classifier</td>\n      <td id=\"T_be144_row2_col1\" class=\"data row2 col1\" >0.5914</td>\n      <td id=\"T_be144_row2_col2\" class=\"data row2 col2\" >0.8744</td>\n      <td id=\"T_be144_row2_col3\" class=\"data row2 col3\" >0.5239</td>\n      <td id=\"T_be144_row2_col4\" class=\"data row2 col4\" >0.5948</td>\n      <td id=\"T_be144_row2_col5\" class=\"data row2 col5\" >0.5861</td>\n      <td id=\"T_be144_row2_col6\" class=\"data row2 col6\" >0.5588</td>\n      <td id=\"T_be144_row2_col7\" class=\"data row2 col7\" >0.5594</td>\n      <td id=\"T_be144_row2_col8\" class=\"data row2 col8\" >17.0780</td>\n    </tr>\n    <tr>\n      <th id=\"T_be144_level0_row3\" class=\"row_heading level0 row3\" >gbc</th>\n      <td id=\"T_be144_row3_col0\" class=\"data row3 col0\" >Gradient Boosting Classifier</td>\n      <td id=\"T_be144_row3_col1\" class=\"data row3 col1\" >0.5841</td>\n      <td id=\"T_be144_row3_col2\" class=\"data row3 col2\" >0.8705</td>\n      <td id=\"T_be144_row3_col3\" class=\"data row3 col3\" >0.5284</td>\n      <td id=\"T_be144_row3_col4\" class=\"data row3 col4\" >0.6873</td>\n      <td id=\"T_be144_row3_col5\" class=\"data row3 col5\" >0.5896</td>\n      <td id=\"T_be144_row3_col6\" class=\"data row3 col6\" >0.5343</td>\n      <td id=\"T_be144_row3_col7\" class=\"data row3 col7\" >0.5583</td>\n      <td id=\"T_be144_row3_col8\" class=\"data row3 col8\" >3259.6140</td>\n    </tr>\n    <tr>\n      <th id=\"T_be144_level0_row4\" class=\"row_heading level0 row4\" >rf</th>\n      <td id=\"T_be144_row4_col0\" class=\"data row4 col0\" >Random Forest Classifier</td>\n      <td id=\"T_be144_row4_col1\" class=\"data row4 col1\" >0.5833</td>\n      <td id=\"T_be144_row4_col2\" class=\"data row4 col2\" >0.8841</td>\n      <td id=\"T_be144_row4_col3\" class=\"data row4 col3\" >0.5023</td>\n      <td id=\"T_be144_row4_col4\" class=\"data row4 col4\" >0.5865</td>\n      <td id=\"T_be144_row4_col5\" class=\"data row4 col5\" >0.5760</td>\n      <td id=\"T_be144_row4_col6\" class=\"data row4 col6\" >0.5486</td>\n      <td id=\"T_be144_row4_col7\" class=\"data row4 col7\" >0.5496</td>\n      <td id=\"T_be144_row4_col8\" class=\"data row4 col8\" >12.2580</td>\n    </tr>\n    <tr>\n      <th id=\"T_be144_level0_row5\" class=\"row_heading level0 row5\" >lda</th>\n      <td id=\"T_be144_row5_col0\" class=\"data row5 col0\" >Linear Discriminant Analysis</td>\n      <td id=\"T_be144_row5_col1\" class=\"data row5 col1\" >0.5823</td>\n      <td id=\"T_be144_row5_col2\" class=\"data row5 col2\" >0.8359</td>\n      <td id=\"T_be144_row5_col3\" class=\"data row5 col3\" >0.5211</td>\n      <td id=\"T_be144_row5_col4\" class=\"data row5 col4\" >0.6510</td>\n      <td id=\"T_be144_row5_col5\" class=\"data row5 col5\" >0.5950</td>\n      <td id=\"T_be144_row5_col6\" class=\"data row5 col6\" >0.5458</td>\n      <td id=\"T_be144_row5_col7\" class=\"data row5 col7\" >0.5494</td>\n      <td id=\"T_be144_row5_col8\" class=\"data row5 col8\" >119.5360</td>\n    </tr>\n    <tr>\n      <th id=\"T_be144_level0_row6\" class=\"row_heading level0 row6\" >lr</th>\n      <td id=\"T_be144_row6_col0\" class=\"data row6 col0\" >Logistic Regression</td>\n      <td id=\"T_be144_row6_col1\" class=\"data row6 col1\" >0.5767</td>\n      <td id=\"T_be144_row6_col2\" class=\"data row6 col2\" >0.9088</td>\n      <td id=\"T_be144_row6_col3\" class=\"data row6 col3\" >0.4284</td>\n      <td id=\"T_be144_row6_col4\" class=\"data row6 col4\" >0.6130</td>\n      <td id=\"T_be144_row6_col5\" class=\"data row6 col5\" >0.5636</td>\n      <td id=\"T_be144_row6_col6\" class=\"data row6 col6\" >0.5329</td>\n      <td id=\"T_be144_row6_col7\" class=\"data row6 col7\" >0.5395</td>\n      <td id=\"T_be144_row6_col8\" class=\"data row6 col8\" >25.1180</td>\n    </tr>\n    <tr>\n      <th id=\"T_be144_level0_row7\" class=\"row_heading level0 row7\" >dt</th>\n      <td id=\"T_be144_row7_col0\" class=\"data row7 col0\" >Decision Tree Classifier</td>\n      <td id=\"T_be144_row7_col1\" class=\"data row7 col1\" >0.5696</td>\n      <td id=\"T_be144_row7_col2\" class=\"data row7 col2\" >0.7680</td>\n      <td id=\"T_be144_row7_col3\" class=\"data row7 col3\" >0.4979</td>\n      <td id=\"T_be144_row7_col4\" class=\"data row7 col4\" >0.5779</td>\n      <td id=\"T_be144_row7_col5\" class=\"data row7 col5\" >0.5656</td>\n      <td id=\"T_be144_row7_col6\" class=\"data row7 col6\" >0.5349</td>\n      <td id=\"T_be144_row7_col7\" class=\"data row7 col7\" >0.5356</td>\n      <td id=\"T_be144_row7_col8\" class=\"data row7 col8\" >14.9920</td>\n    </tr>\n    <tr>\n      <th id=\"T_be144_level0_row8\" class=\"row_heading level0 row8\" >nb</th>\n      <td id=\"T_be144_row8_col0\" class=\"data row8 col0\" >Naive Bayes</td>\n      <td id=\"T_be144_row8_col1\" class=\"data row8 col1\" >0.4646</td>\n      <td id=\"T_be144_row8_col2\" class=\"data row8 col2\" >0.7290</td>\n      <td id=\"T_be144_row8_col3\" class=\"data row8 col3\" >0.5056</td>\n      <td id=\"T_be144_row8_col4\" class=\"data row8 col4\" >0.5238</td>\n      <td id=\"T_be144_row8_col5\" class=\"data row8 col5\" >0.4786</td>\n      <td id=\"T_be144_row8_col6\" class=\"data row8 col6\" >0.4368</td>\n      <td id=\"T_be144_row8_col7\" class=\"data row8 col7\" >0.4385</td>\n      <td id=\"T_be144_row8_col8\" class=\"data row8 col8\" >13.2220</td>\n    </tr>\n    <tr>\n      <th id=\"T_be144_level0_row9\" class=\"row_heading level0 row9\" >knn</th>\n      <td id=\"T_be144_row9_col0\" class=\"data row9 col0\" >K Neighbors Classifier</td>\n      <td id=\"T_be144_row9_col1\" class=\"data row9 col1\" >0.4466</td>\n      <td id=\"T_be144_row9_col2\" class=\"data row9 col2\" >0.8084</td>\n      <td id=\"T_be144_row9_col3\" class=\"data row9 col3\" >0.3748</td>\n      <td id=\"T_be144_row9_col4\" class=\"data row9 col4\" >0.4888</td>\n      <td id=\"T_be144_row9_col5\" class=\"data row9 col5\" >0.4483</td>\n      <td id=\"T_be144_row9_col6\" class=\"data row9 col6\" >0.4033</td>\n      <td id=\"T_be144_row9_col7\" class=\"data row9 col7\" >0.4048</td>\n      <td id=\"T_be144_row9_col8\" class=\"data row9 col8\" >72.0260</td>\n    </tr>\n    <tr>\n      <th id=\"T_be144_level0_row10\" class=\"row_heading level0 row10\" >ada</th>\n      <td id=\"T_be144_row10_col0\" class=\"data row10 col0\" >Ada Boost Classifier</td>\n      <td id=\"T_be144_row10_col1\" class=\"data row10 col1\" >0.2085</td>\n      <td id=\"T_be144_row10_col2\" class=\"data row10 col2\" >0.5258</td>\n      <td id=\"T_be144_row10_col3\" class=\"data row10 col3\" >0.0464</td>\n      <td id=\"T_be144_row10_col4\" class=\"data row10 col4\" >0.0926</td>\n      <td id=\"T_be144_row10_col5\" class=\"data row10 col5\" >0.0844</td>\n      <td id=\"T_be144_row10_col6\" class=\"data row10 col6\" >0.0245</td>\n      <td id=\"T_be144_row10_col7\" class=\"data row10 col7\" >0.0976</td>\n      <td id=\"T_be144_row10_col8\" class=\"data row10 col8\" >14.9940</td>\n    </tr>\n    <tr>\n      <th id=\"T_be144_level0_row11\" class=\"row_heading level0 row11\" >dummy</th>\n      <td id=\"T_be144_row11_col0\" class=\"data row11 col0\" >Dummy Classifier</td>\n      <td id=\"T_be144_row11_col1\" class=\"data row11 col1\" >0.1922</td>\n      <td id=\"T_be144_row11_col2\" class=\"data row11 col2\" >0.5000</td>\n      <td id=\"T_be144_row11_col3\" class=\"data row11 col3\" >0.0164</td>\n      <td id=\"T_be144_row11_col4\" class=\"data row11 col4\" >0.0369</td>\n      <td id=\"T_be144_row11_col5\" class=\"data row11 col5\" >0.0619</td>\n      <td id=\"T_be144_row11_col6\" class=\"data row11 col6\" >0.0000</td>\n      <td id=\"T_be144_row11_col7\" class=\"data row11 col7\" >0.0000</td>\n      <td id=\"T_be144_row11_col8\" class=\"data row11 col8\" >0.1380</td>\n    </tr>\n    <tr>\n      <th id=\"T_be144_level0_row12\" class=\"row_heading level0 row12\" >lightgbm</th>\n      <td id=\"T_be144_row12_col0\" class=\"data row12 col0\" >Light Gradient Boosting Machine</td>\n      <td id=\"T_be144_row12_col1\" class=\"data row12 col1\" >0.0702</td>\n      <td id=\"T_be144_row12_col2\" class=\"data row12 col2\" >0.5042</td>\n      <td id=\"T_be144_row12_col3\" class=\"data row12 col3\" >0.0159</td>\n      <td id=\"T_be144_row12_col4\" class=\"data row12 col4\" >0.0679</td>\n      <td id=\"T_be144_row12_col5\" class=\"data row12 col5\" >0.0302</td>\n      <td id=\"T_be144_row12_col6\" class=\"data row12 col6\" >0.0067</td>\n      <td id=\"T_be144_row12_col7\" class=\"data row12 col7\" >0.0038</td>\n      <td id=\"T_be144_row12_col8\" class=\"data row12 col8\" >7.3620</td>\n    </tr>\n    <tr>\n      <th id=\"T_be144_level0_row13\" class=\"row_heading level0 row13\" >qda</th>\n      <td id=\"T_be144_row13_col0\" class=\"data row13 col0\" >Quadratic Discriminant Analysis</td>\n      <td id=\"T_be144_row13_col1\" class=\"data row13 col1\" >0.0074</td>\n      <td id=\"T_be144_row13_col2\" class=\"data row13 col2\" >0.3020</td>\n      <td id=\"T_be144_row13_col3\" class=\"data row13 col3\" >0.0411</td>\n      <td id=\"T_be144_row13_col4\" class=\"data row13 col4\" >0.0130</td>\n      <td id=\"T_be144_row13_col5\" class=\"data row13 col5\" >0.0035</td>\n      <td id=\"T_be144_row13_col6\" class=\"data row13 col6\" >0.0039</td>\n      <td id=\"T_be144_row13_col7\" class=\"data row13 col7\" >0.0049</td>\n      <td id=\"T_be144_row13_col8\" class=\"data row13 col8\" >13.9240</td>\n    </tr>\n  </tbody>\n</table>\n"
     },
     "metadata": {},
     "output_type": "display_data"
    },
    {
     "data": {
      "text/plain": "IntProgress(value=0, description='Processing: ', max=6)",
      "application/vnd.jupyter.widget-view+json": {
       "version_major": 2,
       "version_minor": 0,
       "model_id": "325e54f866d6451187a65de092ca470c"
      }
     },
     "metadata": {},
     "output_type": "display_data"
    },
    {
     "data": {
      "text/plain": "                                                                    \n                                                                    \nInitiated  . . . . . . . . . . . . . . . . . .              04:30:52\nStatus     . . . . . . . . . . . . . . . . . .  Loading Dependencies\nEstimator  . . . . . . . . . . . . . . . . . .     Compiling Library",
      "text/html": "<div>\n<style scoped>\n    .dataframe tbody tr th:only-of-type {\n        vertical-align: middle;\n    }\n\n    .dataframe tbody tr th {\n        vertical-align: top;\n    }\n\n    .dataframe thead th {\n        text-align: right;\n    }\n</style>\n<table border=\"1\" class=\"dataframe\">\n  <thead>\n    <tr style=\"text-align: right;\">\n      <th></th>\n      <th></th>\n      <th></th>\n    </tr>\n    <tr>\n      <th></th>\n      <th></th>\n      <th></th>\n    </tr>\n  </thead>\n  <tbody>\n    <tr>\n      <th>Initiated</th>\n      <td>. . . . . . . . . . . . . . . . . .</td>\n      <td>04:30:52</td>\n    </tr>\n    <tr>\n      <th>Status</th>\n      <td>. . . . . . . . . . . . . . . . . .</td>\n      <td>Loading Dependencies</td>\n    </tr>\n    <tr>\n      <th>Estimator</th>\n      <td>. . . . . . . . . . . . . . . . . .</td>\n      <td>Compiling Library</td>\n    </tr>\n  </tbody>\n</table>\n</div>"
     },
     "metadata": {},
     "output_type": "display_data"
    },
    {
     "data": {
      "text/plain": "Empty DataFrame\nColumns: [Fold, Accuracy, AUC, Recall, Prec., F1, Kappa, MCC]\nIndex: []",
      "text/html": "<div>\n<style scoped>\n    .dataframe tbody tr th:only-of-type {\n        vertical-align: middle;\n    }\n\n    .dataframe tbody tr th {\n        vertical-align: top;\n    }\n\n    .dataframe thead th {\n        text-align: right;\n    }\n</style>\n<table border=\"1\" class=\"dataframe\">\n  <thead>\n    <tr style=\"text-align: right;\">\n      <th></th>\n      <th>Fold</th>\n      <th>Accuracy</th>\n      <th>AUC</th>\n      <th>Recall</th>\n      <th>Prec.</th>\n      <th>F1</th>\n      <th>Kappa</th>\n      <th>MCC</th>\n    </tr>\n  </thead>\n  <tbody>\n  </tbody>\n</table>\n</div>"
     },
     "metadata": {},
     "output_type": "display_data"
    },
    {
     "ename": "KeyboardInterrupt",
     "evalue": "",
     "output_type": "error",
     "traceback": [
      "\u001B[1;31m---------------------------------------------------------------------------\u001B[0m",
      "\u001B[1;31mKeyboardInterrupt\u001B[0m                         Traceback (most recent call last)",
      "Cell \u001B[1;32mIn[33], line 4\u001B[0m\n\u001B[0;32m      1\u001B[0m \u001B[38;5;66;03m# top5 = compare_models(sort='Accuracy', n_select=10)\u001B[39;00m\n\u001B[0;32m      2\u001B[0m \u001B[38;5;66;03m# 점심시간 전에 model blending\u001B[39;00m\n\u001B[0;32m      3\u001B[0m top5 \u001B[38;5;241m=\u001B[39m compare_models(sort\u001B[38;5;241m=\u001B[39m\u001B[38;5;124m'\u001B[39m\u001B[38;5;124mAccuracy\u001B[39m\u001B[38;5;124m'\u001B[39m, n_select\u001B[38;5;241m=\u001B[39m\u001B[38;5;241m5\u001B[39m, fold\u001B[38;5;241m=\u001B[39m\u001B[38;5;241m5\u001B[39m)\n\u001B[1;32m----> 4\u001B[0m blended_models \u001B[38;5;241m=\u001B[39m \u001B[43mblend_models\u001B[49m\u001B[43m(\u001B[49m\u001B[43mtop5\u001B[49m\u001B[43m,\u001B[49m\u001B[43m \u001B[49m\u001B[43mfold\u001B[49m\u001B[38;5;241;43m=\u001B[39;49m\u001B[38;5;241;43m5\u001B[39;49m\u001B[43m)\u001B[49m\n\u001B[0;32m      5\u001B[0m finalized_models \u001B[38;5;241m=\u001B[39m finalize_model(blended_models)\n\u001B[0;32m      6\u001B[0m save_model(finalized_models, \u001B[38;5;124m'\u001B[39m\u001B[38;5;124m./original_model3/blend\u001B[39m\u001B[38;5;124m'\u001B[39m)\n",
      "File \u001B[1;32m~\\miniconda3\\envs\\pycaret2\\lib\\site-packages\\pycaret\\classification.py:1411\u001B[0m, in \u001B[0;36mblend_models\u001B[1;34m(estimator_list, fold, round, choose_better, optimize, method, weights, fit_kwargs, groups, probability_threshold, verbose, return_train_score)\u001B[0m\n\u001B[0;32m   1307\u001B[0m \u001B[38;5;28;01mdef\u001B[39;00m \u001B[38;5;21mblend_models\u001B[39m(\n\u001B[0;32m   1308\u001B[0m     estimator_list: \u001B[38;5;28mlist\u001B[39m,\n\u001B[0;32m   1309\u001B[0m     fold: Optional[Union[\u001B[38;5;28mint\u001B[39m, Any]] \u001B[38;5;241m=\u001B[39m \u001B[38;5;28;01mNone\u001B[39;00m,\n\u001B[1;32m   (...)\u001B[0m\n\u001B[0;32m   1319\u001B[0m     return_train_score: \u001B[38;5;28mbool\u001B[39m \u001B[38;5;241m=\u001B[39m \u001B[38;5;28;01mFalse\u001B[39;00m,\n\u001B[0;32m   1320\u001B[0m ) \u001B[38;5;241m-\u001B[39m\u001B[38;5;241m>\u001B[39m Any:\n\u001B[0;32m   1322\u001B[0m     \u001B[38;5;124;03m\"\"\"\u001B[39;00m\n\u001B[0;32m   1323\u001B[0m \u001B[38;5;124;03m    This function trains a Soft Voting / Majority Rule classifier for select\u001B[39;00m\n\u001B[0;32m   1324\u001B[0m \u001B[38;5;124;03m    models passed in the ``estimator_list`` param. The output of this function\u001B[39;00m\n\u001B[1;32m   (...)\u001B[0m\n\u001B[0;32m   1408\u001B[0m \n\u001B[0;32m   1409\u001B[0m \u001B[38;5;124;03m    \"\"\"\u001B[39;00m\n\u001B[1;32m-> 1411\u001B[0m     \u001B[38;5;28;01mreturn\u001B[39;00m \u001B[43mpycaret\u001B[49m\u001B[38;5;241;43m.\u001B[39;49m\u001B[43minternal\u001B[49m\u001B[38;5;241;43m.\u001B[39;49m\u001B[43mtabular\u001B[49m\u001B[38;5;241;43m.\u001B[39;49m\u001B[43mblend_models\u001B[49m\u001B[43m(\u001B[49m\n\u001B[0;32m   1412\u001B[0m \u001B[43m        \u001B[49m\u001B[43mestimator_list\u001B[49m\u001B[38;5;241;43m=\u001B[39;49m\u001B[43mestimator_list\u001B[49m\u001B[43m,\u001B[49m\n\u001B[0;32m   1413\u001B[0m \u001B[43m        \u001B[49m\u001B[43mfold\u001B[49m\u001B[38;5;241;43m=\u001B[39;49m\u001B[43mfold\u001B[49m\u001B[43m,\u001B[49m\n\u001B[0;32m   1414\u001B[0m \u001B[43m        \u001B[49m\u001B[38;5;28;43mround\u001B[39;49m\u001B[38;5;241;43m=\u001B[39;49m\u001B[38;5;28;43mround\u001B[39;49m\u001B[43m,\u001B[49m\n\u001B[0;32m   1415\u001B[0m \u001B[43m        \u001B[49m\u001B[43mchoose_better\u001B[49m\u001B[38;5;241;43m=\u001B[39;49m\u001B[43mchoose_better\u001B[49m\u001B[43m,\u001B[49m\n\u001B[0;32m   1416\u001B[0m \u001B[43m        \u001B[49m\u001B[43moptimize\u001B[49m\u001B[38;5;241;43m=\u001B[39;49m\u001B[43moptimize\u001B[49m\u001B[43m,\u001B[49m\n\u001B[0;32m   1417\u001B[0m \u001B[43m        \u001B[49m\u001B[43mmethod\u001B[49m\u001B[38;5;241;43m=\u001B[39;49m\u001B[43mmethod\u001B[49m\u001B[43m,\u001B[49m\n\u001B[0;32m   1418\u001B[0m \u001B[43m        \u001B[49m\u001B[43mweights\u001B[49m\u001B[38;5;241;43m=\u001B[39;49m\u001B[43mweights\u001B[49m\u001B[43m,\u001B[49m\n\u001B[0;32m   1419\u001B[0m \u001B[43m        \u001B[49m\u001B[43mfit_kwargs\u001B[49m\u001B[38;5;241;43m=\u001B[39;49m\u001B[43mfit_kwargs\u001B[49m\u001B[43m,\u001B[49m\n\u001B[0;32m   1420\u001B[0m \u001B[43m        \u001B[49m\u001B[43mgroups\u001B[49m\u001B[38;5;241;43m=\u001B[39;49m\u001B[43mgroups\u001B[49m\u001B[43m,\u001B[49m\n\u001B[0;32m   1421\u001B[0m \u001B[43m        \u001B[49m\u001B[43mverbose\u001B[49m\u001B[38;5;241;43m=\u001B[39;49m\u001B[43mverbose\u001B[49m\u001B[43m,\u001B[49m\n\u001B[0;32m   1422\u001B[0m \u001B[43m        \u001B[49m\u001B[43mprobability_threshold\u001B[49m\u001B[38;5;241;43m=\u001B[39;49m\u001B[43mprobability_threshold\u001B[49m\u001B[43m,\u001B[49m\n\u001B[0;32m   1423\u001B[0m \u001B[43m        \u001B[49m\u001B[43mreturn_train_score\u001B[49m\u001B[38;5;241;43m=\u001B[39;49m\u001B[43mreturn_train_score\u001B[49m\u001B[43m,\u001B[49m\n\u001B[0;32m   1424\u001B[0m \u001B[43m    \u001B[49m\u001B[43m)\u001B[49m\n",
      "File \u001B[1;32m~\\miniconda3\\envs\\pycaret2\\lib\\site-packages\\pycaret\\internal\\tabular.py:5475\u001B[0m, in \u001B[0;36mblend_models\u001B[1;34m(estimator_list, fold, round, choose_better, optimize, method, weights, fit_kwargs, groups, probability_threshold, verbose, display, return_train_score)\u001B[0m\n\u001B[0;32m   5472\u001B[0m display\u001B[38;5;241m.\u001B[39mmove_progress()\n\u001B[0;32m   5474\u001B[0m logger\u001B[38;5;241m.\u001B[39minfo(\u001B[38;5;124m\"\u001B[39m\u001B[38;5;124mSubProcess create_model() called ==================================\u001B[39m\u001B[38;5;124m\"\u001B[39m)\n\u001B[1;32m-> 5475\u001B[0m model, model_fit_time \u001B[38;5;241m=\u001B[39m \u001B[43mcreate_model_supervised\u001B[49m\u001B[43m(\u001B[49m\n\u001B[0;32m   5476\u001B[0m \u001B[43m    \u001B[49m\u001B[43mestimator\u001B[49m\u001B[38;5;241;43m=\u001B[39;49m\u001B[43mmodel\u001B[49m\u001B[43m,\u001B[49m\n\u001B[0;32m   5477\u001B[0m \u001B[43m    \u001B[49m\u001B[43msystem\u001B[49m\u001B[38;5;241;43m=\u001B[39;49m\u001B[38;5;28;43;01mFalse\u001B[39;49;00m\u001B[43m,\u001B[49m\n\u001B[0;32m   5478\u001B[0m \u001B[43m    \u001B[49m\u001B[43mdisplay\u001B[49m\u001B[38;5;241;43m=\u001B[39;49m\u001B[43mdisplay\u001B[49m\u001B[43m,\u001B[49m\n\u001B[0;32m   5479\u001B[0m \u001B[43m    \u001B[49m\u001B[43mfold\u001B[49m\u001B[38;5;241;43m=\u001B[39;49m\u001B[43mfold\u001B[49m\u001B[43m,\u001B[49m\n\u001B[0;32m   5480\u001B[0m \u001B[43m    \u001B[49m\u001B[38;5;28;43mround\u001B[39;49m\u001B[38;5;241;43m=\u001B[39;49m\u001B[38;5;28;43mround\u001B[39;49m\u001B[43m,\u001B[49m\n\u001B[0;32m   5481\u001B[0m \u001B[43m    \u001B[49m\u001B[43mfit_kwargs\u001B[49m\u001B[38;5;241;43m=\u001B[39;49m\u001B[43mfit_kwargs\u001B[49m\u001B[43m,\u001B[49m\n\u001B[0;32m   5482\u001B[0m \u001B[43m    \u001B[49m\u001B[43mgroups\u001B[49m\u001B[38;5;241;43m=\u001B[39;49m\u001B[43mgroups\u001B[49m\u001B[43m,\u001B[49m\n\u001B[0;32m   5483\u001B[0m \u001B[43m    \u001B[49m\u001B[43mprobability_threshold\u001B[49m\u001B[38;5;241;43m=\u001B[39;49m\u001B[43mprobability_threshold\u001B[49m\u001B[43m,\u001B[49m\n\u001B[0;32m   5484\u001B[0m \u001B[43m    \u001B[49m\u001B[43mreturn_train_score\u001B[49m\u001B[38;5;241;43m=\u001B[39;49m\u001B[43mreturn_train_score\u001B[49m\u001B[43m,\u001B[49m\n\u001B[0;32m   5485\u001B[0m \u001B[43m\u001B[49m\u001B[43m)\u001B[49m\n\u001B[0;32m   5486\u001B[0m model_results \u001B[38;5;241m=\u001B[39m pull()\n\u001B[0;32m   5487\u001B[0m logger\u001B[38;5;241m.\u001B[39minfo(\u001B[38;5;124m\"\u001B[39m\u001B[38;5;124mSubProcess create_model() end ==================================\u001B[39m\u001B[38;5;124m\"\u001B[39m)\n",
      "File \u001B[1;32m~\\miniconda3\\envs\\pycaret2\\lib\\site-packages\\pycaret\\internal\\tabular.py:3282\u001B[0m, in \u001B[0;36mcreate_model_supervised\u001B[1;34m(estimator, fold, round, cross_validation, predict, fit_kwargs, groups, refit, verbose, system, X_train_data, y_train_data, metrics, experiment_custom_tags, add_to_model_list, probability_threshold, display, return_train_score, **kwargs)\u001B[0m\n\u001B[0;32m   3280\u001B[0m logger\u001B[38;5;241m.\u001B[39minfo(\u001B[38;5;124m\"\u001B[39m\u001B[38;5;124mFinalizing model\u001B[39m\u001B[38;5;124m\"\u001B[39m)\n\u001B[0;32m   3281\u001B[0m \u001B[38;5;28;01mwith\u001B[39;00m io\u001B[38;5;241m.\u001B[39mcapture_output():\n\u001B[1;32m-> 3282\u001B[0m     \u001B[43mpipeline_with_model\u001B[49m\u001B[38;5;241;43m.\u001B[39;49m\u001B[43mfit\u001B[49m\u001B[43m(\u001B[49m\u001B[43mdata_X\u001B[49m\u001B[43m,\u001B[49m\u001B[43m \u001B[49m\u001B[43mdata_y\u001B[49m\u001B[43m,\u001B[49m\u001B[43m \u001B[49m\u001B[38;5;241;43m*\u001B[39;49m\u001B[38;5;241;43m*\u001B[39;49m\u001B[43mfit_kwargs\u001B[49m\u001B[43m)\u001B[49m\n\u001B[0;32m   3284\u001B[0m     \u001B[38;5;28;01mif\u001B[39;00m return_train_score:\n\u001B[0;32m   3285\u001B[0m         predict_model(\n\u001B[0;32m   3286\u001B[0m             pipeline_with_model, data\u001B[38;5;241m=\u001B[39mpd\u001B[38;5;241m.\u001B[39mconcat([data_X, data_y], axis\u001B[38;5;241m=\u001B[39m\u001B[38;5;241m1\u001B[39m)\n\u001B[0;32m   3287\u001B[0m         )\n",
      "File \u001B[1;32m~\\miniconda3\\envs\\pycaret2\\lib\\site-packages\\pycaret\\internal\\pipeline.py:118\u001B[0m, in \u001B[0;36mPipeline.fit\u001B[1;34m(self, X, y, **fit_kwargs)\u001B[0m\n\u001B[0;32m    117\u001B[0m \u001B[38;5;28;01mdef\u001B[39;00m \u001B[38;5;21mfit\u001B[39m(\u001B[38;5;28mself\u001B[39m, X, y\u001B[38;5;241m=\u001B[39m\u001B[38;5;28;01mNone\u001B[39;00m, \u001B[38;5;241m*\u001B[39m\u001B[38;5;241m*\u001B[39mfit_kwargs):\n\u001B[1;32m--> 118\u001B[0m     result \u001B[38;5;241m=\u001B[39m \u001B[38;5;28;43msuper\u001B[39;49m\u001B[43m(\u001B[49m\u001B[43m)\u001B[49m\u001B[38;5;241;43m.\u001B[39;49m\u001B[43mfit\u001B[49m\u001B[43m(\u001B[49m\u001B[43mX\u001B[49m\u001B[43m,\u001B[49m\u001B[43m \u001B[49m\u001B[43my\u001B[49m\u001B[38;5;241;43m=\u001B[39;49m\u001B[43my\u001B[49m\u001B[43m,\u001B[49m\u001B[43m \u001B[49m\u001B[38;5;241;43m*\u001B[39;49m\u001B[38;5;241;43m*\u001B[39;49m\u001B[43mfit_kwargs\u001B[49m\u001B[43m)\u001B[49m\n\u001B[0;32m    120\u001B[0m     \u001B[38;5;28mself\u001B[39m\u001B[38;5;241m.\u001B[39m_carry_over_final_estimator_fit_vars()\n\u001B[0;32m    121\u001B[0m     \u001B[38;5;28;01mreturn\u001B[39;00m result\n",
      "File \u001B[1;32m~\\miniconda3\\envs\\pycaret2\\lib\\site-packages\\imblearn\\pipeline.py:281\u001B[0m, in \u001B[0;36mPipeline.fit\u001B[1;34m(self, X, y, **fit_params)\u001B[0m\n\u001B[0;32m    278\u001B[0m \u001B[38;5;28;01mwith\u001B[39;00m _print_elapsed_time(\u001B[38;5;124m'\u001B[39m\u001B[38;5;124mPipeline\u001B[39m\u001B[38;5;124m'\u001B[39m,\n\u001B[0;32m    279\u001B[0m                          \u001B[38;5;28mself\u001B[39m\u001B[38;5;241m.\u001B[39m_log_message(\u001B[38;5;28mlen\u001B[39m(\u001B[38;5;28mself\u001B[39m\u001B[38;5;241m.\u001B[39msteps) \u001B[38;5;241m-\u001B[39m \u001B[38;5;241m1\u001B[39m)):\n\u001B[0;32m    280\u001B[0m     \u001B[38;5;28;01mif\u001B[39;00m \u001B[38;5;28mself\u001B[39m\u001B[38;5;241m.\u001B[39m_final_estimator \u001B[38;5;241m!=\u001B[39m \u001B[38;5;124m\"\u001B[39m\u001B[38;5;124mpassthrough\u001B[39m\u001B[38;5;124m\"\u001B[39m:\n\u001B[1;32m--> 281\u001B[0m         \u001B[38;5;28;43mself\u001B[39;49m\u001B[38;5;241;43m.\u001B[39;49m\u001B[43m_final_estimator\u001B[49m\u001B[38;5;241;43m.\u001B[39;49m\u001B[43mfit\u001B[49m\u001B[43m(\u001B[49m\u001B[43mXt\u001B[49m\u001B[43m,\u001B[49m\u001B[43m \u001B[49m\u001B[43myt\u001B[49m\u001B[43m,\u001B[49m\u001B[43m \u001B[49m\u001B[38;5;241;43m*\u001B[39;49m\u001B[38;5;241;43m*\u001B[39;49m\u001B[43mfit_params\u001B[49m\u001B[43m)\u001B[49m\n\u001B[0;32m    282\u001B[0m \u001B[38;5;28;01mreturn\u001B[39;00m \u001B[38;5;28mself\u001B[39m\n",
      "File \u001B[1;32m~\\miniconda3\\envs\\pycaret2\\lib\\site-packages\\sklearn\\ensemble\\_voting.py:265\u001B[0m, in \u001B[0;36mVotingClassifier.fit\u001B[1;34m(self, X, y, sample_weight)\u001B[0m\n\u001B[0;32m    262\u001B[0m \u001B[38;5;28mself\u001B[39m\u001B[38;5;241m.\u001B[39mclasses_ \u001B[38;5;241m=\u001B[39m \u001B[38;5;28mself\u001B[39m\u001B[38;5;241m.\u001B[39mle_\u001B[38;5;241m.\u001B[39mclasses_\n\u001B[0;32m    263\u001B[0m transformed_y \u001B[38;5;241m=\u001B[39m \u001B[38;5;28mself\u001B[39m\u001B[38;5;241m.\u001B[39mle_\u001B[38;5;241m.\u001B[39mtransform(y)\n\u001B[1;32m--> 265\u001B[0m \u001B[38;5;28;01mreturn\u001B[39;00m \u001B[38;5;28;43msuper\u001B[39;49m\u001B[43m(\u001B[49m\u001B[43m)\u001B[49m\u001B[38;5;241;43m.\u001B[39;49m\u001B[43mfit\u001B[49m\u001B[43m(\u001B[49m\u001B[43mX\u001B[49m\u001B[43m,\u001B[49m\u001B[43m \u001B[49m\u001B[43mtransformed_y\u001B[49m\u001B[43m,\u001B[49m\u001B[43m \u001B[49m\u001B[43msample_weight\u001B[49m\u001B[43m)\u001B[49m\n",
      "File \u001B[1;32m~\\miniconda3\\envs\\pycaret2\\lib\\site-packages\\sklearn\\ensemble\\_voting.py:73\u001B[0m, in \u001B[0;36m_BaseVoting.fit\u001B[1;34m(self, X, y, sample_weight)\u001B[0m\n\u001B[0;32m     67\u001B[0m \u001B[38;5;28;01mif\u001B[39;00m (\u001B[38;5;28mself\u001B[39m\u001B[38;5;241m.\u001B[39mweights \u001B[38;5;129;01mis\u001B[39;00m \u001B[38;5;129;01mnot\u001B[39;00m \u001B[38;5;28;01mNone\u001B[39;00m \u001B[38;5;129;01mand\u001B[39;00m\n\u001B[0;32m     68\u001B[0m         \u001B[38;5;28mlen\u001B[39m(\u001B[38;5;28mself\u001B[39m\u001B[38;5;241m.\u001B[39mweights) \u001B[38;5;241m!=\u001B[39m \u001B[38;5;28mlen\u001B[39m(\u001B[38;5;28mself\u001B[39m\u001B[38;5;241m.\u001B[39mestimators)):\n\u001B[0;32m     69\u001B[0m     \u001B[38;5;28;01mraise\u001B[39;00m \u001B[38;5;167;01mValueError\u001B[39;00m(\u001B[38;5;124m'\u001B[39m\u001B[38;5;124mNumber of `estimators` and weights must be equal\u001B[39m\u001B[38;5;124m'\u001B[39m\n\u001B[0;32m     70\u001B[0m                      \u001B[38;5;124m'\u001B[39m\u001B[38;5;124m; got \u001B[39m\u001B[38;5;132;01m%d\u001B[39;00m\u001B[38;5;124m weights, \u001B[39m\u001B[38;5;132;01m%d\u001B[39;00m\u001B[38;5;124m estimators\u001B[39m\u001B[38;5;124m'\u001B[39m\n\u001B[0;32m     71\u001B[0m                      \u001B[38;5;241m%\u001B[39m (\u001B[38;5;28mlen\u001B[39m(\u001B[38;5;28mself\u001B[39m\u001B[38;5;241m.\u001B[39mweights), \u001B[38;5;28mlen\u001B[39m(\u001B[38;5;28mself\u001B[39m\u001B[38;5;241m.\u001B[39mestimators)))\n\u001B[1;32m---> 73\u001B[0m \u001B[38;5;28mself\u001B[39m\u001B[38;5;241m.\u001B[39mestimators_ \u001B[38;5;241m=\u001B[39m \u001B[43mParallel\u001B[49m\u001B[43m(\u001B[49m\u001B[43mn_jobs\u001B[49m\u001B[38;5;241;43m=\u001B[39;49m\u001B[38;5;28;43mself\u001B[39;49m\u001B[38;5;241;43m.\u001B[39;49m\u001B[43mn_jobs\u001B[49m\u001B[43m)\u001B[49m\u001B[43m(\u001B[49m\n\u001B[0;32m     74\u001B[0m \u001B[43m        \u001B[49m\u001B[43mdelayed\u001B[49m\u001B[43m(\u001B[49m\u001B[43m_fit_single_estimator\u001B[49m\u001B[43m)\u001B[49m\u001B[43m(\u001B[49m\n\u001B[0;32m     75\u001B[0m \u001B[43m                \u001B[49m\u001B[43mclone\u001B[49m\u001B[43m(\u001B[49m\u001B[43mclf\u001B[49m\u001B[43m)\u001B[49m\u001B[43m,\u001B[49m\u001B[43m \u001B[49m\u001B[43mX\u001B[49m\u001B[43m,\u001B[49m\u001B[43m \u001B[49m\u001B[43my\u001B[49m\u001B[43m,\u001B[49m\n\u001B[0;32m     76\u001B[0m \u001B[43m                \u001B[49m\u001B[43msample_weight\u001B[49m\u001B[38;5;241;43m=\u001B[39;49m\u001B[43msample_weight\u001B[49m\u001B[43m,\u001B[49m\n\u001B[0;32m     77\u001B[0m \u001B[43m                \u001B[49m\u001B[43mmessage_clsname\u001B[49m\u001B[38;5;241;43m=\u001B[39;49m\u001B[38;5;124;43m'\u001B[39;49m\u001B[38;5;124;43mVoting\u001B[39;49m\u001B[38;5;124;43m'\u001B[39;49m\u001B[43m,\u001B[49m\n\u001B[0;32m     78\u001B[0m \u001B[43m                \u001B[49m\u001B[43mmessage\u001B[49m\u001B[38;5;241;43m=\u001B[39;49m\u001B[38;5;28;43mself\u001B[39;49m\u001B[38;5;241;43m.\u001B[39;49m\u001B[43m_log_message\u001B[49m\u001B[43m(\u001B[49m\u001B[43mnames\u001B[49m\u001B[43m[\u001B[49m\u001B[43midx\u001B[49m\u001B[43m]\u001B[49m\u001B[43m,\u001B[49m\n\u001B[0;32m     79\u001B[0m \u001B[43m                                          \u001B[49m\u001B[43midx\u001B[49m\u001B[43m \u001B[49m\u001B[38;5;241;43m+\u001B[39;49m\u001B[43m \u001B[49m\u001B[38;5;241;43m1\u001B[39;49m\u001B[43m,\u001B[49m\u001B[43m \u001B[49m\u001B[38;5;28;43mlen\u001B[39;49m\u001B[43m(\u001B[49m\u001B[43mclfs\u001B[49m\u001B[43m)\u001B[49m\u001B[43m)\u001B[49m\n\u001B[0;32m     80\u001B[0m \u001B[43m        \u001B[49m\u001B[43m)\u001B[49m\n\u001B[0;32m     81\u001B[0m \u001B[43m        \u001B[49m\u001B[38;5;28;43;01mfor\u001B[39;49;00m\u001B[43m \u001B[49m\u001B[43midx\u001B[49m\u001B[43m,\u001B[49m\u001B[43m \u001B[49m\u001B[43mclf\u001B[49m\u001B[43m \u001B[49m\u001B[38;5;129;43;01min\u001B[39;49;00m\u001B[43m \u001B[49m\u001B[38;5;28;43menumerate\u001B[39;49m\u001B[43m(\u001B[49m\u001B[43mclfs\u001B[49m\u001B[43m)\u001B[49m\u001B[43m \u001B[49m\u001B[38;5;28;43;01mif\u001B[39;49;00m\u001B[43m \u001B[49m\u001B[43mclf\u001B[49m\u001B[43m \u001B[49m\u001B[38;5;129;43;01mnot\u001B[39;49;00m\u001B[43m \u001B[49m\u001B[38;5;129;43;01min\u001B[39;49;00m\u001B[43m \u001B[49m\u001B[43m(\u001B[49m\u001B[38;5;28;43;01mNone\u001B[39;49;00m\u001B[43m,\u001B[49m\u001B[43m \u001B[49m\u001B[38;5;124;43m'\u001B[39;49m\u001B[38;5;124;43mdrop\u001B[39;49m\u001B[38;5;124;43m'\u001B[39;49m\u001B[43m)\u001B[49m\n\u001B[0;32m     82\u001B[0m \u001B[43m    \u001B[49m\u001B[43m)\u001B[49m\n\u001B[0;32m     84\u001B[0m \u001B[38;5;28mself\u001B[39m\u001B[38;5;241m.\u001B[39mnamed_estimators_ \u001B[38;5;241m=\u001B[39m Bunch()\n\u001B[0;32m     86\u001B[0m \u001B[38;5;66;03m# Uses None or 'drop' as placeholder for dropped estimators\u001B[39;00m\n",
      "File \u001B[1;32m~\\miniconda3\\envs\\pycaret2\\lib\\site-packages\\joblib\\parallel.py:1088\u001B[0m, in \u001B[0;36mParallel.__call__\u001B[1;34m(self, iterable)\u001B[0m\n\u001B[0;32m   1085\u001B[0m \u001B[38;5;28;01mif\u001B[39;00m \u001B[38;5;28mself\u001B[39m\u001B[38;5;241m.\u001B[39mdispatch_one_batch(iterator):\n\u001B[0;32m   1086\u001B[0m     \u001B[38;5;28mself\u001B[39m\u001B[38;5;241m.\u001B[39m_iterating \u001B[38;5;241m=\u001B[39m \u001B[38;5;28mself\u001B[39m\u001B[38;5;241m.\u001B[39m_original_iterator \u001B[38;5;129;01mis\u001B[39;00m \u001B[38;5;129;01mnot\u001B[39;00m \u001B[38;5;28;01mNone\u001B[39;00m\n\u001B[1;32m-> 1088\u001B[0m \u001B[38;5;28;01mwhile\u001B[39;00m \u001B[38;5;28;43mself\u001B[39;49m\u001B[38;5;241;43m.\u001B[39;49m\u001B[43mdispatch_one_batch\u001B[49m\u001B[43m(\u001B[49m\u001B[43miterator\u001B[49m\u001B[43m)\u001B[49m:\n\u001B[0;32m   1089\u001B[0m     \u001B[38;5;28;01mpass\u001B[39;00m\n\u001B[0;32m   1091\u001B[0m \u001B[38;5;28;01mif\u001B[39;00m pre_dispatch \u001B[38;5;241m==\u001B[39m \u001B[38;5;124m\"\u001B[39m\u001B[38;5;124mall\u001B[39m\u001B[38;5;124m\"\u001B[39m \u001B[38;5;129;01mor\u001B[39;00m n_jobs \u001B[38;5;241m==\u001B[39m \u001B[38;5;241m1\u001B[39m:\n\u001B[0;32m   1092\u001B[0m     \u001B[38;5;66;03m# The iterable was consumed all at once by the above for loop.\u001B[39;00m\n\u001B[0;32m   1093\u001B[0m     \u001B[38;5;66;03m# No need to wait for async callbacks to trigger to\u001B[39;00m\n\u001B[0;32m   1094\u001B[0m     \u001B[38;5;66;03m# consumption.\u001B[39;00m\n",
      "File \u001B[1;32m~\\miniconda3\\envs\\pycaret2\\lib\\site-packages\\joblib\\parallel.py:901\u001B[0m, in \u001B[0;36mParallel.dispatch_one_batch\u001B[1;34m(self, iterator)\u001B[0m\n\u001B[0;32m    899\u001B[0m     \u001B[38;5;28;01mreturn\u001B[39;00m \u001B[38;5;28;01mFalse\u001B[39;00m\n\u001B[0;32m    900\u001B[0m \u001B[38;5;28;01melse\u001B[39;00m:\n\u001B[1;32m--> 901\u001B[0m     \u001B[38;5;28;43mself\u001B[39;49m\u001B[38;5;241;43m.\u001B[39;49m\u001B[43m_dispatch\u001B[49m\u001B[43m(\u001B[49m\u001B[43mtasks\u001B[49m\u001B[43m)\u001B[49m\n\u001B[0;32m    902\u001B[0m     \u001B[38;5;28;01mreturn\u001B[39;00m \u001B[38;5;28;01mTrue\u001B[39;00m\n",
      "File \u001B[1;32m~\\miniconda3\\envs\\pycaret2\\lib\\site-packages\\joblib\\parallel.py:819\u001B[0m, in \u001B[0;36mParallel._dispatch\u001B[1;34m(self, batch)\u001B[0m\n\u001B[0;32m    817\u001B[0m \u001B[38;5;28;01mwith\u001B[39;00m \u001B[38;5;28mself\u001B[39m\u001B[38;5;241m.\u001B[39m_lock:\n\u001B[0;32m    818\u001B[0m     job_idx \u001B[38;5;241m=\u001B[39m \u001B[38;5;28mlen\u001B[39m(\u001B[38;5;28mself\u001B[39m\u001B[38;5;241m.\u001B[39m_jobs)\n\u001B[1;32m--> 819\u001B[0m     job \u001B[38;5;241m=\u001B[39m \u001B[38;5;28;43mself\u001B[39;49m\u001B[38;5;241;43m.\u001B[39;49m\u001B[43m_backend\u001B[49m\u001B[38;5;241;43m.\u001B[39;49m\u001B[43mapply_async\u001B[49m\u001B[43m(\u001B[49m\u001B[43mbatch\u001B[49m\u001B[43m,\u001B[49m\u001B[43m \u001B[49m\u001B[43mcallback\u001B[49m\u001B[38;5;241;43m=\u001B[39;49m\u001B[43mcb\u001B[49m\u001B[43m)\u001B[49m\n\u001B[0;32m    820\u001B[0m     \u001B[38;5;66;03m# A job can complete so quickly than its callback is\u001B[39;00m\n\u001B[0;32m    821\u001B[0m     \u001B[38;5;66;03m# called before we get here, causing self._jobs to\u001B[39;00m\n\u001B[0;32m    822\u001B[0m     \u001B[38;5;66;03m# grow. To ensure correct results ordering, .insert is\u001B[39;00m\n\u001B[0;32m    823\u001B[0m     \u001B[38;5;66;03m# used (rather than .append) in the following line\u001B[39;00m\n\u001B[0;32m    824\u001B[0m     \u001B[38;5;28mself\u001B[39m\u001B[38;5;241m.\u001B[39m_jobs\u001B[38;5;241m.\u001B[39minsert(job_idx, job)\n",
      "File \u001B[1;32m~\\miniconda3\\envs\\pycaret2\\lib\\site-packages\\joblib\\_parallel_backends.py:208\u001B[0m, in \u001B[0;36mSequentialBackend.apply_async\u001B[1;34m(self, func, callback)\u001B[0m\n\u001B[0;32m    206\u001B[0m \u001B[38;5;28;01mdef\u001B[39;00m \u001B[38;5;21mapply_async\u001B[39m(\u001B[38;5;28mself\u001B[39m, func, callback\u001B[38;5;241m=\u001B[39m\u001B[38;5;28;01mNone\u001B[39;00m):\n\u001B[0;32m    207\u001B[0m     \u001B[38;5;124;03m\"\"\"Schedule a func to be run\"\"\"\u001B[39;00m\n\u001B[1;32m--> 208\u001B[0m     result \u001B[38;5;241m=\u001B[39m \u001B[43mImmediateResult\u001B[49m\u001B[43m(\u001B[49m\u001B[43mfunc\u001B[49m\u001B[43m)\u001B[49m\n\u001B[0;32m    209\u001B[0m     \u001B[38;5;28;01mif\u001B[39;00m callback:\n\u001B[0;32m    210\u001B[0m         callback(result)\n",
      "File \u001B[1;32m~\\miniconda3\\envs\\pycaret2\\lib\\site-packages\\joblib\\_parallel_backends.py:597\u001B[0m, in \u001B[0;36mImmediateResult.__init__\u001B[1;34m(self, batch)\u001B[0m\n\u001B[0;32m    594\u001B[0m \u001B[38;5;28;01mdef\u001B[39;00m \u001B[38;5;21m__init__\u001B[39m(\u001B[38;5;28mself\u001B[39m, batch):\n\u001B[0;32m    595\u001B[0m     \u001B[38;5;66;03m# Don't delay the application, to avoid keeping the input\u001B[39;00m\n\u001B[0;32m    596\u001B[0m     \u001B[38;5;66;03m# arguments in memory\u001B[39;00m\n\u001B[1;32m--> 597\u001B[0m     \u001B[38;5;28mself\u001B[39m\u001B[38;5;241m.\u001B[39mresults \u001B[38;5;241m=\u001B[39m \u001B[43mbatch\u001B[49m\u001B[43m(\u001B[49m\u001B[43m)\u001B[49m\n",
      "File \u001B[1;32m~\\miniconda3\\envs\\pycaret2\\lib\\site-packages\\joblib\\parallel.py:288\u001B[0m, in \u001B[0;36mBatchedCalls.__call__\u001B[1;34m(self)\u001B[0m\n\u001B[0;32m    284\u001B[0m \u001B[38;5;28;01mdef\u001B[39;00m \u001B[38;5;21m__call__\u001B[39m(\u001B[38;5;28mself\u001B[39m):\n\u001B[0;32m    285\u001B[0m     \u001B[38;5;66;03m# Set the default nested backend to self._backend but do not set the\u001B[39;00m\n\u001B[0;32m    286\u001B[0m     \u001B[38;5;66;03m# change the default number of processes to -1\u001B[39;00m\n\u001B[0;32m    287\u001B[0m     \u001B[38;5;28;01mwith\u001B[39;00m parallel_backend(\u001B[38;5;28mself\u001B[39m\u001B[38;5;241m.\u001B[39m_backend, n_jobs\u001B[38;5;241m=\u001B[39m\u001B[38;5;28mself\u001B[39m\u001B[38;5;241m.\u001B[39m_n_jobs):\n\u001B[1;32m--> 288\u001B[0m         \u001B[38;5;28;01mreturn\u001B[39;00m [func(\u001B[38;5;241m*\u001B[39margs, \u001B[38;5;241m*\u001B[39m\u001B[38;5;241m*\u001B[39mkwargs)\n\u001B[0;32m    289\u001B[0m                 \u001B[38;5;28;01mfor\u001B[39;00m func, args, kwargs \u001B[38;5;129;01min\u001B[39;00m \u001B[38;5;28mself\u001B[39m\u001B[38;5;241m.\u001B[39mitems]\n",
      "File \u001B[1;32m~\\miniconda3\\envs\\pycaret2\\lib\\site-packages\\joblib\\parallel.py:288\u001B[0m, in \u001B[0;36m<listcomp>\u001B[1;34m(.0)\u001B[0m\n\u001B[0;32m    284\u001B[0m \u001B[38;5;28;01mdef\u001B[39;00m \u001B[38;5;21m__call__\u001B[39m(\u001B[38;5;28mself\u001B[39m):\n\u001B[0;32m    285\u001B[0m     \u001B[38;5;66;03m# Set the default nested backend to self._backend but do not set the\u001B[39;00m\n\u001B[0;32m    286\u001B[0m     \u001B[38;5;66;03m# change the default number of processes to -1\u001B[39;00m\n\u001B[0;32m    287\u001B[0m     \u001B[38;5;28;01mwith\u001B[39;00m parallel_backend(\u001B[38;5;28mself\u001B[39m\u001B[38;5;241m.\u001B[39m_backend, n_jobs\u001B[38;5;241m=\u001B[39m\u001B[38;5;28mself\u001B[39m\u001B[38;5;241m.\u001B[39m_n_jobs):\n\u001B[1;32m--> 288\u001B[0m         \u001B[38;5;28;01mreturn\u001B[39;00m [\u001B[43mfunc\u001B[49m\u001B[43m(\u001B[49m\u001B[38;5;241;43m*\u001B[39;49m\u001B[43margs\u001B[49m\u001B[43m,\u001B[49m\u001B[43m \u001B[49m\u001B[38;5;241;43m*\u001B[39;49m\u001B[38;5;241;43m*\u001B[39;49m\u001B[43mkwargs\u001B[49m\u001B[43m)\u001B[49m\n\u001B[0;32m    289\u001B[0m                 \u001B[38;5;28;01mfor\u001B[39;00m func, args, kwargs \u001B[38;5;129;01min\u001B[39;00m \u001B[38;5;28mself\u001B[39m\u001B[38;5;241m.\u001B[39mitems]\n",
      "File \u001B[1;32m~\\miniconda3\\envs\\pycaret2\\lib\\site-packages\\sklearn\\ensemble\\_base.py:40\u001B[0m, in \u001B[0;36m_fit_single_estimator\u001B[1;34m(estimator, X, y, sample_weight, message_clsname, message)\u001B[0m\n\u001B[0;32m     38\u001B[0m \u001B[38;5;28;01melse\u001B[39;00m:\n\u001B[0;32m     39\u001B[0m     \u001B[38;5;28;01mwith\u001B[39;00m _print_elapsed_time(message_clsname, message):\n\u001B[1;32m---> 40\u001B[0m         \u001B[43mestimator\u001B[49m\u001B[38;5;241;43m.\u001B[39;49m\u001B[43mfit\u001B[49m\u001B[43m(\u001B[49m\u001B[43mX\u001B[49m\u001B[43m,\u001B[49m\u001B[43m \u001B[49m\u001B[43my\u001B[49m\u001B[43m)\u001B[49m\n\u001B[0;32m     41\u001B[0m \u001B[38;5;28;01mreturn\u001B[39;00m estimator\n",
      "File \u001B[1;32m~\\miniconda3\\envs\\pycaret2\\lib\\site-packages\\sklearn\\ensemble\\_gb.py:498\u001B[0m, in \u001B[0;36mBaseGradientBoosting.fit\u001B[1;34m(self, X, y, sample_weight, monitor)\u001B[0m\n\u001B[0;32m    495\u001B[0m X_idx_sorted \u001B[38;5;241m=\u001B[39m \u001B[38;5;28;01mNone\u001B[39;00m\n\u001B[0;32m    497\u001B[0m \u001B[38;5;66;03m# fit the boosting stages\u001B[39;00m\n\u001B[1;32m--> 498\u001B[0m n_stages \u001B[38;5;241m=\u001B[39m \u001B[38;5;28;43mself\u001B[39;49m\u001B[38;5;241;43m.\u001B[39;49m\u001B[43m_fit_stages\u001B[49m\u001B[43m(\u001B[49m\n\u001B[0;32m    499\u001B[0m \u001B[43m    \u001B[49m\u001B[43mX\u001B[49m\u001B[43m,\u001B[49m\u001B[43m \u001B[49m\u001B[43my\u001B[49m\u001B[43m,\u001B[49m\u001B[43m \u001B[49m\u001B[43mraw_predictions\u001B[49m\u001B[43m,\u001B[49m\u001B[43m \u001B[49m\u001B[43msample_weight\u001B[49m\u001B[43m,\u001B[49m\u001B[43m \u001B[49m\u001B[38;5;28;43mself\u001B[39;49m\u001B[38;5;241;43m.\u001B[39;49m\u001B[43m_rng\u001B[49m\u001B[43m,\u001B[49m\u001B[43m \u001B[49m\u001B[43mX_val\u001B[49m\u001B[43m,\u001B[49m\u001B[43m \u001B[49m\u001B[43my_val\u001B[49m\u001B[43m,\u001B[49m\n\u001B[0;32m    500\u001B[0m \u001B[43m    \u001B[49m\u001B[43msample_weight_val\u001B[49m\u001B[43m,\u001B[49m\u001B[43m \u001B[49m\u001B[43mbegin_at_stage\u001B[49m\u001B[43m,\u001B[49m\u001B[43m \u001B[49m\u001B[43mmonitor\u001B[49m\u001B[43m,\u001B[49m\u001B[43m \u001B[49m\u001B[43mX_idx_sorted\u001B[49m\u001B[43m)\u001B[49m\n\u001B[0;32m    502\u001B[0m \u001B[38;5;66;03m# change shape of arrays after fit (early-stopping or additional ests)\u001B[39;00m\n\u001B[0;32m    503\u001B[0m \u001B[38;5;28;01mif\u001B[39;00m n_stages \u001B[38;5;241m!=\u001B[39m \u001B[38;5;28mself\u001B[39m\u001B[38;5;241m.\u001B[39mestimators_\u001B[38;5;241m.\u001B[39mshape[\u001B[38;5;241m0\u001B[39m]:\n",
      "File \u001B[1;32m~\\miniconda3\\envs\\pycaret2\\lib\\site-packages\\sklearn\\ensemble\\_gb.py:555\u001B[0m, in \u001B[0;36mBaseGradientBoosting._fit_stages\u001B[1;34m(self, X, y, raw_predictions, sample_weight, random_state, X_val, y_val, sample_weight_val, begin_at_stage, monitor, X_idx_sorted)\u001B[0m\n\u001B[0;32m    550\u001B[0m     old_oob_score \u001B[38;5;241m=\u001B[39m loss_(y[\u001B[38;5;241m~\u001B[39msample_mask],\n\u001B[0;32m    551\u001B[0m                           raw_predictions[\u001B[38;5;241m~\u001B[39msample_mask],\n\u001B[0;32m    552\u001B[0m                           sample_weight[\u001B[38;5;241m~\u001B[39msample_mask])\n\u001B[0;32m    554\u001B[0m \u001B[38;5;66;03m# fit next stage of trees\u001B[39;00m\n\u001B[1;32m--> 555\u001B[0m raw_predictions \u001B[38;5;241m=\u001B[39m \u001B[38;5;28;43mself\u001B[39;49m\u001B[38;5;241;43m.\u001B[39;49m\u001B[43m_fit_stage\u001B[49m\u001B[43m(\u001B[49m\n\u001B[0;32m    556\u001B[0m \u001B[43m    \u001B[49m\u001B[43mi\u001B[49m\u001B[43m,\u001B[49m\u001B[43m \u001B[49m\u001B[43mX\u001B[49m\u001B[43m,\u001B[49m\u001B[43m \u001B[49m\u001B[43my\u001B[49m\u001B[43m,\u001B[49m\u001B[43m \u001B[49m\u001B[43mraw_predictions\u001B[49m\u001B[43m,\u001B[49m\u001B[43m \u001B[49m\u001B[43msample_weight\u001B[49m\u001B[43m,\u001B[49m\u001B[43m \u001B[49m\u001B[43msample_mask\u001B[49m\u001B[43m,\u001B[49m\n\u001B[0;32m    557\u001B[0m \u001B[43m    \u001B[49m\u001B[43mrandom_state\u001B[49m\u001B[43m,\u001B[49m\u001B[43m \u001B[49m\u001B[43mX_idx_sorted\u001B[49m\u001B[43m,\u001B[49m\u001B[43m \u001B[49m\u001B[43mX_csc\u001B[49m\u001B[43m,\u001B[49m\u001B[43m \u001B[49m\u001B[43mX_csr\u001B[49m\u001B[43m)\u001B[49m\n\u001B[0;32m    559\u001B[0m \u001B[38;5;66;03m# track deviance (= loss)\u001B[39;00m\n\u001B[0;32m    560\u001B[0m \u001B[38;5;28;01mif\u001B[39;00m do_oob:\n",
      "File \u001B[1;32m~\\miniconda3\\envs\\pycaret2\\lib\\site-packages\\sklearn\\ensemble\\_gb.py:211\u001B[0m, in \u001B[0;36mBaseGradientBoosting._fit_stage\u001B[1;34m(self, i, X, y, raw_predictions, sample_weight, sample_mask, random_state, X_idx_sorted, X_csc, X_csr)\u001B[0m\n\u001B[0;32m    208\u001B[0m     sample_weight \u001B[38;5;241m=\u001B[39m sample_weight \u001B[38;5;241m*\u001B[39m sample_mask\u001B[38;5;241m.\u001B[39mastype(np\u001B[38;5;241m.\u001B[39mfloat64)\n\u001B[0;32m    210\u001B[0m X \u001B[38;5;241m=\u001B[39m X_csr \u001B[38;5;28;01mif\u001B[39;00m X_csr \u001B[38;5;129;01mis\u001B[39;00m \u001B[38;5;129;01mnot\u001B[39;00m \u001B[38;5;28;01mNone\u001B[39;00m \u001B[38;5;28;01melse\u001B[39;00m X\n\u001B[1;32m--> 211\u001B[0m \u001B[43mtree\u001B[49m\u001B[38;5;241;43m.\u001B[39;49m\u001B[43mfit\u001B[49m\u001B[43m(\u001B[49m\u001B[43mX\u001B[49m\u001B[43m,\u001B[49m\u001B[43m \u001B[49m\u001B[43mresidual\u001B[49m\u001B[43m,\u001B[49m\u001B[43m \u001B[49m\u001B[43msample_weight\u001B[49m\u001B[38;5;241;43m=\u001B[39;49m\u001B[43msample_weight\u001B[49m\u001B[43m,\u001B[49m\n\u001B[0;32m    212\u001B[0m \u001B[43m         \u001B[49m\u001B[43mcheck_input\u001B[49m\u001B[38;5;241;43m=\u001B[39;49m\u001B[38;5;28;43;01mFalse\u001B[39;49;00m\u001B[43m,\u001B[49m\u001B[43m \u001B[49m\u001B[43mX_idx_sorted\u001B[49m\u001B[38;5;241;43m=\u001B[39;49m\u001B[43mX_idx_sorted\u001B[49m\u001B[43m)\u001B[49m\n\u001B[0;32m    214\u001B[0m \u001B[38;5;66;03m# update tree leaves\u001B[39;00m\n\u001B[0;32m    215\u001B[0m loss\u001B[38;5;241m.\u001B[39mupdate_terminal_regions(\n\u001B[0;32m    216\u001B[0m     tree\u001B[38;5;241m.\u001B[39mtree_, X, y, residual, raw_predictions, sample_weight,\n\u001B[0;32m    217\u001B[0m     sample_mask, learning_rate\u001B[38;5;241m=\u001B[39m\u001B[38;5;28mself\u001B[39m\u001B[38;5;241m.\u001B[39mlearning_rate, k\u001B[38;5;241m=\u001B[39mk)\n",
      "File \u001B[1;32m~\\miniconda3\\envs\\pycaret2\\lib\\site-packages\\sklearn\\tree\\_classes.py:1242\u001B[0m, in \u001B[0;36mDecisionTreeRegressor.fit\u001B[1;34m(self, X, y, sample_weight, check_input, X_idx_sorted)\u001B[0m\n\u001B[0;32m   1205\u001B[0m \u001B[38;5;28;01mdef\u001B[39;00m \u001B[38;5;21mfit\u001B[39m(\u001B[38;5;28mself\u001B[39m, X, y, sample_weight\u001B[38;5;241m=\u001B[39m\u001B[38;5;28;01mNone\u001B[39;00m, check_input\u001B[38;5;241m=\u001B[39m\u001B[38;5;28;01mTrue\u001B[39;00m,\n\u001B[0;32m   1206\u001B[0m         X_idx_sorted\u001B[38;5;241m=\u001B[39m\u001B[38;5;28;01mNone\u001B[39;00m):\n\u001B[0;32m   1207\u001B[0m     \u001B[38;5;124;03m\"\"\"Build a decision tree regressor from the training set (X, y).\u001B[39;00m\n\u001B[0;32m   1208\u001B[0m \n\u001B[0;32m   1209\u001B[0m \u001B[38;5;124;03m    Parameters\u001B[39;00m\n\u001B[1;32m   (...)\u001B[0m\n\u001B[0;32m   1239\u001B[0m \u001B[38;5;124;03m        Fitted estimator.\u001B[39;00m\n\u001B[0;32m   1240\u001B[0m \u001B[38;5;124;03m    \"\"\"\u001B[39;00m\n\u001B[1;32m-> 1242\u001B[0m     \u001B[38;5;28;43msuper\u001B[39;49m\u001B[43m(\u001B[49m\u001B[43m)\u001B[49m\u001B[38;5;241;43m.\u001B[39;49m\u001B[43mfit\u001B[49m\u001B[43m(\u001B[49m\n\u001B[0;32m   1243\u001B[0m \u001B[43m        \u001B[49m\u001B[43mX\u001B[49m\u001B[43m,\u001B[49m\u001B[43m \u001B[49m\u001B[43my\u001B[49m\u001B[43m,\u001B[49m\n\u001B[0;32m   1244\u001B[0m \u001B[43m        \u001B[49m\u001B[43msample_weight\u001B[49m\u001B[38;5;241;43m=\u001B[39;49m\u001B[43msample_weight\u001B[49m\u001B[43m,\u001B[49m\n\u001B[0;32m   1245\u001B[0m \u001B[43m        \u001B[49m\u001B[43mcheck_input\u001B[49m\u001B[38;5;241;43m=\u001B[39;49m\u001B[43mcheck_input\u001B[49m\u001B[43m,\u001B[49m\n\u001B[0;32m   1246\u001B[0m \u001B[43m        \u001B[49m\u001B[43mX_idx_sorted\u001B[49m\u001B[38;5;241;43m=\u001B[39;49m\u001B[43mX_idx_sorted\u001B[49m\u001B[43m)\u001B[49m\n\u001B[0;32m   1247\u001B[0m     \u001B[38;5;28;01mreturn\u001B[39;00m \u001B[38;5;28mself\u001B[39m\n",
      "File \u001B[1;32m~\\miniconda3\\envs\\pycaret2\\lib\\site-packages\\sklearn\\tree\\_classes.py:375\u001B[0m, in \u001B[0;36mBaseDecisionTree.fit\u001B[1;34m(self, X, y, sample_weight, check_input, X_idx_sorted)\u001B[0m\n\u001B[0;32m    366\u001B[0m \u001B[38;5;28;01melse\u001B[39;00m:\n\u001B[0;32m    367\u001B[0m     builder \u001B[38;5;241m=\u001B[39m BestFirstTreeBuilder(splitter, min_samples_split,\n\u001B[0;32m    368\u001B[0m                                    min_samples_leaf,\n\u001B[0;32m    369\u001B[0m                                    min_weight_leaf,\n\u001B[1;32m   (...)\u001B[0m\n\u001B[0;32m    372\u001B[0m                                    \u001B[38;5;28mself\u001B[39m\u001B[38;5;241m.\u001B[39mmin_impurity_decrease,\n\u001B[0;32m    373\u001B[0m                                    min_impurity_split)\n\u001B[1;32m--> 375\u001B[0m \u001B[43mbuilder\u001B[49m\u001B[38;5;241;43m.\u001B[39;49m\u001B[43mbuild\u001B[49m\u001B[43m(\u001B[49m\u001B[38;5;28;43mself\u001B[39;49m\u001B[38;5;241;43m.\u001B[39;49m\u001B[43mtree_\u001B[49m\u001B[43m,\u001B[49m\u001B[43m \u001B[49m\u001B[43mX\u001B[49m\u001B[43m,\u001B[49m\u001B[43m \u001B[49m\u001B[43my\u001B[49m\u001B[43m,\u001B[49m\u001B[43m \u001B[49m\u001B[43msample_weight\u001B[49m\u001B[43m,\u001B[49m\u001B[43m \u001B[49m\u001B[43mX_idx_sorted\u001B[49m\u001B[43m)\u001B[49m\n\u001B[0;32m    377\u001B[0m \u001B[38;5;28;01mif\u001B[39;00m \u001B[38;5;28mself\u001B[39m\u001B[38;5;241m.\u001B[39mn_outputs_ \u001B[38;5;241m==\u001B[39m \u001B[38;5;241m1\u001B[39m \u001B[38;5;129;01mand\u001B[39;00m is_classifier(\u001B[38;5;28mself\u001B[39m):\n\u001B[0;32m    378\u001B[0m     \u001B[38;5;28mself\u001B[39m\u001B[38;5;241m.\u001B[39mn_classes_ \u001B[38;5;241m=\u001B[39m \u001B[38;5;28mself\u001B[39m\u001B[38;5;241m.\u001B[39mn_classes_[\u001B[38;5;241m0\u001B[39m]\n",
      "\u001B[1;31mKeyboardInterrupt\u001B[0m: "
     ]
    }
   ],
   "source": [
    "# top5 = compare_models(sort='Accuracy', n_select=10)\n",
    "# 점심시간 전에 model blending\n",
    "top5 = compare_models(sort='Accuracy', n_select=5, fold=5)\n",
    "blended_models = blend_models(top5, fold=5)\n",
    "finalized_models = finalize_model(blended_models)\n",
    "save_model(finalized_models, './original_model3/blend')\n"
   ]
  },
  {
   "cell_type": "code",
   "execution_count": null,
   "outputs": [],
   "source": [
    "predictions_blend = predict_model(data=VAL, estimator=finalized_models)\n",
    "predictions_blend"
   ],
   "metadata": {
    "collapsed": false
   }
  },
  {
   "cell_type": "code",
   "execution_count": null,
   "metadata": {
    "collapsed": false,
    "pycharm": {
     "is_executing": true
    }
   },
   "outputs": [],
   "source": [
    "'''\n",
    "https://bigdaheta.tistory.com/53\n",
    "교수님 말씀은, 니가 평가지표에 대해 제대로 알고 있어야 지도할 게 있다는 건데,\n",
    "사실 key2, 지금 이 상태에서 분류를 맞추는 데 있어서는 accuracy가 높은 게 장땡아닌가 싶다.\n",
    "정밀도는, false를 true로 잘못 예측하는 것이 critical할 때 검토할 필요가 있는 지표라고 하는데, 이 경우에도 ridge가 가장 높은 퍼포먼스를 보여줬었다 part1 있을 때는.\n",
    "지금은 part1 빼버리고 subject를 넣어서 또 모델이 바뀔 것같은데 어떻게 될지는 지켜봐야지..\n",
    "'''"
   ]
  },
  {
   "cell_type": "code",
   "execution_count": null,
   "metadata": {
    "collapsed": false,
    "pycharm": {
     "is_executing": true
    }
   },
   "outputs": [],
   "source": [
    "lr1 = create_model('lr')\n",
    "finalize_model(lr1)\n",
    "save_model(lr1, './original_model3/lr1')\n",
    "prediction_lr = predict_model(lr1, VAL)\n",
    "prediction_lr"
   ]
  },
  {
   "cell_type": "code",
   "execution_count": null,
   "metadata": {
    "collapsed": false,
    "pycharm": {
     "is_executing": true
    }
   },
   "outputs": [],
   "source": [
    "knn1 = create_model('knn')\n",
    "finalize_model(knn1)\n",
    "save_model(knn1, './original_model3/knn1')\n",
    "prediction_knn = predict_model(knn1, VAL)\n",
    "prediction_knn"
   ]
  },
  {
   "cell_type": "code",
   "execution_count": null,
   "metadata": {
    "collapsed": false,
    "pycharm": {
     "is_executing": true
    }
   },
   "outputs": [],
   "source": [
    "nb1 = create_model('nb')\n",
    "finalize_model(nb1)\n",
    "save_model(nb1, './original_model3/knn1')\n",
    "prediction_nb = predict_model(nb1, VAL)\n",
    "prediction_nb"
   ]
  },
  {
   "cell_type": "code",
   "execution_count": null,
   "metadata": {
    "collapsed": false,
    "pycharm": {
     "is_executing": true
    }
   },
   "outputs": [],
   "source": [
    "dt1 = create_model('dt')\n",
    "finalize_model(dt1)\n",
    "save_model(dt1, './original_model3/knn1')\n",
    "prediction_dt = predict_model(dt1, VAL)\n",
    "prediction_dt"
   ]
  },
  {
   "cell_type": "code",
   "execution_count": null,
   "metadata": {
    "collapsed": false,
    "pycharm": {
     "is_executing": true
    }
   },
   "outputs": [],
   "source": [
    "svm1 = create_model('svm')\n",
    "finalize_model(svm1)\n",
    "save_model(svm1, './original_model3/svm1')\n",
    "prediction_svm = predict_model(svm1, VAL)\n",
    "prediction_svm"
   ]
  },
  {
   "cell_type": "code",
   "execution_count": null,
   "metadata": {
    "collapsed": false,
    "pycharm": {
     "is_executing": true
    }
   },
   "outputs": [],
   "source": [
    "rbfsvm1 = create_model('rbfsvm')\n",
    "finalize_model(rbfsvm1)\n",
    "save_model(rbfsvm1, './original_model3/rbfsvm1')\n",
    "prediction_rbfsvm = predict_model(rbfsvm1, VAL)\n",
    "prediction_rbfsvm"
   ]
  },
  {
   "cell_type": "code",
   "execution_count": null,
   "metadata": {
    "collapsed": false,
    "pycharm": {
     "is_executing": true
    }
   },
   "outputs": [],
   "source": [
    "gpc1 = create_model('gpc')\n",
    "finalize_model(gpc1)\n",
    "save_model(gpc1, './original_model3/gpc1')\n",
    "prediction_gpc = predict_model(gpc1, VAL)\n",
    "prediction_gpc"
   ]
  },
  {
   "cell_type": "code",
   "execution_count": null,
   "metadata": {
    "collapsed": false,
    "pycharm": {
     "is_executing": true
    }
   },
   "outputs": [],
   "source": [
    "mlp1 = create_model('mlp')\n",
    "finalize_model(mlp1)\n",
    "save_model(mlp1, './original_model3/mlp1')\n",
    "prediction_mlp = predict_model(mlp1, VAL)\n",
    "prediction_mlp"
   ]
  },
  {
   "cell_type": "code",
   "execution_count": null,
   "metadata": {
    "collapsed": false,
    "pycharm": {
     "is_executing": true
    }
   },
   "outputs": [],
   "source": [
    "ridge1 = create_model('ridge')\n",
    "finalize_model(ridge1)\n",
    "save_model(ridge1, './original_model3/ridge1_1')\n",
    "prediction_ridge = predict_model(ridge1, VAL)\n",
    "prediction_ridge"
   ]
  },
  {
   "cell_type": "code",
   "execution_count": null,
   "metadata": {
    "collapsed": false,
    "pycharm": {
     "is_executing": true
    }
   },
   "outputs": [],
   "source": [
    "rf1 = create_model('rf')\n",
    "tuned_rf1 = tune_model(rf1)\n",
    "final_rf1 = finalize_model(tuned_rf1)\n",
    "save_model(rf1, './original_model3/rf1')\n",
    "prediction_rf = predict_model(rf1, VAL)\n",
    "prediction_rf"
   ]
  },
  {
   "cell_type": "code",
   "execution_count": null,
   "metadata": {
    "collapsed": false,
    "pycharm": {
     "is_executing": true
    }
   },
   "outputs": [],
   "source": [
    "qda1 = create_model('qda')\n",
    "finalize_model(qda1)\n",
    "save_model(qda1, './original_model3/rf1')\n",
    "prediction_qda = predict_model(qda1, VAL)\n",
    "prediction_qda"
   ]
  },
  {
   "cell_type": "code",
   "execution_count": null,
   "metadata": {
    "collapsed": false,
    "pycharm": {
     "is_executing": true
    }
   },
   "outputs": [],
   "source": [
    "# 21%\n",
    "ada1 = create_model('ada')\n",
    "finalize_model(ada1)\n",
    "save_model(ada1, './original_model3/ada1')\n",
    "prediction_ada = predict_model(ada1, VAL)\n",
    "prediction_ada"
   ]
  },
  {
   "cell_type": "code",
   "execution_count": null,
   "metadata": {
    "collapsed": false,
    "pycharm": {
     "is_executing": true
    }
   },
   "outputs": [],
   "source": [
    "gbc1 = create_model('gbc')\n",
    "finalize_model(gbc1)\n",
    "save_model(gbc1, './original_model3/gbc1')\n",
    "prediction_gbc = predict_model(gbc1, VAL)\n",
    "prediction_gbc"
   ]
  },
  {
   "cell_type": "code",
   "execution_count": null,
   "metadata": {
    "collapsed": false,
    "pycharm": {
     "is_executing": true
    }
   },
   "outputs": [],
   "source": [
    "lda1 = create_model('lda')\n",
    "finalize_model(lda1)\n",
    "save_model(lda1, './original_model3/lda1')\n",
    "prediction_lda = predict_model(lda1, VAL)\n",
    "prediction_lda"
   ]
  },
  {
   "cell_type": "code",
   "execution_count": null,
   "metadata": {
    "collapsed": false,
    "pycharm": {
     "is_executing": true
    }
   },
   "outputs": [],
   "source": [
    "et1 = create_model('et')\n",
    "finalize_model(et1)\n",
    "save_model(et1, './original_model3/et1')\n",
    "prediction_et = predict_model(et1, VAL)\n",
    "prediction_et"
   ]
  },
  {
   "cell_type": "code",
   "execution_count": null,
   "metadata": {
    "collapsed": false,
    "pycharm": {
     "is_executing": true
    }
   },
   "outputs": [],
   "source": [
    "lightgbm1 = create_model('lightgbm')\n",
    "finalize_model(lightgbm1)\n",
    "save_model(lightgbm1, './original_model3/lightgbm1')\n",
    "prediction_lightgbm = predict_model(lightgbm1, VAL)\n",
    "prediction_lightgbm"
   ]
  }
 ],
 "metadata": {
  "colab": {
   "name": "classification_0721.ipynb",
   "provenance": []
  },
  "kernelspec": {
   "display_name": "Python 3",
   "language": "python",
   "name": "python3"
  },
  "language_info": {
   "codemirror_mode": {
    "name": "ipython",
    "version": 3
   },
   "file_extension": ".py",
   "mimetype": "text/x-python",
   "name": "python",
   "nbconvert_exporter": "python",
   "pygments_lexer": "ipython3",
   "version": "3.10.8"
  },
  "vscode": {
   "interpreter": {
    "hash": "540eb445b3edb3a9a1c769a9fd52b7306365b61459604418c536cd8f3f8911cb"
   }
  },
  "widgets": {
   "application/vnd.jupyter.widget-state+json": {
    "0172117c58684e3793e566e82717db07": {
     "model_module": "@jupyter-widgets/controls",
     "model_module_version": "1.5.0",
     "model_name": "ProgressStyleModel",
     "state": {
      "_model_module": "@jupyter-widgets/controls",
      "_model_module_version": "1.5.0",
      "_model_name": "ProgressStyleModel",
      "_view_count": null,
      "_view_module": "@jupyter-widgets/base",
      "_view_module_version": "1.2.0",
      "_view_name": "StyleView",
      "bar_color": null,
      "description_width": ""
     }
    },
    "02e21d95cc494175b263c1ed286e6ff7": {
     "model_module": "@jupyter-widgets/base",
     "model_module_version": "1.2.0",
     "model_name": "LayoutModel",
     "state": {
      "_model_module": "@jupyter-widgets/base",
      "_model_module_version": "1.2.0",
      "_model_name": "LayoutModel",
      "_view_count": null,
      "_view_module": "@jupyter-widgets/base",
      "_view_module_version": "1.2.0",
      "_view_name": "LayoutView",
      "align_content": null,
      "align_items": null,
      "align_self": null,
      "border": null,
      "bottom": null,
      "display": null,
      "flex": null,
      "flex_flow": null,
      "grid_area": null,
      "grid_auto_columns": null,
      "grid_auto_flow": null,
      "grid_auto_rows": null,
      "grid_column": null,
      "grid_gap": null,
      "grid_row": null,
      "grid_template_areas": null,
      "grid_template_columns": null,
      "grid_template_rows": null,
      "height": null,
      "justify_content": null,
      "justify_items": null,
      "left": null,
      "margin": null,
      "max_height": null,
      "max_width": null,
      "min_height": null,
      "min_width": null,
      "object_fit": null,
      "object_position": null,
      "order": null,
      "overflow": null,
      "overflow_x": null,
      "overflow_y": null,
      "padding": null,
      "right": null,
      "top": null,
      "visibility": null,
      "width": "100%"
     }
    },
    "04e695e25605414ebd4439dd712594f9": {
     "model_module": "@jupyter-widgets/base",
     "model_module_version": "1.2.0",
     "model_name": "LayoutModel",
     "state": {
      "_model_module": "@jupyter-widgets/base",
      "_model_module_version": "1.2.0",
      "_model_name": "LayoutModel",
      "_view_count": null,
      "_view_module": "@jupyter-widgets/base",
      "_view_module_version": "1.2.0",
      "_view_name": "LayoutView",
      "align_content": null,
      "align_items": null,
      "align_self": null,
      "border": null,
      "bottom": null,
      "display": null,
      "flex": null,
      "flex_flow": null,
      "grid_area": null,
      "grid_auto_columns": null,
      "grid_auto_flow": null,
      "grid_auto_rows": null,
      "grid_column": null,
      "grid_gap": null,
      "grid_row": null,
      "grid_template_areas": null,
      "grid_template_columns": null,
      "grid_template_rows": null,
      "height": null,
      "justify_content": null,
      "justify_items": null,
      "left": null,
      "margin": null,
      "max_height": null,
      "max_width": null,
      "min_height": null,
      "min_width": null,
      "object_fit": null,
      "object_position": null,
      "order": null,
      "overflow": null,
      "overflow_x": null,
      "overflow_y": null,
      "padding": null,
      "right": null,
      "top": null,
      "visibility": null,
      "width": "100%"
     }
    },
    "0637f6610c174a55b9b31f7f36119cdd": {
     "model_module": "@jupyter-widgets/controls",
     "model_module_version": "1.5.0",
     "model_name": "ProgressStyleModel",
     "state": {
      "_model_module": "@jupyter-widgets/controls",
      "_model_module_version": "1.5.0",
      "_model_name": "ProgressStyleModel",
      "_view_count": null,
      "_view_module": "@jupyter-widgets/base",
      "_view_module_version": "1.2.0",
      "_view_name": "StyleView",
      "bar_color": null,
      "description_width": ""
     }
    },
    "070d70753eea424da4da47e6d9c70216": {
     "model_module": "@jupyter-widgets/controls",
     "model_module_version": "1.5.0",
     "model_name": "ProgressStyleModel",
     "state": {
      "_model_module": "@jupyter-widgets/controls",
      "_model_module_version": "1.5.0",
      "_model_name": "ProgressStyleModel",
      "_view_count": null,
      "_view_module": "@jupyter-widgets/base",
      "_view_module_version": "1.2.0",
      "_view_name": "StyleView",
      "bar_color": null,
      "description_width": ""
     }
    },
    "09dba3df92004bc893f39c7063ca86af": {
     "model_module": "@jupyter-widgets/controls",
     "model_module_version": "1.5.0",
     "model_name": "ProgressStyleModel",
     "state": {
      "_model_module": "@jupyter-widgets/controls",
      "_model_module_version": "1.5.0",
      "_model_name": "ProgressStyleModel",
      "_view_count": null,
      "_view_module": "@jupyter-widgets/base",
      "_view_module_version": "1.2.0",
      "_view_name": "StyleView",
      "bar_color": null,
      "description_width": ""
     }
    },
    "13279bfa4ff244219eff66e0032dd7ea": {
     "model_module": "@jupyter-widgets/controls",
     "model_module_version": "1.5.0",
     "model_name": "ProgressStyleModel",
     "state": {
      "_model_module": "@jupyter-widgets/controls",
      "_model_module_version": "1.5.0",
      "_model_name": "ProgressStyleModel",
      "_view_count": null,
      "_view_module": "@jupyter-widgets/base",
      "_view_module_version": "1.2.0",
      "_view_name": "StyleView",
      "bar_color": null,
      "description_width": ""
     }
    },
    "2c5370c8d0ec49a98f2c99bc7faf84b8": {
     "model_module": "@jupyter-widgets/base",
     "model_module_version": "1.2.0",
     "model_name": "LayoutModel",
     "state": {
      "_model_module": "@jupyter-widgets/base",
      "_model_module_version": "1.2.0",
      "_model_name": "LayoutModel",
      "_view_count": null,
      "_view_module": "@jupyter-widgets/base",
      "_view_module_version": "1.2.0",
      "_view_name": "LayoutView",
      "align_content": null,
      "align_items": null,
      "align_self": null,
      "border": null,
      "bottom": null,
      "display": null,
      "flex": null,
      "flex_flow": null,
      "grid_area": null,
      "grid_auto_columns": null,
      "grid_auto_flow": null,
      "grid_auto_rows": null,
      "grid_column": null,
      "grid_gap": null,
      "grid_row": null,
      "grid_template_areas": null,
      "grid_template_columns": null,
      "grid_template_rows": null,
      "height": null,
      "justify_content": null,
      "justify_items": null,
      "left": null,
      "margin": null,
      "max_height": null,
      "max_width": null,
      "min_height": null,
      "min_width": null,
      "object_fit": null,
      "object_position": null,
      "order": null,
      "overflow": null,
      "overflow_x": null,
      "overflow_y": null,
      "padding": null,
      "right": null,
      "top": null,
      "visibility": null,
      "width": null
     }
    },
    "2e8eab94a7dc4704b5e6ab608d5642ea": {
     "model_module": "@jupyter-widgets/base",
     "model_module_version": "1.2.0",
     "model_name": "LayoutModel",
     "state": {
      "_model_module": "@jupyter-widgets/base",
      "_model_module_version": "1.2.0",
      "_model_name": "LayoutModel",
      "_view_count": null,
      "_view_module": "@jupyter-widgets/base",
      "_view_module_version": "1.2.0",
      "_view_name": "LayoutView",
      "align_content": null,
      "align_items": null,
      "align_self": null,
      "border": null,
      "bottom": null,
      "display": null,
      "flex": null,
      "flex_flow": null,
      "grid_area": null,
      "grid_auto_columns": null,
      "grid_auto_flow": null,
      "grid_auto_rows": null,
      "grid_column": null,
      "grid_gap": null,
      "grid_row": null,
      "grid_template_areas": null,
      "grid_template_columns": null,
      "grid_template_rows": null,
      "height": null,
      "justify_content": null,
      "justify_items": null,
      "left": null,
      "margin": null,
      "max_height": null,
      "max_width": null,
      "min_height": null,
      "min_width": null,
      "object_fit": null,
      "object_position": null,
      "order": null,
      "overflow": null,
      "overflow_x": null,
      "overflow_y": null,
      "padding": null,
      "right": null,
      "top": null,
      "visibility": null,
      "width": null
     }
    },
    "30e2c615576942a8ac4e5320548e084f": {
     "model_module": "@jupyter-widgets/controls",
     "model_module_version": "1.5.0",
     "model_name": "ProgressStyleModel",
     "state": {
      "_model_module": "@jupyter-widgets/controls",
      "_model_module_version": "1.5.0",
      "_model_name": "ProgressStyleModel",
      "_view_count": null,
      "_view_module": "@jupyter-widgets/base",
      "_view_module_version": "1.2.0",
      "_view_name": "StyleView",
      "bar_color": null,
      "description_width": ""
     }
    },
    "3111ae3e318f417a99bab6122ac73c94": {
     "model_module": "@jupyter-widgets/controls",
     "model_module_version": "1.5.0",
     "model_name": "IntProgressModel",
     "state": {
      "_dom_classes": [],
      "_model_module": "@jupyter-widgets/controls",
      "_model_module_version": "1.5.0",
      "_model_name": "IntProgressModel",
      "_view_count": null,
      "_view_module": "@jupyter-widgets/controls",
      "_view_module_version": "1.5.0",
      "_view_name": "ProgressView",
      "bar_style": "",
      "description": "Processing: ",
      "description_tooltip": null,
      "layout": "IPY_MODEL_2c5370c8d0ec49a98f2c99bc7faf84b8",
      "max": 3,
      "min": 0,
      "orientation": "horizontal",
      "style": "IPY_MODEL_30e2c615576942a8ac4e5320548e084f",
      "value": 3
     }
    },
    "3289eeb4d2ff4918acf40d3312051ee0": {
     "model_module": "@jupyter-widgets/base",
     "model_module_version": "1.2.0",
     "model_name": "LayoutModel",
     "state": {
      "_model_module": "@jupyter-widgets/base",
      "_model_module_version": "1.2.0",
      "_model_name": "LayoutModel",
      "_view_count": null,
      "_view_module": "@jupyter-widgets/base",
      "_view_module_version": "1.2.0",
      "_view_name": "LayoutView",
      "align_content": null,
      "align_items": null,
      "align_self": null,
      "border": null,
      "bottom": null,
      "display": null,
      "flex": null,
      "flex_flow": null,
      "grid_area": null,
      "grid_auto_columns": null,
      "grid_auto_flow": null,
      "grid_auto_rows": null,
      "grid_column": null,
      "grid_gap": null,
      "grid_row": null,
      "grid_template_areas": null,
      "grid_template_columns": null,
      "grid_template_rows": null,
      "height": null,
      "justify_content": null,
      "justify_items": null,
      "left": null,
      "margin": null,
      "max_height": null,
      "max_width": null,
      "min_height": null,
      "min_width": null,
      "object_fit": null,
      "object_position": null,
      "order": null,
      "overflow": null,
      "overflow_x": null,
      "overflow_y": null,
      "padding": null,
      "right": null,
      "top": null,
      "visibility": null,
      "width": null
     }
    },
    "35cbb4976f1e4d5cbbae9521b12ac871": {
     "model_module": "@jupyter-widgets/controls",
     "model_module_version": "1.5.0",
     "model_name": "IntProgressModel",
     "state": {
      "_dom_classes": [],
      "_model_module": "@jupyter-widgets/controls",
      "_model_module_version": "1.5.0",
      "_model_name": "IntProgressModel",
      "_view_count": null,
      "_view_module": "@jupyter-widgets/controls",
      "_view_module_version": "1.5.0",
      "_view_name": "ProgressView",
      "bar_style": "",
      "description": "Processing: ",
      "description_tooltip": null,
      "layout": "IPY_MODEL_6b1c5c743c0c4aaeab4e753d51803294",
      "max": 3,
      "min": 0,
      "orientation": "horizontal",
      "style": "IPY_MODEL_eaa4f947fce14b428b1b483b47a508e6",
      "value": 3
     }
    },
    "3be39af9a9174db286f8fb567d0cfecf": {
     "model_module": "@jupyter-widgets/controls",
     "model_module_version": "1.5.0",
     "model_name": "ProgressStyleModel",
     "state": {
      "_model_module": "@jupyter-widgets/controls",
      "_model_module_version": "1.5.0",
      "_model_name": "ProgressStyleModel",
      "_view_count": null,
      "_view_module": "@jupyter-widgets/base",
      "_view_module_version": "1.2.0",
      "_view_name": "StyleView",
      "bar_color": null,
      "description_width": ""
     }
    },
    "43bad0651ae047b4bbb2e765ffe4ea4f": {
     "model_module": "@jupyter-widgets/controls",
     "model_module_version": "1.5.0",
     "model_name": "TextModel",
     "state": {
      "_dom_classes": [],
      "_model_module": "@jupyter-widgets/controls",
      "_model_module_version": "1.5.0",
      "_model_name": "TextModel",
      "_view_count": null,
      "_view_module": "@jupyter-widgets/controls",
      "_view_module_version": "1.5.0",
      "_view_name": "TextView",
      "continuous_update": true,
      "description": "",
      "description_tooltip": null,
      "disabled": false,
      "layout": "IPY_MODEL_04e695e25605414ebd4439dd712594f9",
      "placeholder": "​",
      "style": "IPY_MODEL_eadf24e5508645da9c3eac396e4b998e",
      "value": "Following data types have been inferred automatically, if they are correct press enter to continue or type 'quit' otherwise."
     }
    },
    "461fc1446b2449a1b114ee674a094407": {
     "model_module": "@jupyter-widgets/base",
     "model_module_version": "1.2.0",
     "model_name": "LayoutModel",
     "state": {
      "_model_module": "@jupyter-widgets/base",
      "_model_module_version": "1.2.0",
      "_model_name": "LayoutModel",
      "_view_count": null,
      "_view_module": "@jupyter-widgets/base",
      "_view_module_version": "1.2.0",
      "_view_name": "LayoutView",
      "align_content": null,
      "align_items": null,
      "align_self": null,
      "border": null,
      "bottom": null,
      "display": null,
      "flex": null,
      "flex_flow": null,
      "grid_area": null,
      "grid_auto_columns": null,
      "grid_auto_flow": null,
      "grid_auto_rows": null,
      "grid_column": null,
      "grid_gap": null,
      "grid_row": null,
      "grid_template_areas": null,
      "grid_template_columns": null,
      "grid_template_rows": null,
      "height": null,
      "justify_content": null,
      "justify_items": null,
      "left": null,
      "margin": null,
      "max_height": null,
      "max_width": null,
      "min_height": null,
      "min_width": null,
      "object_fit": null,
      "object_position": null,
      "order": null,
      "overflow": null,
      "overflow_x": null,
      "overflow_y": null,
      "padding": null,
      "right": null,
      "top": null,
      "visibility": null,
      "width": null
     }
    },
    "48fbaa78bcac4823ad39103b6fb9b970": {
     "model_module": "@jupyter-widgets/controls",
     "model_module_version": "1.5.0",
     "model_name": "IntProgressModel",
     "state": {
      "_dom_classes": [],
      "_model_module": "@jupyter-widgets/controls",
      "_model_module_version": "1.5.0",
      "_model_name": "IntProgressModel",
      "_view_count": null,
      "_view_module": "@jupyter-widgets/controls",
      "_view_module_version": "1.5.0",
      "_view_name": "ProgressView",
      "bar_style": "",
      "description": "Processing: ",
      "description_tooltip": null,
      "layout": "IPY_MODEL_461fc1446b2449a1b114ee674a094407",
      "max": 3,
      "min": 0,
      "orientation": "horizontal",
      "style": "IPY_MODEL_3be39af9a9174db286f8fb567d0cfecf",
      "value": 3
     }
    },
    "4b98e19d384845a18c290e78149af75f": {
     "model_module": "@jupyter-widgets/controls",
     "model_module_version": "1.5.0",
     "model_name": "IntProgressModel",
     "state": {
      "_dom_classes": [],
      "_model_module": "@jupyter-widgets/controls",
      "_model_module_version": "1.5.0",
      "_model_name": "IntProgressModel",
      "_view_count": null,
      "_view_module": "@jupyter-widgets/controls",
      "_view_module_version": "1.5.0",
      "_view_name": "ProgressView",
      "bar_style": "",
      "description": "Processing: ",
      "description_tooltip": null,
      "layout": "IPY_MODEL_3289eeb4d2ff4918acf40d3312051ee0",
      "max": 4,
      "min": 0,
      "orientation": "horizontal",
      "style": "IPY_MODEL_0172117c58684e3793e566e82717db07",
      "value": 4
     }
    },
    "53a77358173d43289989c1b929057cc4": {
     "model_module": "@jupyter-widgets/controls",
     "model_module_version": "1.5.0",
     "model_name": "ProgressStyleModel",
     "state": {
      "_model_module": "@jupyter-widgets/controls",
      "_model_module_version": "1.5.0",
      "_model_name": "ProgressStyleModel",
      "_view_count": null,
      "_view_module": "@jupyter-widgets/base",
      "_view_module_version": "1.2.0",
      "_view_name": "StyleView",
      "bar_color": null,
      "description_width": ""
     }
    },
    "55155b292b9f4915afd150711ee49a10": {
     "model_module": "@jupyter-widgets/controls",
     "model_module_version": "1.5.0",
     "model_name": "IntProgressModel",
     "state": {
      "_dom_classes": [],
      "_model_module": "@jupyter-widgets/controls",
      "_model_module_version": "1.5.0",
      "_model_name": "IntProgressModel",
      "_view_count": null,
      "_view_module": "@jupyter-widgets/controls",
      "_view_module_version": "1.5.0",
      "_view_name": "ProgressView",
      "bar_style": "",
      "description": "Processing: ",
      "description_tooltip": null,
      "layout": "IPY_MODEL_ecc87fe154ab4e8d87bc058514730557",
      "max": 4,
      "min": 0,
      "orientation": "horizontal",
      "style": "IPY_MODEL_53a77358173d43289989c1b929057cc4",
      "value": 4
     }
    },
    "6b1c5c743c0c4aaeab4e753d51803294": {
     "model_module": "@jupyter-widgets/base",
     "model_module_version": "1.2.0",
     "model_name": "LayoutModel",
     "state": {
      "_model_module": "@jupyter-widgets/base",
      "_model_module_version": "1.2.0",
      "_model_name": "LayoutModel",
      "_view_count": null,
      "_view_module": "@jupyter-widgets/base",
      "_view_module_version": "1.2.0",
      "_view_name": "LayoutView",
      "align_content": null,
      "align_items": null,
      "align_self": null,
      "border": null,
      "bottom": null,
      "display": null,
      "flex": null,
      "flex_flow": null,
      "grid_area": null,
      "grid_auto_columns": null,
      "grid_auto_flow": null,
      "grid_auto_rows": null,
      "grid_column": null,
      "grid_gap": null,
      "grid_row": null,
      "grid_template_areas": null,
      "grid_template_columns": null,
      "grid_template_rows": null,
      "height": null,
      "justify_content": null,
      "justify_items": null,
      "left": null,
      "margin": null,
      "max_height": null,
      "max_width": null,
      "min_height": null,
      "min_width": null,
      "object_fit": null,
      "object_position": null,
      "order": null,
      "overflow": null,
      "overflow_x": null,
      "overflow_y": null,
      "padding": null,
      "right": null,
      "top": null,
      "visibility": null,
      "width": null
     }
    },
    "769de370c2684a25b779e9a721cec54e": {
     "model_module": "@jupyter-widgets/controls",
     "model_module_version": "1.5.0",
     "model_name": "IntProgressModel",
     "state": {
      "_dom_classes": [],
      "_model_module": "@jupyter-widgets/controls",
      "_model_module_version": "1.5.0",
      "_model_name": "IntProgressModel",
      "_view_count": null,
      "_view_module": "@jupyter-widgets/controls",
      "_view_module_version": "1.5.0",
      "_view_name": "ProgressView",
      "bar_style": "",
      "description": "Processing: ",
      "description_tooltip": null,
      "layout": "IPY_MODEL_cce6db59df5b4a0fbffaae8ab5a62bf8",
      "max": 4,
      "min": 0,
      "orientation": "horizontal",
      "style": "IPY_MODEL_13279bfa4ff244219eff66e0032dd7ea",
      "value": 4
     }
    },
    "79695444fb9b4d13b041623500364fda": {
     "model_module": "@jupyter-widgets/controls",
     "model_module_version": "1.5.0",
     "model_name": "ProgressStyleModel",
     "state": {
      "_model_module": "@jupyter-widgets/controls",
      "_model_module_version": "1.5.0",
      "_model_name": "ProgressStyleModel",
      "_view_count": null,
      "_view_module": "@jupyter-widgets/base",
      "_view_module_version": "1.2.0",
      "_view_name": "StyleView",
      "bar_color": null,
      "description_width": ""
     }
    },
    "8ea14648a9ed455885c8d093b4b84b91": {
     "model_module": "@jupyter-widgets/controls",
     "model_module_version": "1.5.0",
     "model_name": "IntProgressModel",
     "state": {
      "_dom_classes": [],
      "_model_module": "@jupyter-widgets/controls",
      "_model_module_version": "1.5.0",
      "_model_name": "IntProgressModel",
      "_view_count": null,
      "_view_module": "@jupyter-widgets/controls",
      "_view_module_version": "1.5.0",
      "_view_name": "ProgressView",
      "bar_style": "",
      "description": "Processing: ",
      "description_tooltip": null,
      "layout": "IPY_MODEL_2e8eab94a7dc4704b5e6ab608d5642ea",
      "max": 4,
      "min": 0,
      "orientation": "horizontal",
      "style": "IPY_MODEL_070d70753eea424da4da47e6d9c70216",
      "value": 4
     }
    },
    "90f54d7eaa2148c9b39623090d0f40d6": {
     "model_module": "@jupyter-widgets/base",
     "model_module_version": "1.2.0",
     "model_name": "LayoutModel",
     "state": {
      "_model_module": "@jupyter-widgets/base",
      "_model_module_version": "1.2.0",
      "_model_name": "LayoutModel",
      "_view_count": null,
      "_view_module": "@jupyter-widgets/base",
      "_view_module_version": "1.2.0",
      "_view_name": "LayoutView",
      "align_content": null,
      "align_items": null,
      "align_self": null,
      "border": null,
      "bottom": null,
      "display": null,
      "flex": null,
      "flex_flow": null,
      "grid_area": null,
      "grid_auto_columns": null,
      "grid_auto_flow": null,
      "grid_auto_rows": null,
      "grid_column": null,
      "grid_gap": null,
      "grid_row": null,
      "grid_template_areas": null,
      "grid_template_columns": null,
      "grid_template_rows": null,
      "height": null,
      "justify_content": null,
      "justify_items": null,
      "left": null,
      "margin": null,
      "max_height": null,
      "max_width": null,
      "min_height": null,
      "min_width": null,
      "object_fit": null,
      "object_position": null,
      "order": null,
      "overflow": null,
      "overflow_x": null,
      "overflow_y": null,
      "padding": null,
      "right": null,
      "top": null,
      "visibility": null,
      "width": "100%"
     }
    },
    "911c199b45f546998b014447923363a5": {
     "model_module": "@jupyter-widgets/controls",
     "model_module_version": "1.5.0",
     "model_name": "TextModel",
     "state": {
      "_dom_classes": [],
      "_model_module": "@jupyter-widgets/controls",
      "_model_module_version": "1.5.0",
      "_model_name": "TextModel",
      "_view_count": null,
      "_view_module": "@jupyter-widgets/controls",
      "_view_module_version": "1.5.0",
      "_view_name": "TextView",
      "continuous_update": true,
      "description": "",
      "description_tooltip": null,
      "disabled": false,
      "layout": "IPY_MODEL_02e21d95cc494175b263c1ed286e6ff7",
      "placeholder": "​",
      "style": "IPY_MODEL_dc8108f886a4448b988e4770c98f1e36",
      "value": "Following data types have been inferred automatically, if they are correct press enter to continue or type 'quit' otherwise."
     }
    },
    "915de3410e8f42df95de0eb05738c5d6": {
     "model_module": "@jupyter-widgets/controls",
     "model_module_version": "1.5.0",
     "model_name": "IntProgressModel",
     "state": {
      "_dom_classes": [],
      "_model_module": "@jupyter-widgets/controls",
      "_model_module_version": "1.5.0",
      "_model_name": "IntProgressModel",
      "_view_count": null,
      "_view_module": "@jupyter-widgets/controls",
      "_view_module_version": "1.5.0",
      "_view_name": "ProgressView",
      "bar_style": "",
      "description": "Processing: ",
      "description_tooltip": null,
      "layout": "IPY_MODEL_fa5736cc92b6441ba6662abcca392f1c",
      "max": 4,
      "min": 0,
      "orientation": "horizontal",
      "style": "IPY_MODEL_0637f6610c174a55b9b31f7f36119cdd",
      "value": 4
     }
    },
    "9901e846a5a443db9974d06d0f24f3e9": {
     "model_module": "@jupyter-widgets/base",
     "model_module_version": "1.2.0",
     "model_name": "LayoutModel",
     "state": {
      "_model_module": "@jupyter-widgets/base",
      "_model_module_version": "1.2.0",
      "_model_name": "LayoutModel",
      "_view_count": null,
      "_view_module": "@jupyter-widgets/base",
      "_view_module_version": "1.2.0",
      "_view_name": "LayoutView",
      "align_content": null,
      "align_items": null,
      "align_self": null,
      "border": null,
      "bottom": null,
      "display": null,
      "flex": null,
      "flex_flow": null,
      "grid_area": null,
      "grid_auto_columns": null,
      "grid_auto_flow": null,
      "grid_auto_rows": null,
      "grid_column": null,
      "grid_gap": null,
      "grid_row": null,
      "grid_template_areas": null,
      "grid_template_columns": null,
      "grid_template_rows": null,
      "height": null,
      "justify_content": null,
      "justify_items": null,
      "left": null,
      "margin": null,
      "max_height": null,
      "max_width": null,
      "min_height": null,
      "min_width": null,
      "object_fit": null,
      "object_position": null,
      "order": null,
      "overflow": null,
      "overflow_x": null,
      "overflow_y": null,
      "padding": null,
      "right": null,
      "top": null,
      "visibility": null,
      "width": null
     }
    },
    "a85d51b137ef4b2dadd17a980cf595e8": {
     "model_module": "@jupyter-widgets/base",
     "model_module_version": "1.2.0",
     "model_name": "LayoutModel",
     "state": {
      "_model_module": "@jupyter-widgets/base",
      "_model_module_version": "1.2.0",
      "_model_name": "LayoutModel",
      "_view_count": null,
      "_view_module": "@jupyter-widgets/base",
      "_view_module_version": "1.2.0",
      "_view_name": "LayoutView",
      "align_content": null,
      "align_items": null,
      "align_self": null,
      "border": null,
      "bottom": null,
      "display": null,
      "flex": null,
      "flex_flow": null,
      "grid_area": null,
      "grid_auto_columns": null,
      "grid_auto_flow": null,
      "grid_auto_rows": null,
      "grid_column": null,
      "grid_gap": null,
      "grid_row": null,
      "grid_template_areas": null,
      "grid_template_columns": null,
      "grid_template_rows": null,
      "height": null,
      "justify_content": null,
      "justify_items": null,
      "left": null,
      "margin": null,
      "max_height": null,
      "max_width": null,
      "min_height": null,
      "min_width": null,
      "object_fit": null,
      "object_position": null,
      "order": null,
      "overflow": null,
      "overflow_x": null,
      "overflow_y": null,
      "padding": null,
      "right": null,
      "top": null,
      "visibility": null,
      "width": null
     }
    },
    "a949c78e51b041129bd855ab4f3afc85": {
     "model_module": "@jupyter-widgets/controls",
     "model_module_version": "1.5.0",
     "model_name": "ProgressStyleModel",
     "state": {
      "_model_module": "@jupyter-widgets/controls",
      "_model_module_version": "1.5.0",
      "_model_name": "ProgressStyleModel",
      "_view_count": null,
      "_view_module": "@jupyter-widgets/base",
      "_view_module_version": "1.2.0",
      "_view_name": "StyleView",
      "bar_color": null,
      "description_width": ""
     }
    },
    "b281c8748cd74d12b267596ce93daeb6": {
     "model_module": "@jupyter-widgets/controls",
     "model_module_version": "1.5.0",
     "model_name": "DescriptionStyleModel",
     "state": {
      "_model_module": "@jupyter-widgets/controls",
      "_model_module_version": "1.5.0",
      "_model_name": "DescriptionStyleModel",
      "_view_count": null,
      "_view_module": "@jupyter-widgets/base",
      "_view_module_version": "1.2.0",
      "_view_name": "StyleView",
      "description_width": ""
     }
    },
    "b28e42e91de54778ad9323c1a92b8ac8": {
     "model_module": "@jupyter-widgets/controls",
     "model_module_version": "1.5.0",
     "model_name": "IntProgressModel",
     "state": {
      "_dom_classes": [],
      "_model_module": "@jupyter-widgets/controls",
      "_model_module_version": "1.5.0",
      "_model_name": "IntProgressModel",
      "_view_count": null,
      "_view_module": "@jupyter-widgets/controls",
      "_view_module_version": "1.5.0",
      "_view_name": "ProgressView",
      "bar_style": "",
      "description": "Processing: ",
      "description_tooltip": null,
      "layout": "IPY_MODEL_a85d51b137ef4b2dadd17a980cf595e8",
      "max": 4,
      "min": 0,
      "orientation": "horizontal",
      "style": "IPY_MODEL_a949c78e51b041129bd855ab4f3afc85",
      "value": 4
     }
    },
    "b57185348989462aa0a8c7d2d381b873": {
     "model_module": "@jupyter-widgets/controls",
     "model_module_version": "1.5.0",
     "model_name": "IntProgressModel",
     "state": {
      "_dom_classes": [],
      "_model_module": "@jupyter-widgets/controls",
      "_model_module_version": "1.5.0",
      "_model_name": "IntProgressModel",
      "_view_count": null,
      "_view_module": "@jupyter-widgets/controls",
      "_view_module_version": "1.5.0",
      "_view_name": "ProgressView",
      "bar_style": "",
      "description": "Processing: ",
      "description_tooltip": null,
      "layout": "IPY_MODEL_f629e89814d0435bbf088e51c49252b6",
      "max": 4,
      "min": 0,
      "orientation": "horizontal",
      "style": "IPY_MODEL_79695444fb9b4d13b041623500364fda",
      "value": 4
     }
    },
    "c381c8c50a82447999cfa64cda6e3c6b": {
     "model_module": "@jupyter-widgets/controls",
     "model_module_version": "1.5.0",
     "model_name": "IntProgressModel",
     "state": {
      "_dom_classes": [],
      "_model_module": "@jupyter-widgets/controls",
      "_model_module_version": "1.5.0",
      "_model_name": "IntProgressModel",
      "_view_count": null,
      "_view_module": "@jupyter-widgets/controls",
      "_view_module_version": "1.5.0",
      "_view_name": "ProgressView",
      "bar_style": "",
      "description": "Processing: ",
      "description_tooltip": null,
      "layout": "IPY_MODEL_9901e846a5a443db9974d06d0f24f3e9",
      "max": 4,
      "min": 0,
      "orientation": "horizontal",
      "style": "IPY_MODEL_09dba3df92004bc893f39c7063ca86af",
      "value": 4
     }
    },
    "cce6db59df5b4a0fbffaae8ab5a62bf8": {
     "model_module": "@jupyter-widgets/base",
     "model_module_version": "1.2.0",
     "model_name": "LayoutModel",
     "state": {
      "_model_module": "@jupyter-widgets/base",
      "_model_module_version": "1.2.0",
      "_model_name": "LayoutModel",
      "_view_count": null,
      "_view_module": "@jupyter-widgets/base",
      "_view_module_version": "1.2.0",
      "_view_name": "LayoutView",
      "align_content": null,
      "align_items": null,
      "align_self": null,
      "border": null,
      "bottom": null,
      "display": null,
      "flex": null,
      "flex_flow": null,
      "grid_area": null,
      "grid_auto_columns": null,
      "grid_auto_flow": null,
      "grid_auto_rows": null,
      "grid_column": null,
      "grid_gap": null,
      "grid_row": null,
      "grid_template_areas": null,
      "grid_template_columns": null,
      "grid_template_rows": null,
      "height": null,
      "justify_content": null,
      "justify_items": null,
      "left": null,
      "margin": null,
      "max_height": null,
      "max_width": null,
      "min_height": null,
      "min_width": null,
      "object_fit": null,
      "object_position": null,
      "order": null,
      "overflow": null,
      "overflow_x": null,
      "overflow_y": null,
      "padding": null,
      "right": null,
      "top": null,
      "visibility": null,
      "width": null
     }
    },
    "dc8108f886a4448b988e4770c98f1e36": {
     "model_module": "@jupyter-widgets/controls",
     "model_module_version": "1.5.0",
     "model_name": "DescriptionStyleModel",
     "state": {
      "_model_module": "@jupyter-widgets/controls",
      "_model_module_version": "1.5.0",
      "_model_name": "DescriptionStyleModel",
      "_view_count": null,
      "_view_module": "@jupyter-widgets/base",
      "_view_module_version": "1.2.0",
      "_view_name": "StyleView",
      "description_width": ""
     }
    },
    "eaa4f947fce14b428b1b483b47a508e6": {
     "model_module": "@jupyter-widgets/controls",
     "model_module_version": "1.5.0",
     "model_name": "ProgressStyleModel",
     "state": {
      "_model_module": "@jupyter-widgets/controls",
      "_model_module_version": "1.5.0",
      "_model_name": "ProgressStyleModel",
      "_view_count": null,
      "_view_module": "@jupyter-widgets/base",
      "_view_module_version": "1.2.0",
      "_view_name": "StyleView",
      "bar_color": null,
      "description_width": ""
     }
    },
    "eadf24e5508645da9c3eac396e4b998e": {
     "model_module": "@jupyter-widgets/controls",
     "model_module_version": "1.5.0",
     "model_name": "DescriptionStyleModel",
     "state": {
      "_model_module": "@jupyter-widgets/controls",
      "_model_module_version": "1.5.0",
      "_model_name": "DescriptionStyleModel",
      "_view_count": null,
      "_view_module": "@jupyter-widgets/base",
      "_view_module_version": "1.2.0",
      "_view_name": "StyleView",
      "description_width": ""
     }
    },
    "eb1f183c7f0441d98df36965646b9b43": {
     "model_module": "@jupyter-widgets/controls",
     "model_module_version": "1.5.0",
     "model_name": "TextModel",
     "state": {
      "_dom_classes": [],
      "_model_module": "@jupyter-widgets/controls",
      "_model_module_version": "1.5.0",
      "_model_name": "TextModel",
      "_view_count": null,
      "_view_module": "@jupyter-widgets/controls",
      "_view_module_version": "1.5.0",
      "_view_name": "TextView",
      "continuous_update": true,
      "description": "",
      "description_tooltip": null,
      "disabled": false,
      "layout": "IPY_MODEL_90f54d7eaa2148c9b39623090d0f40d6",
      "placeholder": "​",
      "style": "IPY_MODEL_b281c8748cd74d12b267596ce93daeb6",
      "value": "Following data types have been inferred automatically, if they are correct press enter to continue or type 'quit' otherwise."
     }
    },
    "ecc87fe154ab4e8d87bc058514730557": {
     "model_module": "@jupyter-widgets/base",
     "model_module_version": "1.2.0",
     "model_name": "LayoutModel",
     "state": {
      "_model_module": "@jupyter-widgets/base",
      "_model_module_version": "1.2.0",
      "_model_name": "LayoutModel",
      "_view_count": null,
      "_view_module": "@jupyter-widgets/base",
      "_view_module_version": "1.2.0",
      "_view_name": "LayoutView",
      "align_content": null,
      "align_items": null,
      "align_self": null,
      "border": null,
      "bottom": null,
      "display": null,
      "flex": null,
      "flex_flow": null,
      "grid_area": null,
      "grid_auto_columns": null,
      "grid_auto_flow": null,
      "grid_auto_rows": null,
      "grid_column": null,
      "grid_gap": null,
      "grid_row": null,
      "grid_template_areas": null,
      "grid_template_columns": null,
      "grid_template_rows": null,
      "height": null,
      "justify_content": null,
      "justify_items": null,
      "left": null,
      "margin": null,
      "max_height": null,
      "max_width": null,
      "min_height": null,
      "min_width": null,
      "object_fit": null,
      "object_position": null,
      "order": null,
      "overflow": null,
      "overflow_x": null,
      "overflow_y": null,
      "padding": null,
      "right": null,
      "top": null,
      "visibility": null,
      "width": null
     }
    },
    "f629e89814d0435bbf088e51c49252b6": {
     "model_module": "@jupyter-widgets/base",
     "model_module_version": "1.2.0",
     "model_name": "LayoutModel",
     "state": {
      "_model_module": "@jupyter-widgets/base",
      "_model_module_version": "1.2.0",
      "_model_name": "LayoutModel",
      "_view_count": null,
      "_view_module": "@jupyter-widgets/base",
      "_view_module_version": "1.2.0",
      "_view_name": "LayoutView",
      "align_content": null,
      "align_items": null,
      "align_self": null,
      "border": null,
      "bottom": null,
      "display": null,
      "flex": null,
      "flex_flow": null,
      "grid_area": null,
      "grid_auto_columns": null,
      "grid_auto_flow": null,
      "grid_auto_rows": null,
      "grid_column": null,
      "grid_gap": null,
      "grid_row": null,
      "grid_template_areas": null,
      "grid_template_columns": null,
      "grid_template_rows": null,
      "height": null,
      "justify_content": null,
      "justify_items": null,
      "left": null,
      "margin": null,
      "max_height": null,
      "max_width": null,
      "min_height": null,
      "min_width": null,
      "object_fit": null,
      "object_position": null,
      "order": null,
      "overflow": null,
      "overflow_x": null,
      "overflow_y": null,
      "padding": null,
      "right": null,
      "top": null,
      "visibility": null,
      "width": null
     }
    },
    "fa5736cc92b6441ba6662abcca392f1c": {
     "model_module": "@jupyter-widgets/base",
     "model_module_version": "1.2.0",
     "model_name": "LayoutModel",
     "state": {
      "_model_module": "@jupyter-widgets/base",
      "_model_module_version": "1.2.0",
      "_model_name": "LayoutModel",
      "_view_count": null,
      "_view_module": "@jupyter-widgets/base",
      "_view_module_version": "1.2.0",
      "_view_name": "LayoutView",
      "align_content": null,
      "align_items": null,
      "align_self": null,
      "border": null,
      "bottom": null,
      "display": null,
      "flex": null,
      "flex_flow": null,
      "grid_area": null,
      "grid_auto_columns": null,
      "grid_auto_flow": null,
      "grid_auto_rows": null,
      "grid_column": null,
      "grid_gap": null,
      "grid_row": null,
      "grid_template_areas": null,
      "grid_template_columns": null,
      "grid_template_rows": null,
      "height": null,
      "justify_content": null,
      "justify_items": null,
      "left": null,
      "margin": null,
      "max_height": null,
      "max_width": null,
      "min_height": null,
      "min_width": null,
      "object_fit": null,
      "object_position": null,
      "order": null,
      "overflow": null,
      "overflow_x": null,
      "overflow_y": null,
      "padding": null,
      "right": null,
      "top": null,
      "visibility": null,
      "width": null
     }
    }
   }
  }
 },
 "nbformat": 4,
 "nbformat_minor": 0
}
