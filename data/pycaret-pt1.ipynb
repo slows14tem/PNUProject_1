{
 "nbformat": 4,
 "nbformat_minor": 0,
 "metadata": {
  "colab": {
   "name": "classification_0721.ipynb",
   "provenance": []
  },
  "kernelspec": {
   "name": "python3",
   "display_name": "Python 3"
  },
  "language_info": {
   "name": "python"
  },
  "widgets": {
   "application/vnd.jupyter.widget-state+json": {
    "3111ae3e318f417a99bab6122ac73c94": {
     "model_module": "@jupyter-widgets/controls",
     "model_name": "IntProgressModel",
     "model_module_version": "1.5.0",
     "state": {
      "_dom_classes": [],
      "_model_module": "@jupyter-widgets/controls",
      "_model_module_version": "1.5.0",
      "_model_name": "IntProgressModel",
      "_view_count": null,
      "_view_module": "@jupyter-widgets/controls",
      "_view_module_version": "1.5.0",
      "_view_name": "ProgressView",
      "bar_style": "",
      "description": "Processing: ",
      "description_tooltip": null,
      "layout": "IPY_MODEL_2c5370c8d0ec49a98f2c99bc7faf84b8",
      "max": 3,
      "min": 0,
      "orientation": "horizontal",
      "style": "IPY_MODEL_30e2c615576942a8ac4e5320548e084f",
      "value": 3
     }
    },
    "2c5370c8d0ec49a98f2c99bc7faf84b8": {
     "model_module": "@jupyter-widgets/base",
     "model_name": "LayoutModel",
     "model_module_version": "1.2.0",
     "state": {
      "_model_module": "@jupyter-widgets/base",
      "_model_module_version": "1.2.0",
      "_model_name": "LayoutModel",
      "_view_count": null,
      "_view_module": "@jupyter-widgets/base",
      "_view_module_version": "1.2.0",
      "_view_name": "LayoutView",
      "align_content": null,
      "align_items": null,
      "align_self": null,
      "border": null,
      "bottom": null,
      "display": null,
      "flex": null,
      "flex_flow": null,
      "grid_area": null,
      "grid_auto_columns": null,
      "grid_auto_flow": null,
      "grid_auto_rows": null,
      "grid_column": null,
      "grid_gap": null,
      "grid_row": null,
      "grid_template_areas": null,
      "grid_template_columns": null,
      "grid_template_rows": null,
      "height": null,
      "justify_content": null,
      "justify_items": null,
      "left": null,
      "margin": null,
      "max_height": null,
      "max_width": null,
      "min_height": null,
      "min_width": null,
      "object_fit": null,
      "object_position": null,
      "order": null,
      "overflow": null,
      "overflow_x": null,
      "overflow_y": null,
      "padding": null,
      "right": null,
      "top": null,
      "visibility": null,
      "width": null
     }
    },
    "30e2c615576942a8ac4e5320548e084f": {
     "model_module": "@jupyter-widgets/controls",
     "model_name": "ProgressStyleModel",
     "model_module_version": "1.5.0",
     "state": {
      "_model_module": "@jupyter-widgets/controls",
      "_model_module_version": "1.5.0",
      "_model_name": "ProgressStyleModel",
      "_view_count": null,
      "_view_module": "@jupyter-widgets/base",
      "_view_module_version": "1.2.0",
      "_view_name": "StyleView",
      "bar_color": null,
      "description_width": ""
     }
    },
    "eb1f183c7f0441d98df36965646b9b43": {
     "model_module": "@jupyter-widgets/controls",
     "model_name": "TextModel",
     "model_module_version": "1.5.0",
     "state": {
      "_dom_classes": [],
      "_model_module": "@jupyter-widgets/controls",
      "_model_module_version": "1.5.0",
      "_model_name": "TextModel",
      "_view_count": null,
      "_view_module": "@jupyter-widgets/controls",
      "_view_module_version": "1.5.0",
      "_view_name": "TextView",
      "continuous_update": true,
      "description": "",
      "description_tooltip": null,
      "disabled": false,
      "layout": "IPY_MODEL_90f54d7eaa2148c9b39623090d0f40d6",
      "placeholder": "​",
      "style": "IPY_MODEL_b281c8748cd74d12b267596ce93daeb6",
      "value": "Following data types have been inferred automatically, if they are correct press enter to continue or type 'quit' otherwise."
     }
    },
    "90f54d7eaa2148c9b39623090d0f40d6": {
     "model_module": "@jupyter-widgets/base",
     "model_name": "LayoutModel",
     "model_module_version": "1.2.0",
     "state": {
      "_model_module": "@jupyter-widgets/base",
      "_model_module_version": "1.2.0",
      "_model_name": "LayoutModel",
      "_view_count": null,
      "_view_module": "@jupyter-widgets/base",
      "_view_module_version": "1.2.0",
      "_view_name": "LayoutView",
      "align_content": null,
      "align_items": null,
      "align_self": null,
      "border": null,
      "bottom": null,
      "display": null,
      "flex": null,
      "flex_flow": null,
      "grid_area": null,
      "grid_auto_columns": null,
      "grid_auto_flow": null,
      "grid_auto_rows": null,
      "grid_column": null,
      "grid_gap": null,
      "grid_row": null,
      "grid_template_areas": null,
      "grid_template_columns": null,
      "grid_template_rows": null,
      "height": null,
      "justify_content": null,
      "justify_items": null,
      "left": null,
      "margin": null,
      "max_height": null,
      "max_width": null,
      "min_height": null,
      "min_width": null,
      "object_fit": null,
      "object_position": null,
      "order": null,
      "overflow": null,
      "overflow_x": null,
      "overflow_y": null,
      "padding": null,
      "right": null,
      "top": null,
      "visibility": null,
      "width": "100%"
     }
    },
    "b281c8748cd74d12b267596ce93daeb6": {
     "model_module": "@jupyter-widgets/controls",
     "model_name": "DescriptionStyleModel",
     "model_module_version": "1.5.0",
     "state": {
      "_model_module": "@jupyter-widgets/controls",
      "_model_module_version": "1.5.0",
      "_model_name": "DescriptionStyleModel",
      "_view_count": null,
      "_view_module": "@jupyter-widgets/base",
      "_view_module_version": "1.2.0",
      "_view_name": "StyleView",
      "description_width": ""
     }
    },
    "769de370c2684a25b779e9a721cec54e": {
     "model_module": "@jupyter-widgets/controls",
     "model_name": "IntProgressModel",
     "model_module_version": "1.5.0",
     "state": {
      "_dom_classes": [],
      "_model_module": "@jupyter-widgets/controls",
      "_model_module_version": "1.5.0",
      "_model_name": "IntProgressModel",
      "_view_count": null,
      "_view_module": "@jupyter-widgets/controls",
      "_view_module_version": "1.5.0",
      "_view_name": "ProgressView",
      "bar_style": "",
      "description": "Processing: ",
      "description_tooltip": null,
      "layout": "IPY_MODEL_cce6db59df5b4a0fbffaae8ab5a62bf8",
      "max": 4,
      "min": 0,
      "orientation": "horizontal",
      "style": "IPY_MODEL_13279bfa4ff244219eff66e0032dd7ea",
      "value": 4
     }
    },
    "cce6db59df5b4a0fbffaae8ab5a62bf8": {
     "model_module": "@jupyter-widgets/base",
     "model_name": "LayoutModel",
     "model_module_version": "1.2.0",
     "state": {
      "_model_module": "@jupyter-widgets/base",
      "_model_module_version": "1.2.0",
      "_model_name": "LayoutModel",
      "_view_count": null,
      "_view_module": "@jupyter-widgets/base",
      "_view_module_version": "1.2.0",
      "_view_name": "LayoutView",
      "align_content": null,
      "align_items": null,
      "align_self": null,
      "border": null,
      "bottom": null,
      "display": null,
      "flex": null,
      "flex_flow": null,
      "grid_area": null,
      "grid_auto_columns": null,
      "grid_auto_flow": null,
      "grid_auto_rows": null,
      "grid_column": null,
      "grid_gap": null,
      "grid_row": null,
      "grid_template_areas": null,
      "grid_template_columns": null,
      "grid_template_rows": null,
      "height": null,
      "justify_content": null,
      "justify_items": null,
      "left": null,
      "margin": null,
      "max_height": null,
      "max_width": null,
      "min_height": null,
      "min_width": null,
      "object_fit": null,
      "object_position": null,
      "order": null,
      "overflow": null,
      "overflow_x": null,
      "overflow_y": null,
      "padding": null,
      "right": null,
      "top": null,
      "visibility": null,
      "width": null
     }
    },
    "13279bfa4ff244219eff66e0032dd7ea": {
     "model_module": "@jupyter-widgets/controls",
     "model_name": "ProgressStyleModel",
     "model_module_version": "1.5.0",
     "state": {
      "_model_module": "@jupyter-widgets/controls",
      "_model_module_version": "1.5.0",
      "_model_name": "ProgressStyleModel",
      "_view_count": null,
      "_view_module": "@jupyter-widgets/base",
      "_view_module_version": "1.2.0",
      "_view_name": "StyleView",
      "bar_color": null,
      "description_width": ""
     }
    },
    "915de3410e8f42df95de0eb05738c5d6": {
     "model_module": "@jupyter-widgets/controls",
     "model_name": "IntProgressModel",
     "model_module_version": "1.5.0",
     "state": {
      "_dom_classes": [],
      "_model_module": "@jupyter-widgets/controls",
      "_model_module_version": "1.5.0",
      "_model_name": "IntProgressModel",
      "_view_count": null,
      "_view_module": "@jupyter-widgets/controls",
      "_view_module_version": "1.5.0",
      "_view_name": "ProgressView",
      "bar_style": "",
      "description": "Processing: ",
      "description_tooltip": null,
      "layout": "IPY_MODEL_fa5736cc92b6441ba6662abcca392f1c",
      "max": 4,
      "min": 0,
      "orientation": "horizontal",
      "style": "IPY_MODEL_0637f6610c174a55b9b31f7f36119cdd",
      "value": 4
     }
    },
    "fa5736cc92b6441ba6662abcca392f1c": {
     "model_module": "@jupyter-widgets/base",
     "model_name": "LayoutModel",
     "model_module_version": "1.2.0",
     "state": {
      "_model_module": "@jupyter-widgets/base",
      "_model_module_version": "1.2.0",
      "_model_name": "LayoutModel",
      "_view_count": null,
      "_view_module": "@jupyter-widgets/base",
      "_view_module_version": "1.2.0",
      "_view_name": "LayoutView",
      "align_content": null,
      "align_items": null,
      "align_self": null,
      "border": null,
      "bottom": null,
      "display": null,
      "flex": null,
      "flex_flow": null,
      "grid_area": null,
      "grid_auto_columns": null,
      "grid_auto_flow": null,
      "grid_auto_rows": null,
      "grid_column": null,
      "grid_gap": null,
      "grid_row": null,
      "grid_template_areas": null,
      "grid_template_columns": null,
      "grid_template_rows": null,
      "height": null,
      "justify_content": null,
      "justify_items": null,
      "left": null,
      "margin": null,
      "max_height": null,
      "max_width": null,
      "min_height": null,
      "min_width": null,
      "object_fit": null,
      "object_position": null,
      "order": null,
      "overflow": null,
      "overflow_x": null,
      "overflow_y": null,
      "padding": null,
      "right": null,
      "top": null,
      "visibility": null,
      "width": null
     }
    },
    "0637f6610c174a55b9b31f7f36119cdd": {
     "model_module": "@jupyter-widgets/controls",
     "model_name": "ProgressStyleModel",
     "model_module_version": "1.5.0",
     "state": {
      "_model_module": "@jupyter-widgets/controls",
      "_model_module_version": "1.5.0",
      "_model_name": "ProgressStyleModel",
      "_view_count": null,
      "_view_module": "@jupyter-widgets/base",
      "_view_module_version": "1.2.0",
      "_view_name": "StyleView",
      "bar_color": null,
      "description_width": ""
     }
    },
    "55155b292b9f4915afd150711ee49a10": {
     "model_module": "@jupyter-widgets/controls",
     "model_name": "IntProgressModel",
     "model_module_version": "1.5.0",
     "state": {
      "_dom_classes": [],
      "_model_module": "@jupyter-widgets/controls",
      "_model_module_version": "1.5.0",
      "_model_name": "IntProgressModel",
      "_view_count": null,
      "_view_module": "@jupyter-widgets/controls",
      "_view_module_version": "1.5.0",
      "_view_name": "ProgressView",
      "bar_style": "",
      "description": "Processing: ",
      "description_tooltip": null,
      "layout": "IPY_MODEL_ecc87fe154ab4e8d87bc058514730557",
      "max": 4,
      "min": 0,
      "orientation": "horizontal",
      "style": "IPY_MODEL_53a77358173d43289989c1b929057cc4",
      "value": 4
     }
    },
    "ecc87fe154ab4e8d87bc058514730557": {
     "model_module": "@jupyter-widgets/base",
     "model_name": "LayoutModel",
     "model_module_version": "1.2.0",
     "state": {
      "_model_module": "@jupyter-widgets/base",
      "_model_module_version": "1.2.0",
      "_model_name": "LayoutModel",
      "_view_count": null,
      "_view_module": "@jupyter-widgets/base",
      "_view_module_version": "1.2.0",
      "_view_name": "LayoutView",
      "align_content": null,
      "align_items": null,
      "align_self": null,
      "border": null,
      "bottom": null,
      "display": null,
      "flex": null,
      "flex_flow": null,
      "grid_area": null,
      "grid_auto_columns": null,
      "grid_auto_flow": null,
      "grid_auto_rows": null,
      "grid_column": null,
      "grid_gap": null,
      "grid_row": null,
      "grid_template_areas": null,
      "grid_template_columns": null,
      "grid_template_rows": null,
      "height": null,
      "justify_content": null,
      "justify_items": null,
      "left": null,
      "margin": null,
      "max_height": null,
      "max_width": null,
      "min_height": null,
      "min_width": null,
      "object_fit": null,
      "object_position": null,
      "order": null,
      "overflow": null,
      "overflow_x": null,
      "overflow_y": null,
      "padding": null,
      "right": null,
      "top": null,
      "visibility": null,
      "width": null
     }
    },
    "53a77358173d43289989c1b929057cc4": {
     "model_module": "@jupyter-widgets/controls",
     "model_name": "ProgressStyleModel",
     "model_module_version": "1.5.0",
     "state": {
      "_model_module": "@jupyter-widgets/controls",
      "_model_module_version": "1.5.0",
      "_model_name": "ProgressStyleModel",
      "_view_count": null,
      "_view_module": "@jupyter-widgets/base",
      "_view_module_version": "1.2.0",
      "_view_name": "StyleView",
      "bar_color": null,
      "description_width": ""
     }
    },
    "8ea14648a9ed455885c8d093b4b84b91": {
     "model_module": "@jupyter-widgets/controls",
     "model_name": "IntProgressModel",
     "model_module_version": "1.5.0",
     "state": {
      "_dom_classes": [],
      "_model_module": "@jupyter-widgets/controls",
      "_model_module_version": "1.5.0",
      "_model_name": "IntProgressModel",
      "_view_count": null,
      "_view_module": "@jupyter-widgets/controls",
      "_view_module_version": "1.5.0",
      "_view_name": "ProgressView",
      "bar_style": "",
      "description": "Processing: ",
      "description_tooltip": null,
      "layout": "IPY_MODEL_2e8eab94a7dc4704b5e6ab608d5642ea",
      "max": 4,
      "min": 0,
      "orientation": "horizontal",
      "style": "IPY_MODEL_070d70753eea424da4da47e6d9c70216",
      "value": 4
     }
    },
    "2e8eab94a7dc4704b5e6ab608d5642ea": {
     "model_module": "@jupyter-widgets/base",
     "model_name": "LayoutModel",
     "model_module_version": "1.2.0",
     "state": {
      "_model_module": "@jupyter-widgets/base",
      "_model_module_version": "1.2.0",
      "_model_name": "LayoutModel",
      "_view_count": null,
      "_view_module": "@jupyter-widgets/base",
      "_view_module_version": "1.2.0",
      "_view_name": "LayoutView",
      "align_content": null,
      "align_items": null,
      "align_self": null,
      "border": null,
      "bottom": null,
      "display": null,
      "flex": null,
      "flex_flow": null,
      "grid_area": null,
      "grid_auto_columns": null,
      "grid_auto_flow": null,
      "grid_auto_rows": null,
      "grid_column": null,
      "grid_gap": null,
      "grid_row": null,
      "grid_template_areas": null,
      "grid_template_columns": null,
      "grid_template_rows": null,
      "height": null,
      "justify_content": null,
      "justify_items": null,
      "left": null,
      "margin": null,
      "max_height": null,
      "max_width": null,
      "min_height": null,
      "min_width": null,
      "object_fit": null,
      "object_position": null,
      "order": null,
      "overflow": null,
      "overflow_x": null,
      "overflow_y": null,
      "padding": null,
      "right": null,
      "top": null,
      "visibility": null,
      "width": null
     }
    },
    "070d70753eea424da4da47e6d9c70216": {
     "model_module": "@jupyter-widgets/controls",
     "model_name": "ProgressStyleModel",
     "model_module_version": "1.5.0",
     "state": {
      "_model_module": "@jupyter-widgets/controls",
      "_model_module_version": "1.5.0",
      "_model_name": "ProgressStyleModel",
      "_view_count": null,
      "_view_module": "@jupyter-widgets/base",
      "_view_module_version": "1.2.0",
      "_view_name": "StyleView",
      "bar_color": null,
      "description_width": ""
     }
    },
    "48fbaa78bcac4823ad39103b6fb9b970": {
     "model_module": "@jupyter-widgets/controls",
     "model_name": "IntProgressModel",
     "model_module_version": "1.5.0",
     "state": {
      "_dom_classes": [],
      "_model_module": "@jupyter-widgets/controls",
      "_model_module_version": "1.5.0",
      "_model_name": "IntProgressModel",
      "_view_count": null,
      "_view_module": "@jupyter-widgets/controls",
      "_view_module_version": "1.5.0",
      "_view_name": "ProgressView",
      "bar_style": "",
      "description": "Processing: ",
      "description_tooltip": null,
      "layout": "IPY_MODEL_461fc1446b2449a1b114ee674a094407",
      "max": 3,
      "min": 0,
      "orientation": "horizontal",
      "style": "IPY_MODEL_3be39af9a9174db286f8fb567d0cfecf",
      "value": 3
     }
    },
    "461fc1446b2449a1b114ee674a094407": {
     "model_module": "@jupyter-widgets/base",
     "model_name": "LayoutModel",
     "model_module_version": "1.2.0",
     "state": {
      "_model_module": "@jupyter-widgets/base",
      "_model_module_version": "1.2.0",
      "_model_name": "LayoutModel",
      "_view_count": null,
      "_view_module": "@jupyter-widgets/base",
      "_view_module_version": "1.2.0",
      "_view_name": "LayoutView",
      "align_content": null,
      "align_items": null,
      "align_self": null,
      "border": null,
      "bottom": null,
      "display": null,
      "flex": null,
      "flex_flow": null,
      "grid_area": null,
      "grid_auto_columns": null,
      "grid_auto_flow": null,
      "grid_auto_rows": null,
      "grid_column": null,
      "grid_gap": null,
      "grid_row": null,
      "grid_template_areas": null,
      "grid_template_columns": null,
      "grid_template_rows": null,
      "height": null,
      "justify_content": null,
      "justify_items": null,
      "left": null,
      "margin": null,
      "max_height": null,
      "max_width": null,
      "min_height": null,
      "min_width": null,
      "object_fit": null,
      "object_position": null,
      "order": null,
      "overflow": null,
      "overflow_x": null,
      "overflow_y": null,
      "padding": null,
      "right": null,
      "top": null,
      "visibility": null,
      "width": null
     }
    },
    "3be39af9a9174db286f8fb567d0cfecf": {
     "model_module": "@jupyter-widgets/controls",
     "model_name": "ProgressStyleModel",
     "model_module_version": "1.5.0",
     "state": {
      "_model_module": "@jupyter-widgets/controls",
      "_model_module_version": "1.5.0",
      "_model_name": "ProgressStyleModel",
      "_view_count": null,
      "_view_module": "@jupyter-widgets/base",
      "_view_module_version": "1.2.0",
      "_view_name": "StyleView",
      "bar_color": null,
      "description_width": ""
     }
    },
    "43bad0651ae047b4bbb2e765ffe4ea4f": {
     "model_module": "@jupyter-widgets/controls",
     "model_name": "TextModel",
     "model_module_version": "1.5.0",
     "state": {
      "_dom_classes": [],
      "_model_module": "@jupyter-widgets/controls",
      "_model_module_version": "1.5.0",
      "_model_name": "TextModel",
      "_view_count": null,
      "_view_module": "@jupyter-widgets/controls",
      "_view_module_version": "1.5.0",
      "_view_name": "TextView",
      "continuous_update": true,
      "description": "",
      "description_tooltip": null,
      "disabled": false,
      "layout": "IPY_MODEL_04e695e25605414ebd4439dd712594f9",
      "placeholder": "​",
      "style": "IPY_MODEL_eadf24e5508645da9c3eac396e4b998e",
      "value": "Following data types have been inferred automatically, if they are correct press enter to continue or type 'quit' otherwise."
     }
    },
    "04e695e25605414ebd4439dd712594f9": {
     "model_module": "@jupyter-widgets/base",
     "model_name": "LayoutModel",
     "model_module_version": "1.2.0",
     "state": {
      "_model_module": "@jupyter-widgets/base",
      "_model_module_version": "1.2.0",
      "_model_name": "LayoutModel",
      "_view_count": null,
      "_view_module": "@jupyter-widgets/base",
      "_view_module_version": "1.2.0",
      "_view_name": "LayoutView",
      "align_content": null,
      "align_items": null,
      "align_self": null,
      "border": null,
      "bottom": null,
      "display": null,
      "flex": null,
      "flex_flow": null,
      "grid_area": null,
      "grid_auto_columns": null,
      "grid_auto_flow": null,
      "grid_auto_rows": null,
      "grid_column": null,
      "grid_gap": null,
      "grid_row": null,
      "grid_template_areas": null,
      "grid_template_columns": null,
      "grid_template_rows": null,
      "height": null,
      "justify_content": null,
      "justify_items": null,
      "left": null,
      "margin": null,
      "max_height": null,
      "max_width": null,
      "min_height": null,
      "min_width": null,
      "object_fit": null,
      "object_position": null,
      "order": null,
      "overflow": null,
      "overflow_x": null,
      "overflow_y": null,
      "padding": null,
      "right": null,
      "top": null,
      "visibility": null,
      "width": "100%"
     }
    },
    "eadf24e5508645da9c3eac396e4b998e": {
     "model_module": "@jupyter-widgets/controls",
     "model_name": "DescriptionStyleModel",
     "model_module_version": "1.5.0",
     "state": {
      "_model_module": "@jupyter-widgets/controls",
      "_model_module_version": "1.5.0",
      "_model_name": "DescriptionStyleModel",
      "_view_count": null,
      "_view_module": "@jupyter-widgets/base",
      "_view_module_version": "1.2.0",
      "_view_name": "StyleView",
      "description_width": ""
     }
    },
    "b57185348989462aa0a8c7d2d381b873": {
     "model_module": "@jupyter-widgets/controls",
     "model_name": "IntProgressModel",
     "model_module_version": "1.5.0",
     "state": {
      "_dom_classes": [],
      "_model_module": "@jupyter-widgets/controls",
      "_model_module_version": "1.5.0",
      "_model_name": "IntProgressModel",
      "_view_count": null,
      "_view_module": "@jupyter-widgets/controls",
      "_view_module_version": "1.5.0",
      "_view_name": "ProgressView",
      "bar_style": "",
      "description": "Processing: ",
      "description_tooltip": null,
      "layout": "IPY_MODEL_f629e89814d0435bbf088e51c49252b6",
      "max": 4,
      "min": 0,
      "orientation": "horizontal",
      "style": "IPY_MODEL_79695444fb9b4d13b041623500364fda",
      "value": 4
     }
    },
    "f629e89814d0435bbf088e51c49252b6": {
     "model_module": "@jupyter-widgets/base",
     "model_name": "LayoutModel",
     "model_module_version": "1.2.0",
     "state": {
      "_model_module": "@jupyter-widgets/base",
      "_model_module_version": "1.2.0",
      "_model_name": "LayoutModel",
      "_view_count": null,
      "_view_module": "@jupyter-widgets/base",
      "_view_module_version": "1.2.0",
      "_view_name": "LayoutView",
      "align_content": null,
      "align_items": null,
      "align_self": null,
      "border": null,
      "bottom": null,
      "display": null,
      "flex": null,
      "flex_flow": null,
      "grid_area": null,
      "grid_auto_columns": null,
      "grid_auto_flow": null,
      "grid_auto_rows": null,
      "grid_column": null,
      "grid_gap": null,
      "grid_row": null,
      "grid_template_areas": null,
      "grid_template_columns": null,
      "grid_template_rows": null,
      "height": null,
      "justify_content": null,
      "justify_items": null,
      "left": null,
      "margin": null,
      "max_height": null,
      "max_width": null,
      "min_height": null,
      "min_width": null,
      "object_fit": null,
      "object_position": null,
      "order": null,
      "overflow": null,
      "overflow_x": null,
      "overflow_y": null,
      "padding": null,
      "right": null,
      "top": null,
      "visibility": null,
      "width": null
     }
    },
    "79695444fb9b4d13b041623500364fda": {
     "model_module": "@jupyter-widgets/controls",
     "model_name": "ProgressStyleModel",
     "model_module_version": "1.5.0",
     "state": {
      "_model_module": "@jupyter-widgets/controls",
      "_model_module_version": "1.5.0",
      "_model_name": "ProgressStyleModel",
      "_view_count": null,
      "_view_module": "@jupyter-widgets/base",
      "_view_module_version": "1.2.0",
      "_view_name": "StyleView",
      "bar_color": null,
      "description_width": ""
     }
    },
    "b28e42e91de54778ad9323c1a92b8ac8": {
     "model_module": "@jupyter-widgets/controls",
     "model_name": "IntProgressModel",
     "model_module_version": "1.5.0",
     "state": {
      "_dom_classes": [],
      "_model_module": "@jupyter-widgets/controls",
      "_model_module_version": "1.5.0",
      "_model_name": "IntProgressModel",
      "_view_count": null,
      "_view_module": "@jupyter-widgets/controls",
      "_view_module_version": "1.5.0",
      "_view_name": "ProgressView",
      "bar_style": "",
      "description": "Processing: ",
      "description_tooltip": null,
      "layout": "IPY_MODEL_a85d51b137ef4b2dadd17a980cf595e8",
      "max": 4,
      "min": 0,
      "orientation": "horizontal",
      "style": "IPY_MODEL_a949c78e51b041129bd855ab4f3afc85",
      "value": 4
     }
    },
    "a85d51b137ef4b2dadd17a980cf595e8": {
     "model_module": "@jupyter-widgets/base",
     "model_name": "LayoutModel",
     "model_module_version": "1.2.0",
     "state": {
      "_model_module": "@jupyter-widgets/base",
      "_model_module_version": "1.2.0",
      "_model_name": "LayoutModel",
      "_view_count": null,
      "_view_module": "@jupyter-widgets/base",
      "_view_module_version": "1.2.0",
      "_view_name": "LayoutView",
      "align_content": null,
      "align_items": null,
      "align_self": null,
      "border": null,
      "bottom": null,
      "display": null,
      "flex": null,
      "flex_flow": null,
      "grid_area": null,
      "grid_auto_columns": null,
      "grid_auto_flow": null,
      "grid_auto_rows": null,
      "grid_column": null,
      "grid_gap": null,
      "grid_row": null,
      "grid_template_areas": null,
      "grid_template_columns": null,
      "grid_template_rows": null,
      "height": null,
      "justify_content": null,
      "justify_items": null,
      "left": null,
      "margin": null,
      "max_height": null,
      "max_width": null,
      "min_height": null,
      "min_width": null,
      "object_fit": null,
      "object_position": null,
      "order": null,
      "overflow": null,
      "overflow_x": null,
      "overflow_y": null,
      "padding": null,
      "right": null,
      "top": null,
      "visibility": null,
      "width": null
     }
    },
    "a949c78e51b041129bd855ab4f3afc85": {
     "model_module": "@jupyter-widgets/controls",
     "model_name": "ProgressStyleModel",
     "model_module_version": "1.5.0",
     "state": {
      "_model_module": "@jupyter-widgets/controls",
      "_model_module_version": "1.5.0",
      "_model_name": "ProgressStyleModel",
      "_view_count": null,
      "_view_module": "@jupyter-widgets/base",
      "_view_module_version": "1.2.0",
      "_view_name": "StyleView",
      "bar_color": null,
      "description_width": ""
     }
    },
    "c381c8c50a82447999cfa64cda6e3c6b": {
     "model_module": "@jupyter-widgets/controls",
     "model_name": "IntProgressModel",
     "model_module_version": "1.5.0",
     "state": {
      "_dom_classes": [],
      "_model_module": "@jupyter-widgets/controls",
      "_model_module_version": "1.5.0",
      "_model_name": "IntProgressModel",
      "_view_count": null,
      "_view_module": "@jupyter-widgets/controls",
      "_view_module_version": "1.5.0",
      "_view_name": "ProgressView",
      "bar_style": "",
      "description": "Processing: ",
      "description_tooltip": null,
      "layout": "IPY_MODEL_9901e846a5a443db9974d06d0f24f3e9",
      "max": 4,
      "min": 0,
      "orientation": "horizontal",
      "style": "IPY_MODEL_09dba3df92004bc893f39c7063ca86af",
      "value": 4
     }
    },
    "9901e846a5a443db9974d06d0f24f3e9": {
     "model_module": "@jupyter-widgets/base",
     "model_name": "LayoutModel",
     "model_module_version": "1.2.0",
     "state": {
      "_model_module": "@jupyter-widgets/base",
      "_model_module_version": "1.2.0",
      "_model_name": "LayoutModel",
      "_view_count": null,
      "_view_module": "@jupyter-widgets/base",
      "_view_module_version": "1.2.0",
      "_view_name": "LayoutView",
      "align_content": null,
      "align_items": null,
      "align_self": null,
      "border": null,
      "bottom": null,
      "display": null,
      "flex": null,
      "flex_flow": null,
      "grid_area": null,
      "grid_auto_columns": null,
      "grid_auto_flow": null,
      "grid_auto_rows": null,
      "grid_column": null,
      "grid_gap": null,
      "grid_row": null,
      "grid_template_areas": null,
      "grid_template_columns": null,
      "grid_template_rows": null,
      "height": null,
      "justify_content": null,
      "justify_items": null,
      "left": null,
      "margin": null,
      "max_height": null,
      "max_width": null,
      "min_height": null,
      "min_width": null,
      "object_fit": null,
      "object_position": null,
      "order": null,
      "overflow": null,
      "overflow_x": null,
      "overflow_y": null,
      "padding": null,
      "right": null,
      "top": null,
      "visibility": null,
      "width": null
     }
    },
    "09dba3df92004bc893f39c7063ca86af": {
     "model_module": "@jupyter-widgets/controls",
     "model_name": "ProgressStyleModel",
     "model_module_version": "1.5.0",
     "state": {
      "_model_module": "@jupyter-widgets/controls",
      "_model_module_version": "1.5.0",
      "_model_name": "ProgressStyleModel",
      "_view_count": null,
      "_view_module": "@jupyter-widgets/base",
      "_view_module_version": "1.2.0",
      "_view_name": "StyleView",
      "bar_color": null,
      "description_width": ""
     }
    },
    "35cbb4976f1e4d5cbbae9521b12ac871": {
     "model_module": "@jupyter-widgets/controls",
     "model_name": "IntProgressModel",
     "model_module_version": "1.5.0",
     "state": {
      "_dom_classes": [],
      "_model_module": "@jupyter-widgets/controls",
      "_model_module_version": "1.5.0",
      "_model_name": "IntProgressModel",
      "_view_count": null,
      "_view_module": "@jupyter-widgets/controls",
      "_view_module_version": "1.5.0",
      "_view_name": "ProgressView",
      "bar_style": "",
      "description": "Processing: ",
      "description_tooltip": null,
      "layout": "IPY_MODEL_6b1c5c743c0c4aaeab4e753d51803294",
      "max": 3,
      "min": 0,
      "orientation": "horizontal",
      "style": "IPY_MODEL_eaa4f947fce14b428b1b483b47a508e6",
      "value": 3
     }
    },
    "6b1c5c743c0c4aaeab4e753d51803294": {
     "model_module": "@jupyter-widgets/base",
     "model_name": "LayoutModel",
     "model_module_version": "1.2.0",
     "state": {
      "_model_module": "@jupyter-widgets/base",
      "_model_module_version": "1.2.0",
      "_model_name": "LayoutModel",
      "_view_count": null,
      "_view_module": "@jupyter-widgets/base",
      "_view_module_version": "1.2.0",
      "_view_name": "LayoutView",
      "align_content": null,
      "align_items": null,
      "align_self": null,
      "border": null,
      "bottom": null,
      "display": null,
      "flex": null,
      "flex_flow": null,
      "grid_area": null,
      "grid_auto_columns": null,
      "grid_auto_flow": null,
      "grid_auto_rows": null,
      "grid_column": null,
      "grid_gap": null,
      "grid_row": null,
      "grid_template_areas": null,
      "grid_template_columns": null,
      "grid_template_rows": null,
      "height": null,
      "justify_content": null,
      "justify_items": null,
      "left": null,
      "margin": null,
      "max_height": null,
      "max_width": null,
      "min_height": null,
      "min_width": null,
      "object_fit": null,
      "object_position": null,
      "order": null,
      "overflow": null,
      "overflow_x": null,
      "overflow_y": null,
      "padding": null,
      "right": null,
      "top": null,
      "visibility": null,
      "width": null
     }
    },
    "eaa4f947fce14b428b1b483b47a508e6": {
     "model_module": "@jupyter-widgets/controls",
     "model_name": "ProgressStyleModel",
     "model_module_version": "1.5.0",
     "state": {
      "_model_module": "@jupyter-widgets/controls",
      "_model_module_version": "1.5.0",
      "_model_name": "ProgressStyleModel",
      "_view_count": null,
      "_view_module": "@jupyter-widgets/base",
      "_view_module_version": "1.2.0",
      "_view_name": "StyleView",
      "bar_color": null,
      "description_width": ""
     }
    },
    "911c199b45f546998b014447923363a5": {
     "model_module": "@jupyter-widgets/controls",
     "model_name": "TextModel",
     "model_module_version": "1.5.0",
     "state": {
      "_dom_classes": [],
      "_model_module": "@jupyter-widgets/controls",
      "_model_module_version": "1.5.0",
      "_model_name": "TextModel",
      "_view_count": null,
      "_view_module": "@jupyter-widgets/controls",
      "_view_module_version": "1.5.0",
      "_view_name": "TextView",
      "continuous_update": true,
      "description": "",
      "description_tooltip": null,
      "disabled": false,
      "layout": "IPY_MODEL_02e21d95cc494175b263c1ed286e6ff7",
      "placeholder": "​",
      "style": "IPY_MODEL_dc8108f886a4448b988e4770c98f1e36",
      "value": "Following data types have been inferred automatically, if they are correct press enter to continue or type 'quit' otherwise."
     }
    },
    "02e21d95cc494175b263c1ed286e6ff7": {
     "model_module": "@jupyter-widgets/base",
     "model_name": "LayoutModel",
     "model_module_version": "1.2.0",
     "state": {
      "_model_module": "@jupyter-widgets/base",
      "_model_module_version": "1.2.0",
      "_model_name": "LayoutModel",
      "_view_count": null,
      "_view_module": "@jupyter-widgets/base",
      "_view_module_version": "1.2.0",
      "_view_name": "LayoutView",
      "align_content": null,
      "align_items": null,
      "align_self": null,
      "border": null,
      "bottom": null,
      "display": null,
      "flex": null,
      "flex_flow": null,
      "grid_area": null,
      "grid_auto_columns": null,
      "grid_auto_flow": null,
      "grid_auto_rows": null,
      "grid_column": null,
      "grid_gap": null,
      "grid_row": null,
      "grid_template_areas": null,
      "grid_template_columns": null,
      "grid_template_rows": null,
      "height": null,
      "justify_content": null,
      "justify_items": null,
      "left": null,
      "margin": null,
      "max_height": null,
      "max_width": null,
      "min_height": null,
      "min_width": null,
      "object_fit": null,
      "object_position": null,
      "order": null,
      "overflow": null,
      "overflow_x": null,
      "overflow_y": null,
      "padding": null,
      "right": null,
      "top": null,
      "visibility": null,
      "width": "100%"
     }
    },
    "dc8108f886a4448b988e4770c98f1e36": {
     "model_module": "@jupyter-widgets/controls",
     "model_name": "DescriptionStyleModel",
     "model_module_version": "1.5.0",
     "state": {
      "_model_module": "@jupyter-widgets/controls",
      "_model_module_version": "1.5.0",
      "_model_name": "DescriptionStyleModel",
      "_view_count": null,
      "_view_module": "@jupyter-widgets/base",
      "_view_module_version": "1.2.0",
      "_view_name": "StyleView",
      "description_width": ""
     }
    },
    "4b98e19d384845a18c290e78149af75f": {
     "model_module": "@jupyter-widgets/controls",
     "model_name": "IntProgressModel",
     "model_module_version": "1.5.0",
     "state": {
      "_dom_classes": [],
      "_model_module": "@jupyter-widgets/controls",
      "_model_module_version": "1.5.0",
      "_model_name": "IntProgressModel",
      "_view_count": null,
      "_view_module": "@jupyter-widgets/controls",
      "_view_module_version": "1.5.0",
      "_view_name": "ProgressView",
      "bar_style": "",
      "description": "Processing: ",
      "description_tooltip": null,
      "layout": "IPY_MODEL_3289eeb4d2ff4918acf40d3312051ee0",
      "max": 4,
      "min": 0,
      "orientation": "horizontal",
      "style": "IPY_MODEL_0172117c58684e3793e566e82717db07",
      "value": 4
     }
    },
    "3289eeb4d2ff4918acf40d3312051ee0": {
     "model_module": "@jupyter-widgets/base",
     "model_name": "LayoutModel",
     "model_module_version": "1.2.0",
     "state": {
      "_model_module": "@jupyter-widgets/base",
      "_model_module_version": "1.2.0",
      "_model_name": "LayoutModel",
      "_view_count": null,
      "_view_module": "@jupyter-widgets/base",
      "_view_module_version": "1.2.0",
      "_view_name": "LayoutView",
      "align_content": null,
      "align_items": null,
      "align_self": null,
      "border": null,
      "bottom": null,
      "display": null,
      "flex": null,
      "flex_flow": null,
      "grid_area": null,
      "grid_auto_columns": null,
      "grid_auto_flow": null,
      "grid_auto_rows": null,
      "grid_column": null,
      "grid_gap": null,
      "grid_row": null,
      "grid_template_areas": null,
      "grid_template_columns": null,
      "grid_template_rows": null,
      "height": null,
      "justify_content": null,
      "justify_items": null,
      "left": null,
      "margin": null,
      "max_height": null,
      "max_width": null,
      "min_height": null,
      "min_width": null,
      "object_fit": null,
      "object_position": null,
      "order": null,
      "overflow": null,
      "overflow_x": null,
      "overflow_y": null,
      "padding": null,
      "right": null,
      "top": null,
      "visibility": null,
      "width": null
     }
    },
    "0172117c58684e3793e566e82717db07": {
     "model_module": "@jupyter-widgets/controls",
     "model_name": "ProgressStyleModel",
     "model_module_version": "1.5.0",
     "state": {
      "_model_module": "@jupyter-widgets/controls",
      "_model_module_version": "1.5.0",
      "_model_name": "ProgressStyleModel",
      "_view_count": null,
      "_view_module": "@jupyter-widgets/base",
      "_view_module_version": "1.2.0",
      "_view_name": "StyleView",
      "bar_color": null,
      "description_width": ""
     }
    }
   }
  }
 },
 "cells": [
  {
   "cell_type": "markdown",
   "source": [
    "\n",
    "# IMPORT DATA\n"
   ],
   "metadata": {
    "id": "L0wpYQo--9nX"
   }
  },
  {
   "cell_type": "code",
   "source": [
    "import pandas as pd \n",
    "import numpy as np\n",
    "from keras.layers import Input, Dense\n",
    "from keras.models import Model\n",
    "from keras.optimizers import RMSprop\n",
    "from keras import backend as K\n",
    "import tensorflow as tf\n",
    "import io\n",
    "import pandas as pd"
   ],
   "metadata": {
    "colab": {
     "base_uri": "https://localhost:8080/",
     "height": 296
    },
    "id": "gI7n8Qzc-0BE",
    "outputId": "11a1987c-1870-403c-cdd8-726dab3c57a0"
   },
   "execution_count": 3,
   "outputs": []
  },
  {
   "cell_type": "code",
   "source": [
    "train= pd.read_csv('동원산업통합_분류_1_RE.csv',encoding='cp949')\n",
    "train"
   ],
   "metadata": {
    "colab": {
     "base_uri": "https://localhost:8080/",
     "height": 523
    },
    "id": "xNN2Y6NT_HRL",
    "outputId": "f4244e39-9116-4c07-cde0-c6ac43b8aa8d"
   },
   "execution_count": 4,
   "outputs": [
    {
     "data": {
      "text/plain": "                    청구서번호  No.  \\\n0      ELS-BS-ESP-2004002   12   \n1      OCA-BS-ESP-2010004    5   \n2      MIR-BS-ESP-2011002  119   \n3      BLO-BS-ESP-2003002   16   \n4      DEO-BS-ESP-2105008   97   \n...                   ...  ...   \n21079  BLO-BS-ESP-2006006    1   \n21080  BLO-BS-ESP-2004008    1   \n21081  ELS-BS-ESP-1908002    2   \n21082  BLO-BS-ESP-1906014    2   \n21083  BLO-BS-ESP-1906014    3   \n\n                                                 Subject  \\\n0                           NO.1 A/E C18 MAJOR O/H PARTS   \n1                   운전시간 대비 #2 AUX ENG TOP END O/H PARTS   \n2          운전시간 대비 #2 AUX ENG(CAT 3512C) MAJOR O/H PARTS   \n3                           #1 AUX ENG TOP END O/H PARTS   \n4                                        DEO-E-210512-01   \n...                                                  ...   \n21079  BLO-F-ENGINE-200515-03 BOAT DAVIT CYL 외, AIRCO...   \n21080  BLO-F-ENGINE-200403-01 (NAVI DECK CRANE DERRIN...   \n21081                                ELS-F-ENG-190628-02   \n21082            BLO-F-ENGINE-190617-01 (NET BOAT PARTS)   \n21083            BLO-F-ENGINE-190617-01 (NET BOAT PARTS)   \n\n                   Machinery                              Assembly  \\\n0      NO.1 GENERATOR ENGINE               323-6480 LINES GP-FUEL    \n1      NO.2 GENERATOR ENGINE                            GASKET KIT   \n2      NO.2 GENERATOR ENGINE             285-8374 MANIFOLD GP-EXH    \n3      NO.1 GENERATOR ENGINE                     159-8828 TURBO GP   \n4      NO.1 GENERATOR ENGINE             2N4727 INSTRUMNT PANEL GP   \n...                      ...                                   ...   \n21079            HYD. SYSTEM  5-753-2E_BOAT DAVIT & N.D CRANE LINE   \n21080            HYD. SYSTEM  5-753-2E_BOAT DAVIT & N.D CRANE LINE   \n21081            6M NET BOAT                       ELECTRIC CLUTCH   \n21082            7M NET BOAT        HAND HYDRAULIC STEERING SYSTEM   \n21083            7M NET BOAT        HAND HYDRAULIC STEERING SYSTEM   \n\n                                      청구품목                     Part No.1  \\\n0                         SEAL-O-RING-STOR                     7.00E-275   \n1                       OIL COOLER & LINES                     7.00E-275   \n2                                   WASHER                     7.00E-275   \n3                           BOLT-HIGH TEMP                     7.00E-275   \n4                                     SEAL                     7.00E-275   \n...                                    ...                           ...   \n21079         HYD. CYLINDER_NET BOAT DAVIT            φ150 × φ85 × 695st   \n21080  HYD. CYLINDER_N.D CRANE_BOOM_LIFTER          φ160 × φ112 × 1130st   \n21081                                PULLY                     Φ305X5V-3   \n21082                            CYLINDER            Φ50 x S195 CYLINDER   \n21083                SEAL KIT FOR CYLINDER  Φ50 x S195 CYLINDER SEAL KIT   \n\n                       Part No.2                                         key1  \\\n0                            NaN                                    7.00E-275   \n1                            NaN                                    7.00E-275   \n2                            NaN                                    7.00E-275   \n3                            NaN                                    7.00E-275   \n4                            NaN                                    7.00E-275   \n...                          ...                                          ...   \n21079  FF-SE-1CB150BB695ABD-YP2J  φ150 × φ85 × 695stFF-SE-1CB150BB695ABD-YP2J   \n21080       S-2CA160A20.6N1130-1     φ160 × φ112 × 1130stS-2CA160A20.6N1130-1   \n21081                        NaN                                    Φ305X5V-3   \n21082                        NaN                          Φ50 x S195 CYLINDER   \n21083                        NaN                 Φ50 x S195 CYLINDER SEAL KIT   \n\n           key2  ...  창고입고수량  Control No. 입고창고        창고출고 창고출고수량 출고선박  \\\n0        COOLER  ...       1        혜인 발주   BS  2020-09-19      1  BLO   \n1        COOLER  ...       1        혜인 발주   BS  2020-09-18      1  JBG   \n2        COOLER  ...       1          NaN   BS  2020-12-12      1  BON   \n3        COOLER  ...       1        혜인 발주   BS  2021-06-16      1  MIR   \n4        COOLER  ...       1          NaN   BS         NaN      0  NaN   \n...         ...  ...     ...          ...  ...         ...    ...  ...   \n21079  CYLINDER  ...       2    20-09-161   BW         NaN      0  NaN   \n21080  CYLINDER  ...       1    20-07-114   BW  2020-08-26      1  BLO   \n21081      BELT  ...       1    19-08-164   BW  2019-09-04      1  ELS   \n21082  CYLINDER  ...       1    19-07-134   BW  2019-08-20      1  BLO   \n21083  CYLINDER  ...       2    19-07-134   BW  2019-08-20      2  BLO   \n\n                출고운반선        선박입고 선박입고수량  완료 여부  \n0               본선 선적         NaN      0    NaN  \n1               본선 선적         NaN      0    NaN  \n2      SANWA FONTAINE         NaN      0    NaN  \n3           체항수리 시 사용         NaN      0    NaN  \n4                 NaN         NaN      0    NaN  \n...               ...         ...    ...    ...  \n21079             NaN         NaN      0    NaN  \n21080      BLO 상가시 선적         NaN      0    NaN  \n21081         ONENESS  2019-10-02      1     완료  \n21082        세이셀 컨테이너  2019-10-12      1     완료  \n21083        세이셀 컨테이너  2019-10-12      2     완료  \n\n[21084 rows x 35 columns]",
      "text/html": "<div>\n<style scoped>\n    .dataframe tbody tr th:only-of-type {\n        vertical-align: middle;\n    }\n\n    .dataframe tbody tr th {\n        vertical-align: top;\n    }\n\n    .dataframe thead th {\n        text-align: right;\n    }\n</style>\n<table border=\"1\" class=\"dataframe\">\n  <thead>\n    <tr style=\"text-align: right;\">\n      <th></th>\n      <th>청구서번호</th>\n      <th>No.</th>\n      <th>Subject</th>\n      <th>Machinery</th>\n      <th>Assembly</th>\n      <th>청구품목</th>\n      <th>Part No.1</th>\n      <th>Part No.2</th>\n      <th>key1</th>\n      <th>key2</th>\n      <th>...</th>\n      <th>창고입고수량</th>\n      <th>Control No.</th>\n      <th>입고창고</th>\n      <th>창고출고</th>\n      <th>창고출고수량</th>\n      <th>출고선박</th>\n      <th>출고운반선</th>\n      <th>선박입고</th>\n      <th>선박입고수량</th>\n      <th>완료 여부</th>\n    </tr>\n  </thead>\n  <tbody>\n    <tr>\n      <th>0</th>\n      <td>ELS-BS-ESP-2004002</td>\n      <td>12</td>\n      <td>NO.1 A/E C18 MAJOR O/H PARTS</td>\n      <td>NO.1 GENERATOR ENGINE</td>\n      <td>323-6480 LINES GP-FUEL</td>\n      <td>SEAL-O-RING-STOR</td>\n      <td>7.00E-275</td>\n      <td>NaN</td>\n      <td>7.00E-275</td>\n      <td>COOLER</td>\n      <td>...</td>\n      <td>1</td>\n      <td>혜인 발주</td>\n      <td>BS</td>\n      <td>2020-09-19</td>\n      <td>1</td>\n      <td>BLO</td>\n      <td>본선 선적</td>\n      <td>NaN</td>\n      <td>0</td>\n      <td>NaN</td>\n    </tr>\n    <tr>\n      <th>1</th>\n      <td>OCA-BS-ESP-2010004</td>\n      <td>5</td>\n      <td>운전시간 대비 #2 AUX ENG TOP END O/H PARTS</td>\n      <td>NO.2 GENERATOR ENGINE</td>\n      <td>GASKET KIT</td>\n      <td>OIL COOLER &amp; LINES</td>\n      <td>7.00E-275</td>\n      <td>NaN</td>\n      <td>7.00E-275</td>\n      <td>COOLER</td>\n      <td>...</td>\n      <td>1</td>\n      <td>혜인 발주</td>\n      <td>BS</td>\n      <td>2020-09-18</td>\n      <td>1</td>\n      <td>JBG</td>\n      <td>본선 선적</td>\n      <td>NaN</td>\n      <td>0</td>\n      <td>NaN</td>\n    </tr>\n    <tr>\n      <th>2</th>\n      <td>MIR-BS-ESP-2011002</td>\n      <td>119</td>\n      <td>운전시간 대비 #2 AUX ENG(CAT 3512C) MAJOR O/H PARTS</td>\n      <td>NO.2 GENERATOR ENGINE</td>\n      <td>285-8374 MANIFOLD GP-EXH</td>\n      <td>WASHER</td>\n      <td>7.00E-275</td>\n      <td>NaN</td>\n      <td>7.00E-275</td>\n      <td>COOLER</td>\n      <td>...</td>\n      <td>1</td>\n      <td>NaN</td>\n      <td>BS</td>\n      <td>2020-12-12</td>\n      <td>1</td>\n      <td>BON</td>\n      <td>SANWA FONTAINE</td>\n      <td>NaN</td>\n      <td>0</td>\n      <td>NaN</td>\n    </tr>\n    <tr>\n      <th>3</th>\n      <td>BLO-BS-ESP-2003002</td>\n      <td>16</td>\n      <td>#1 AUX ENG TOP END O/H PARTS</td>\n      <td>NO.1 GENERATOR ENGINE</td>\n      <td>159-8828 TURBO GP</td>\n      <td>BOLT-HIGH TEMP</td>\n      <td>7.00E-275</td>\n      <td>NaN</td>\n      <td>7.00E-275</td>\n      <td>COOLER</td>\n      <td>...</td>\n      <td>1</td>\n      <td>혜인 발주</td>\n      <td>BS</td>\n      <td>2021-06-16</td>\n      <td>1</td>\n      <td>MIR</td>\n      <td>체항수리 시 사용</td>\n      <td>NaN</td>\n      <td>0</td>\n      <td>NaN</td>\n    </tr>\n    <tr>\n      <th>4</th>\n      <td>DEO-BS-ESP-2105008</td>\n      <td>97</td>\n      <td>DEO-E-210512-01</td>\n      <td>NO.1 GENERATOR ENGINE</td>\n      <td>2N4727 INSTRUMNT PANEL GP</td>\n      <td>SEAL</td>\n      <td>7.00E-275</td>\n      <td>NaN</td>\n      <td>7.00E-275</td>\n      <td>COOLER</td>\n      <td>...</td>\n      <td>1</td>\n      <td>NaN</td>\n      <td>BS</td>\n      <td>NaN</td>\n      <td>0</td>\n      <td>NaN</td>\n      <td>NaN</td>\n      <td>NaN</td>\n      <td>0</td>\n      <td>NaN</td>\n    </tr>\n    <tr>\n      <th>...</th>\n      <td>...</td>\n      <td>...</td>\n      <td>...</td>\n      <td>...</td>\n      <td>...</td>\n      <td>...</td>\n      <td>...</td>\n      <td>...</td>\n      <td>...</td>\n      <td>...</td>\n      <td>...</td>\n      <td>...</td>\n      <td>...</td>\n      <td>...</td>\n      <td>...</td>\n      <td>...</td>\n      <td>...</td>\n      <td>...</td>\n      <td>...</td>\n      <td>...</td>\n      <td>...</td>\n    </tr>\n    <tr>\n      <th>21079</th>\n      <td>BLO-BS-ESP-2006006</td>\n      <td>1</td>\n      <td>BLO-F-ENGINE-200515-03 BOAT DAVIT CYL 외, AIRCO...</td>\n      <td>HYD. SYSTEM</td>\n      <td>5-753-2E_BOAT DAVIT &amp; N.D CRANE LINE</td>\n      <td>HYD. CYLINDER_NET BOAT DAVIT</td>\n      <td>φ150 × φ85 × 695st</td>\n      <td>FF-SE-1CB150BB695ABD-YP2J</td>\n      <td>φ150 × φ85 × 695stFF-SE-1CB150BB695ABD-YP2J</td>\n      <td>CYLINDER</td>\n      <td>...</td>\n      <td>2</td>\n      <td>20-09-161</td>\n      <td>BW</td>\n      <td>NaN</td>\n      <td>0</td>\n      <td>NaN</td>\n      <td>NaN</td>\n      <td>NaN</td>\n      <td>0</td>\n      <td>NaN</td>\n    </tr>\n    <tr>\n      <th>21080</th>\n      <td>BLO-BS-ESP-2004008</td>\n      <td>1</td>\n      <td>BLO-F-ENGINE-200403-01 (NAVI DECK CRANE DERRIN...</td>\n      <td>HYD. SYSTEM</td>\n      <td>5-753-2E_BOAT DAVIT &amp; N.D CRANE LINE</td>\n      <td>HYD. CYLINDER_N.D CRANE_BOOM_LIFTER</td>\n      <td>φ160 × φ112 × 1130st</td>\n      <td>S-2CA160A20.6N1130-1</td>\n      <td>φ160 × φ112 × 1130stS-2CA160A20.6N1130-1</td>\n      <td>CYLINDER</td>\n      <td>...</td>\n      <td>1</td>\n      <td>20-07-114</td>\n      <td>BW</td>\n      <td>2020-08-26</td>\n      <td>1</td>\n      <td>BLO</td>\n      <td>BLO 상가시 선적</td>\n      <td>NaN</td>\n      <td>0</td>\n      <td>NaN</td>\n    </tr>\n    <tr>\n      <th>21081</th>\n      <td>ELS-BS-ESP-1908002</td>\n      <td>2</td>\n      <td>ELS-F-ENG-190628-02</td>\n      <td>6M NET BOAT</td>\n      <td>ELECTRIC CLUTCH</td>\n      <td>PULLY</td>\n      <td>Φ305X5V-3</td>\n      <td>NaN</td>\n      <td>Φ305X5V-3</td>\n      <td>BELT</td>\n      <td>...</td>\n      <td>1</td>\n      <td>19-08-164</td>\n      <td>BW</td>\n      <td>2019-09-04</td>\n      <td>1</td>\n      <td>ELS</td>\n      <td>ONENESS</td>\n      <td>2019-10-02</td>\n      <td>1</td>\n      <td>완료</td>\n    </tr>\n    <tr>\n      <th>21082</th>\n      <td>BLO-BS-ESP-1906014</td>\n      <td>2</td>\n      <td>BLO-F-ENGINE-190617-01 (NET BOAT PARTS)</td>\n      <td>7M NET BOAT</td>\n      <td>HAND HYDRAULIC STEERING SYSTEM</td>\n      <td>CYLINDER</td>\n      <td>Φ50 x S195 CYLINDER</td>\n      <td>NaN</td>\n      <td>Φ50 x S195 CYLINDER</td>\n      <td>CYLINDER</td>\n      <td>...</td>\n      <td>1</td>\n      <td>19-07-134</td>\n      <td>BW</td>\n      <td>2019-08-20</td>\n      <td>1</td>\n      <td>BLO</td>\n      <td>세이셀 컨테이너</td>\n      <td>2019-10-12</td>\n      <td>1</td>\n      <td>완료</td>\n    </tr>\n    <tr>\n      <th>21083</th>\n      <td>BLO-BS-ESP-1906014</td>\n      <td>3</td>\n      <td>BLO-F-ENGINE-190617-01 (NET BOAT PARTS)</td>\n      <td>7M NET BOAT</td>\n      <td>HAND HYDRAULIC STEERING SYSTEM</td>\n      <td>SEAL KIT FOR CYLINDER</td>\n      <td>Φ50 x S195 CYLINDER SEAL KIT</td>\n      <td>NaN</td>\n      <td>Φ50 x S195 CYLINDER SEAL KIT</td>\n      <td>CYLINDER</td>\n      <td>...</td>\n      <td>2</td>\n      <td>19-07-134</td>\n      <td>BW</td>\n      <td>2019-08-20</td>\n      <td>2</td>\n      <td>BLO</td>\n      <td>세이셀 컨테이너</td>\n      <td>2019-10-12</td>\n      <td>2</td>\n      <td>완료</td>\n    </tr>\n  </tbody>\n</table>\n<p>21084 rows × 35 columns</p>\n</div>"
     },
     "execution_count": 4,
     "metadata": {},
     "output_type": "execute_result"
    }
   ]
  },
  {
   "cell_type": "code",
   "execution_count": null,
   "outputs": [],
   "source": [
    "# 이거를 이렇게 주지 말고 처음부터 db에서 받아라\n",
    "import pymysql\n",
    "conn=pymysql.connect(host='***.com',port=3306,user='slows14tem',password='***',db='bigdata')\n",
    "cursor = conn.cursor()\n",
    "sql = \"select * from original\"\n",
    "cursor.execute(sql)"
   ],
   "metadata": {
    "collapsed": false
   }
  },
  {
   "cell_type": "code",
   "source": [
    "from sklearn import preprocessing\n",
    "label_encoder = preprocessing.LabelEncoder()"
   ],
   "metadata": {
    "id": "3l1uVcfUmZq3"
   },
   "execution_count": 5,
   "outputs": []
  },
  {
   "cell_type": "code",
   "source": [
    "train['Machinery_Encode']= label_encoder.fit_transform(train['Machinery'])\n",
    "train['Assembly_Encode']= label_encoder.fit_transform(train['Assembly'])\n",
    "train['청구품목_Encode']= label_encoder.fit_transform(train['청구품목'])\n",
    "train['part1_Encode']= label_encoder.fit_transform(train['Part No.1'])\n",
    "train['key2_Encode']=label_encoder.fit_transform(train['key2'])"
   ],
   "metadata": {
    "id": "9fvRwPKy-y0k"
   },
   "execution_count": 6,
   "outputs": []
  },
  {
   "cell_type": "code",
   "source": [
    "columns= ['Machinery_Encode'  , 'Assembly_Encode' , '청구품목_Encode', 'part1_Encode','key2_Encode' ]\n",
    "features= ['Machinery_Encode'  , 'Assembly_Encode' , '청구품목_Encode', 'part1_Encode' ]\n",
    "target= ['key2_Encode']"
   ],
   "metadata": {
    "id": "iompzPX9_a6Y"
   },
   "execution_count": 7,
   "outputs": []
  },
  {
   "cell_type": "markdown",
   "source": [
    "data_Encode 에 해당 컬럼들을 넣는다."
   ],
   "metadata": {
    "id": "94Oco_zI_52N"
   }
  },
  {
   "cell_type": "code",
   "source": [
    "data_Encode= train[columns]\n",
    "data_Encode"
   ],
   "metadata": {
    "colab": {
     "base_uri": "https://localhost:8080/"
    },
    "id": "wf8K6U3f_3rr",
    "outputId": "280ed532-6a69-4ca4-c503-04679612e35a"
   },
   "execution_count": 8,
   "outputs": [
    {
     "data": {
      "text/plain": "       Machinery_Encode  Assembly_Encode  청구품목_Encode  part1_Encode  \\\n0                   109              295         4906          5854   \n1                   114             1201         3733          5854   \n2                   114              220         5995          5854   \n3                   109               83          700          5854   \n4                   109              251         4736          5854   \n...                 ...              ...          ...           ...   \n21079                64              488         2839          8274   \n21080                64              488         2838          8275   \n21081                 0              919         4200          8270   \n21082                 5             1231         1601          8271   \n21083                 5             1231         4775          8272   \n\n       key2_Encode  \n0               18  \n1               18  \n2               18  \n3               18  \n4               18  \n...            ...  \n21079           20  \n21080           20  \n21081            5  \n21082           20  \n21083           20  \n\n[21084 rows x 5 columns]",
      "text/html": "<div>\n<style scoped>\n    .dataframe tbody tr th:only-of-type {\n        vertical-align: middle;\n    }\n\n    .dataframe tbody tr th {\n        vertical-align: top;\n    }\n\n    .dataframe thead th {\n        text-align: right;\n    }\n</style>\n<table border=\"1\" class=\"dataframe\">\n  <thead>\n    <tr style=\"text-align: right;\">\n      <th></th>\n      <th>Machinery_Encode</th>\n      <th>Assembly_Encode</th>\n      <th>청구품목_Encode</th>\n      <th>part1_Encode</th>\n      <th>key2_Encode</th>\n    </tr>\n  </thead>\n  <tbody>\n    <tr>\n      <th>0</th>\n      <td>109</td>\n      <td>295</td>\n      <td>4906</td>\n      <td>5854</td>\n      <td>18</td>\n    </tr>\n    <tr>\n      <th>1</th>\n      <td>114</td>\n      <td>1201</td>\n      <td>3733</td>\n      <td>5854</td>\n      <td>18</td>\n    </tr>\n    <tr>\n      <th>2</th>\n      <td>114</td>\n      <td>220</td>\n      <td>5995</td>\n      <td>5854</td>\n      <td>18</td>\n    </tr>\n    <tr>\n      <th>3</th>\n      <td>109</td>\n      <td>83</td>\n      <td>700</td>\n      <td>5854</td>\n      <td>18</td>\n    </tr>\n    <tr>\n      <th>4</th>\n      <td>109</td>\n      <td>251</td>\n      <td>4736</td>\n      <td>5854</td>\n      <td>18</td>\n    </tr>\n    <tr>\n      <th>...</th>\n      <td>...</td>\n      <td>...</td>\n      <td>...</td>\n      <td>...</td>\n      <td>...</td>\n    </tr>\n    <tr>\n      <th>21079</th>\n      <td>64</td>\n      <td>488</td>\n      <td>2839</td>\n      <td>8274</td>\n      <td>20</td>\n    </tr>\n    <tr>\n      <th>21080</th>\n      <td>64</td>\n      <td>488</td>\n      <td>2838</td>\n      <td>8275</td>\n      <td>20</td>\n    </tr>\n    <tr>\n      <th>21081</th>\n      <td>0</td>\n      <td>919</td>\n      <td>4200</td>\n      <td>8270</td>\n      <td>5</td>\n    </tr>\n    <tr>\n      <th>21082</th>\n      <td>5</td>\n      <td>1231</td>\n      <td>1601</td>\n      <td>8271</td>\n      <td>20</td>\n    </tr>\n    <tr>\n      <th>21083</th>\n      <td>5</td>\n      <td>1231</td>\n      <td>4775</td>\n      <td>8272</td>\n      <td>20</td>\n    </tr>\n  </tbody>\n</table>\n<p>21084 rows × 5 columns</p>\n</div>"
     },
     "execution_count": 8,
     "metadata": {},
     "output_type": "execute_result"
    }
   ]
  },
  {
   "cell_type": "code",
   "source": [
    "from sklearn.model_selection import train_test_split"
   ],
   "metadata": {
    "id": "u6HiBSebBNTi"
   },
   "execution_count": 9,
   "outputs": []
  },
  {
   "cell_type": "code",
   "source": [
    "# y에 key2가 들어있는 거임.\n",
    "X_tr, X_val, y_tr, y_val = train_test_split(data_Encode[features], data_Encode[target], stratify = data_Encode[target], test_size= 0.3)"
   ],
   "metadata": {
    "id": "4Vv44_epBysq"
   },
   "execution_count": 10,
   "outputs": []
  },
  {
   "cell_type": "code",
   "source": [
    "from pycaret.classification import *"
   ],
   "metadata": {
    "colab": {
     "base_uri": "https://localhost:8080/"
    },
    "id": "lgM1ntqnCg5n",
    "outputId": "15d82930-b5d3-47c4-a6b8-985dc9167639"
   },
   "execution_count": 13,
   "outputs": []
  },
  {
   "cell_type": "code",
   "source": [
    "# train, validation\n",
    "TR = pd.concat([X_tr, y_tr], axis=1)\n",
    "VAL = pd.concat([X_val, y_val], axis=1)"
   ],
   "metadata": {
    "id": "jT4xTIZHC7cj"
   },
   "execution_count": 14,
   "outputs": []
  },
  {
   "cell_type": "markdown",
   "source": [
    "환경설정"
   ],
   "metadata": {
    "id": "KD2C-Na_FxEp"
   }
  },
  {
   "cell_type": "code",
   "source": [
    "clf= setup(data=TR, target='key2_Encode', use_gpu=True, categorical_features=['Machinery_Encode', 'Assembly_Encode', '청구품목_Encode', 'part1_Encode'])\n",
    "# categorical을 안 주면 label을 숫자로 주니까 쓸 수가 없음\n",
    "# clf= setup(data=TR, target='key2_Encode', use_gpu=True)"
   ],
   "metadata": {
    "colab": {
     "base_uri": "https://localhost:8080/",
     "height": 1000,
     "referenced_widgets": [
      "3111ae3e318f417a99bab6122ac73c94",
      "2c5370c8d0ec49a98f2c99bc7faf84b8",
      "30e2c615576942a8ac4e5320548e084f",
      "eb1f183c7f0441d98df36965646b9b43",
      "90f54d7eaa2148c9b39623090d0f40d6",
      "b281c8748cd74d12b267596ce93daeb6"
     ]
    },
    "id": "sJ9mlGDkFgY1",
    "outputId": "80a5fa70-6683-4c11-d991-e5f04607ee30"
   },
   "execution_count": 15,
   "outputs": [
    {
     "data": {
      "text/plain": "<pandas.io.formats.style.Styler at 0x1bcebe992b0>",
      "text/html": "<style type=\"text/css\">\n#T_77940_row18_col1, #T_77940_row44_col1 {\n  background-color: lightgreen;\n}\n</style>\n<table id=\"T_77940\">\n  <thead>\n    <tr>\n      <th class=\"blank level0\" >&nbsp;</th>\n      <th id=\"T_77940_level0_col0\" class=\"col_heading level0 col0\" >Description</th>\n      <th id=\"T_77940_level0_col1\" class=\"col_heading level0 col1\" >Value</th>\n    </tr>\n  </thead>\n  <tbody>\n    <tr>\n      <th id=\"T_77940_level0_row0\" class=\"row_heading level0 row0\" >0</th>\n      <td id=\"T_77940_row0_col0\" class=\"data row0 col0\" >session_id</td>\n      <td id=\"T_77940_row0_col1\" class=\"data row0 col1\" >1133</td>\n    </tr>\n    <tr>\n      <th id=\"T_77940_level0_row1\" class=\"row_heading level0 row1\" >1</th>\n      <td id=\"T_77940_row1_col0\" class=\"data row1 col0\" >Target</td>\n      <td id=\"T_77940_row1_col1\" class=\"data row1 col1\" >key2_Encode</td>\n    </tr>\n    <tr>\n      <th id=\"T_77940_level0_row2\" class=\"row_heading level0 row2\" >2</th>\n      <td id=\"T_77940_row2_col0\" class=\"data row2 col0\" >Target Type</td>\n      <td id=\"T_77940_row2_col1\" class=\"data row2 col1\" >Multiclass</td>\n    </tr>\n    <tr>\n      <th id=\"T_77940_level0_row3\" class=\"row_heading level0 row3\" >3</th>\n      <td id=\"T_77940_row3_col0\" class=\"data row3 col0\" >Label Encoded</td>\n      <td id=\"T_77940_row3_col1\" class=\"data row3 col1\" >None</td>\n    </tr>\n    <tr>\n      <th id=\"T_77940_level0_row4\" class=\"row_heading level0 row4\" >4</th>\n      <td id=\"T_77940_row4_col0\" class=\"data row4 col0\" >Original Data</td>\n      <td id=\"T_77940_row4_col1\" class=\"data row4 col1\" >(14758, 5)</td>\n    </tr>\n    <tr>\n      <th id=\"T_77940_level0_row5\" class=\"row_heading level0 row5\" >5</th>\n      <td id=\"T_77940_row5_col0\" class=\"data row5 col0\" >Missing Values</td>\n      <td id=\"T_77940_row5_col1\" class=\"data row5 col1\" >False</td>\n    </tr>\n    <tr>\n      <th id=\"T_77940_level0_row6\" class=\"row_heading level0 row6\" >6</th>\n      <td id=\"T_77940_row6_col0\" class=\"data row6 col0\" >Numeric Features</td>\n      <td id=\"T_77940_row6_col1\" class=\"data row6 col1\" >0</td>\n    </tr>\n    <tr>\n      <th id=\"T_77940_level0_row7\" class=\"row_heading level0 row7\" >7</th>\n      <td id=\"T_77940_row7_col0\" class=\"data row7 col0\" >Categorical Features</td>\n      <td id=\"T_77940_row7_col1\" class=\"data row7 col1\" >4</td>\n    </tr>\n    <tr>\n      <th id=\"T_77940_level0_row8\" class=\"row_heading level0 row8\" >8</th>\n      <td id=\"T_77940_row8_col0\" class=\"data row8 col0\" >Ordinal Features</td>\n      <td id=\"T_77940_row8_col1\" class=\"data row8 col1\" >False</td>\n    </tr>\n    <tr>\n      <th id=\"T_77940_level0_row9\" class=\"row_heading level0 row9\" >9</th>\n      <td id=\"T_77940_row9_col0\" class=\"data row9 col0\" >High Cardinality Features</td>\n      <td id=\"T_77940_row9_col1\" class=\"data row9 col1\" >False</td>\n    </tr>\n    <tr>\n      <th id=\"T_77940_level0_row10\" class=\"row_heading level0 row10\" >10</th>\n      <td id=\"T_77940_row10_col0\" class=\"data row10 col0\" >High Cardinality Method</td>\n      <td id=\"T_77940_row10_col1\" class=\"data row10 col1\" >None</td>\n    </tr>\n    <tr>\n      <th id=\"T_77940_level0_row11\" class=\"row_heading level0 row11\" >11</th>\n      <td id=\"T_77940_row11_col0\" class=\"data row11 col0\" >Transformed Train Set</td>\n      <td id=\"T_77940_row11_col1\" class=\"data row11 col1\" >(10330, 8461)</td>\n    </tr>\n    <tr>\n      <th id=\"T_77940_level0_row12\" class=\"row_heading level0 row12\" >12</th>\n      <td id=\"T_77940_row12_col0\" class=\"data row12 col0\" >Transformed Test Set</td>\n      <td id=\"T_77940_row12_col1\" class=\"data row12 col1\" >(4428, 8461)</td>\n    </tr>\n    <tr>\n      <th id=\"T_77940_level0_row13\" class=\"row_heading level0 row13\" >13</th>\n      <td id=\"T_77940_row13_col0\" class=\"data row13 col0\" >Shuffle Train-Test</td>\n      <td id=\"T_77940_row13_col1\" class=\"data row13 col1\" >True</td>\n    </tr>\n    <tr>\n      <th id=\"T_77940_level0_row14\" class=\"row_heading level0 row14\" >14</th>\n      <td id=\"T_77940_row14_col0\" class=\"data row14 col0\" >Stratify Train-Test</td>\n      <td id=\"T_77940_row14_col1\" class=\"data row14 col1\" >False</td>\n    </tr>\n    <tr>\n      <th id=\"T_77940_level0_row15\" class=\"row_heading level0 row15\" >15</th>\n      <td id=\"T_77940_row15_col0\" class=\"data row15 col0\" >Fold Generator</td>\n      <td id=\"T_77940_row15_col1\" class=\"data row15 col1\" >StratifiedKFold</td>\n    </tr>\n    <tr>\n      <th id=\"T_77940_level0_row16\" class=\"row_heading level0 row16\" >16</th>\n      <td id=\"T_77940_row16_col0\" class=\"data row16 col0\" >Fold Number</td>\n      <td id=\"T_77940_row16_col1\" class=\"data row16 col1\" >10</td>\n    </tr>\n    <tr>\n      <th id=\"T_77940_level0_row17\" class=\"row_heading level0 row17\" >17</th>\n      <td id=\"T_77940_row17_col0\" class=\"data row17 col0\" >CPU Jobs</td>\n      <td id=\"T_77940_row17_col1\" class=\"data row17 col1\" >-1</td>\n    </tr>\n    <tr>\n      <th id=\"T_77940_level0_row18\" class=\"row_heading level0 row18\" >18</th>\n      <td id=\"T_77940_row18_col0\" class=\"data row18 col0\" >Use GPU</td>\n      <td id=\"T_77940_row18_col1\" class=\"data row18 col1\" >True</td>\n    </tr>\n    <tr>\n      <th id=\"T_77940_level0_row19\" class=\"row_heading level0 row19\" >19</th>\n      <td id=\"T_77940_row19_col0\" class=\"data row19 col0\" >Log Experiment</td>\n      <td id=\"T_77940_row19_col1\" class=\"data row19 col1\" >False</td>\n    </tr>\n    <tr>\n      <th id=\"T_77940_level0_row20\" class=\"row_heading level0 row20\" >20</th>\n      <td id=\"T_77940_row20_col0\" class=\"data row20 col0\" >Experiment Name</td>\n      <td id=\"T_77940_row20_col1\" class=\"data row20 col1\" >clf-default-name</td>\n    </tr>\n    <tr>\n      <th id=\"T_77940_level0_row21\" class=\"row_heading level0 row21\" >21</th>\n      <td id=\"T_77940_row21_col0\" class=\"data row21 col0\" >USI</td>\n      <td id=\"T_77940_row21_col1\" class=\"data row21 col1\" >5512</td>\n    </tr>\n    <tr>\n      <th id=\"T_77940_level0_row22\" class=\"row_heading level0 row22\" >22</th>\n      <td id=\"T_77940_row22_col0\" class=\"data row22 col0\" >Imputation Type</td>\n      <td id=\"T_77940_row22_col1\" class=\"data row22 col1\" >simple</td>\n    </tr>\n    <tr>\n      <th id=\"T_77940_level0_row23\" class=\"row_heading level0 row23\" >23</th>\n      <td id=\"T_77940_row23_col0\" class=\"data row23 col0\" >Iterative Imputation Iteration</td>\n      <td id=\"T_77940_row23_col1\" class=\"data row23 col1\" >None</td>\n    </tr>\n    <tr>\n      <th id=\"T_77940_level0_row24\" class=\"row_heading level0 row24\" >24</th>\n      <td id=\"T_77940_row24_col0\" class=\"data row24 col0\" >Numeric Imputer</td>\n      <td id=\"T_77940_row24_col1\" class=\"data row24 col1\" >mean</td>\n    </tr>\n    <tr>\n      <th id=\"T_77940_level0_row25\" class=\"row_heading level0 row25\" >25</th>\n      <td id=\"T_77940_row25_col0\" class=\"data row25 col0\" >Iterative Imputation Numeric Model</td>\n      <td id=\"T_77940_row25_col1\" class=\"data row25 col1\" >None</td>\n    </tr>\n    <tr>\n      <th id=\"T_77940_level0_row26\" class=\"row_heading level0 row26\" >26</th>\n      <td id=\"T_77940_row26_col0\" class=\"data row26 col0\" >Categorical Imputer</td>\n      <td id=\"T_77940_row26_col1\" class=\"data row26 col1\" >constant</td>\n    </tr>\n    <tr>\n      <th id=\"T_77940_level0_row27\" class=\"row_heading level0 row27\" >27</th>\n      <td id=\"T_77940_row27_col0\" class=\"data row27 col0\" >Iterative Imputation Categorical Model</td>\n      <td id=\"T_77940_row27_col1\" class=\"data row27 col1\" >None</td>\n    </tr>\n    <tr>\n      <th id=\"T_77940_level0_row28\" class=\"row_heading level0 row28\" >28</th>\n      <td id=\"T_77940_row28_col0\" class=\"data row28 col0\" >Unknown Categoricals Handling</td>\n      <td id=\"T_77940_row28_col1\" class=\"data row28 col1\" >least_frequent</td>\n    </tr>\n    <tr>\n      <th id=\"T_77940_level0_row29\" class=\"row_heading level0 row29\" >29</th>\n      <td id=\"T_77940_row29_col0\" class=\"data row29 col0\" >Normalize</td>\n      <td id=\"T_77940_row29_col1\" class=\"data row29 col1\" >False</td>\n    </tr>\n    <tr>\n      <th id=\"T_77940_level0_row30\" class=\"row_heading level0 row30\" >30</th>\n      <td id=\"T_77940_row30_col0\" class=\"data row30 col0\" >Normalize Method</td>\n      <td id=\"T_77940_row30_col1\" class=\"data row30 col1\" >None</td>\n    </tr>\n    <tr>\n      <th id=\"T_77940_level0_row31\" class=\"row_heading level0 row31\" >31</th>\n      <td id=\"T_77940_row31_col0\" class=\"data row31 col0\" >Transformation</td>\n      <td id=\"T_77940_row31_col1\" class=\"data row31 col1\" >False</td>\n    </tr>\n    <tr>\n      <th id=\"T_77940_level0_row32\" class=\"row_heading level0 row32\" >32</th>\n      <td id=\"T_77940_row32_col0\" class=\"data row32 col0\" >Transformation Method</td>\n      <td id=\"T_77940_row32_col1\" class=\"data row32 col1\" >None</td>\n    </tr>\n    <tr>\n      <th id=\"T_77940_level0_row33\" class=\"row_heading level0 row33\" >33</th>\n      <td id=\"T_77940_row33_col0\" class=\"data row33 col0\" >PCA</td>\n      <td id=\"T_77940_row33_col1\" class=\"data row33 col1\" >False</td>\n    </tr>\n    <tr>\n      <th id=\"T_77940_level0_row34\" class=\"row_heading level0 row34\" >34</th>\n      <td id=\"T_77940_row34_col0\" class=\"data row34 col0\" >PCA Method</td>\n      <td id=\"T_77940_row34_col1\" class=\"data row34 col1\" >None</td>\n    </tr>\n    <tr>\n      <th id=\"T_77940_level0_row35\" class=\"row_heading level0 row35\" >35</th>\n      <td id=\"T_77940_row35_col0\" class=\"data row35 col0\" >PCA Components</td>\n      <td id=\"T_77940_row35_col1\" class=\"data row35 col1\" >None</td>\n    </tr>\n    <tr>\n      <th id=\"T_77940_level0_row36\" class=\"row_heading level0 row36\" >36</th>\n      <td id=\"T_77940_row36_col0\" class=\"data row36 col0\" >Ignore Low Variance</td>\n      <td id=\"T_77940_row36_col1\" class=\"data row36 col1\" >False</td>\n    </tr>\n    <tr>\n      <th id=\"T_77940_level0_row37\" class=\"row_heading level0 row37\" >37</th>\n      <td id=\"T_77940_row37_col0\" class=\"data row37 col0\" >Combine Rare Levels</td>\n      <td id=\"T_77940_row37_col1\" class=\"data row37 col1\" >False</td>\n    </tr>\n    <tr>\n      <th id=\"T_77940_level0_row38\" class=\"row_heading level0 row38\" >38</th>\n      <td id=\"T_77940_row38_col0\" class=\"data row38 col0\" >Rare Level Threshold</td>\n      <td id=\"T_77940_row38_col1\" class=\"data row38 col1\" >None</td>\n    </tr>\n    <tr>\n      <th id=\"T_77940_level0_row39\" class=\"row_heading level0 row39\" >39</th>\n      <td id=\"T_77940_row39_col0\" class=\"data row39 col0\" >Numeric Binning</td>\n      <td id=\"T_77940_row39_col1\" class=\"data row39 col1\" >False</td>\n    </tr>\n    <tr>\n      <th id=\"T_77940_level0_row40\" class=\"row_heading level0 row40\" >40</th>\n      <td id=\"T_77940_row40_col0\" class=\"data row40 col0\" >Remove Outliers</td>\n      <td id=\"T_77940_row40_col1\" class=\"data row40 col1\" >False</td>\n    </tr>\n    <tr>\n      <th id=\"T_77940_level0_row41\" class=\"row_heading level0 row41\" >41</th>\n      <td id=\"T_77940_row41_col0\" class=\"data row41 col0\" >Outliers Threshold</td>\n      <td id=\"T_77940_row41_col1\" class=\"data row41 col1\" >None</td>\n    </tr>\n    <tr>\n      <th id=\"T_77940_level0_row42\" class=\"row_heading level0 row42\" >42</th>\n      <td id=\"T_77940_row42_col0\" class=\"data row42 col0\" >Remove Multicollinearity</td>\n      <td id=\"T_77940_row42_col1\" class=\"data row42 col1\" >False</td>\n    </tr>\n    <tr>\n      <th id=\"T_77940_level0_row43\" class=\"row_heading level0 row43\" >43</th>\n      <td id=\"T_77940_row43_col0\" class=\"data row43 col0\" >Multicollinearity Threshold</td>\n      <td id=\"T_77940_row43_col1\" class=\"data row43 col1\" >None</td>\n    </tr>\n    <tr>\n      <th id=\"T_77940_level0_row44\" class=\"row_heading level0 row44\" >44</th>\n      <td id=\"T_77940_row44_col0\" class=\"data row44 col0\" >Remove Perfect Collinearity</td>\n      <td id=\"T_77940_row44_col1\" class=\"data row44 col1\" >True</td>\n    </tr>\n    <tr>\n      <th id=\"T_77940_level0_row45\" class=\"row_heading level0 row45\" >45</th>\n      <td id=\"T_77940_row45_col0\" class=\"data row45 col0\" >Clustering</td>\n      <td id=\"T_77940_row45_col1\" class=\"data row45 col1\" >False</td>\n    </tr>\n    <tr>\n      <th id=\"T_77940_level0_row46\" class=\"row_heading level0 row46\" >46</th>\n      <td id=\"T_77940_row46_col0\" class=\"data row46 col0\" >Clustering Iteration</td>\n      <td id=\"T_77940_row46_col1\" class=\"data row46 col1\" >None</td>\n    </tr>\n    <tr>\n      <th id=\"T_77940_level0_row47\" class=\"row_heading level0 row47\" >47</th>\n      <td id=\"T_77940_row47_col0\" class=\"data row47 col0\" >Polynomial Features</td>\n      <td id=\"T_77940_row47_col1\" class=\"data row47 col1\" >False</td>\n    </tr>\n    <tr>\n      <th id=\"T_77940_level0_row48\" class=\"row_heading level0 row48\" >48</th>\n      <td id=\"T_77940_row48_col0\" class=\"data row48 col0\" >Polynomial Degree</td>\n      <td id=\"T_77940_row48_col1\" class=\"data row48 col1\" >None</td>\n    </tr>\n    <tr>\n      <th id=\"T_77940_level0_row49\" class=\"row_heading level0 row49\" >49</th>\n      <td id=\"T_77940_row49_col0\" class=\"data row49 col0\" >Trignometry Features</td>\n      <td id=\"T_77940_row49_col1\" class=\"data row49 col1\" >False</td>\n    </tr>\n    <tr>\n      <th id=\"T_77940_level0_row50\" class=\"row_heading level0 row50\" >50</th>\n      <td id=\"T_77940_row50_col0\" class=\"data row50 col0\" >Polynomial Threshold</td>\n      <td id=\"T_77940_row50_col1\" class=\"data row50 col1\" >None</td>\n    </tr>\n    <tr>\n      <th id=\"T_77940_level0_row51\" class=\"row_heading level0 row51\" >51</th>\n      <td id=\"T_77940_row51_col0\" class=\"data row51 col0\" >Group Features</td>\n      <td id=\"T_77940_row51_col1\" class=\"data row51 col1\" >False</td>\n    </tr>\n    <tr>\n      <th id=\"T_77940_level0_row52\" class=\"row_heading level0 row52\" >52</th>\n      <td id=\"T_77940_row52_col0\" class=\"data row52 col0\" >Feature Selection</td>\n      <td id=\"T_77940_row52_col1\" class=\"data row52 col1\" >False</td>\n    </tr>\n    <tr>\n      <th id=\"T_77940_level0_row53\" class=\"row_heading level0 row53\" >53</th>\n      <td id=\"T_77940_row53_col0\" class=\"data row53 col0\" >Feature Selection Method</td>\n      <td id=\"T_77940_row53_col1\" class=\"data row53 col1\" >classic</td>\n    </tr>\n    <tr>\n      <th id=\"T_77940_level0_row54\" class=\"row_heading level0 row54\" >54</th>\n      <td id=\"T_77940_row54_col0\" class=\"data row54 col0\" >Features Selection Threshold</td>\n      <td id=\"T_77940_row54_col1\" class=\"data row54 col1\" >None</td>\n    </tr>\n    <tr>\n      <th id=\"T_77940_level0_row55\" class=\"row_heading level0 row55\" >55</th>\n      <td id=\"T_77940_row55_col0\" class=\"data row55 col0\" >Feature Interaction</td>\n      <td id=\"T_77940_row55_col1\" class=\"data row55 col1\" >False</td>\n    </tr>\n    <tr>\n      <th id=\"T_77940_level0_row56\" class=\"row_heading level0 row56\" >56</th>\n      <td id=\"T_77940_row56_col0\" class=\"data row56 col0\" >Feature Ratio</td>\n      <td id=\"T_77940_row56_col1\" class=\"data row56 col1\" >False</td>\n    </tr>\n    <tr>\n      <th id=\"T_77940_level0_row57\" class=\"row_heading level0 row57\" >57</th>\n      <td id=\"T_77940_row57_col0\" class=\"data row57 col0\" >Interaction Threshold</td>\n      <td id=\"T_77940_row57_col1\" class=\"data row57 col1\" >None</td>\n    </tr>\n    <tr>\n      <th id=\"T_77940_level0_row58\" class=\"row_heading level0 row58\" >58</th>\n      <td id=\"T_77940_row58_col0\" class=\"data row58 col0\" >Fix Imbalance</td>\n      <td id=\"T_77940_row58_col1\" class=\"data row58 col1\" >False</td>\n    </tr>\n    <tr>\n      <th id=\"T_77940_level0_row59\" class=\"row_heading level0 row59\" >59</th>\n      <td id=\"T_77940_row59_col0\" class=\"data row59 col0\" >Fix Imbalance Method</td>\n      <td id=\"T_77940_row59_col1\" class=\"data row59 col1\" >SMOTE</td>\n    </tr>\n  </tbody>\n</table>\n"
     },
     "metadata": {},
     "output_type": "display_data"
    }
   ]
  },
  {
   "cell_type": "markdown",
   "source": [
    "BEST 5 출력"
   ],
   "metadata": {
    "id": "I_s6tBO6Ijw3"
   }
  },
  {
   "cell_type": "code",
   "execution_count": null,
   "outputs": [
    {
     "data": {
      "text/plain": "<pandas.io.formats.style.Styler at 0x1bd151ab430>",
      "text/html": "<style type=\"text/css\">\n#T_d16ca th {\n  text-align: left;\n}\n#T_d16ca_row0_col0, #T_d16ca_row0_col2, #T_d16ca_row0_col4, #T_d16ca_row1_col0, #T_d16ca_row1_col1, #T_d16ca_row1_col2, #T_d16ca_row1_col3, #T_d16ca_row1_col4, #T_d16ca_row1_col5, #T_d16ca_row1_col6, #T_d16ca_row1_col7, #T_d16ca_row2_col0, #T_d16ca_row2_col1, #T_d16ca_row2_col2, #T_d16ca_row2_col3, #T_d16ca_row2_col5, #T_d16ca_row2_col6, #T_d16ca_row2_col7, #T_d16ca_row3_col0, #T_d16ca_row3_col1, #T_d16ca_row3_col3, #T_d16ca_row3_col4, #T_d16ca_row3_col5, #T_d16ca_row3_col6, #T_d16ca_row3_col7, #T_d16ca_row4_col0, #T_d16ca_row4_col1, #T_d16ca_row4_col2, #T_d16ca_row4_col3, #T_d16ca_row4_col4, #T_d16ca_row4_col5, #T_d16ca_row4_col6, #T_d16ca_row4_col7, #T_d16ca_row5_col0, #T_d16ca_row5_col1, #T_d16ca_row5_col2, #T_d16ca_row5_col3, #T_d16ca_row5_col4, #T_d16ca_row5_col5, #T_d16ca_row5_col6, #T_d16ca_row5_col7, #T_d16ca_row6_col0, #T_d16ca_row6_col1, #T_d16ca_row6_col2, #T_d16ca_row6_col3, #T_d16ca_row6_col4, #T_d16ca_row6_col5, #T_d16ca_row6_col6, #T_d16ca_row6_col7, #T_d16ca_row7_col0, #T_d16ca_row7_col1, #T_d16ca_row7_col2, #T_d16ca_row7_col3, #T_d16ca_row7_col4, #T_d16ca_row7_col5, #T_d16ca_row7_col6, #T_d16ca_row7_col7, #T_d16ca_row8_col0, #T_d16ca_row8_col1, #T_d16ca_row8_col2, #T_d16ca_row8_col3, #T_d16ca_row8_col4, #T_d16ca_row8_col5, #T_d16ca_row8_col6, #T_d16ca_row8_col7, #T_d16ca_row9_col0, #T_d16ca_row9_col1, #T_d16ca_row9_col2, #T_d16ca_row9_col3, #T_d16ca_row9_col4, #T_d16ca_row9_col5, #T_d16ca_row9_col6, #T_d16ca_row9_col7, #T_d16ca_row10_col0, #T_d16ca_row10_col1, #T_d16ca_row10_col2, #T_d16ca_row10_col3, #T_d16ca_row10_col4, #T_d16ca_row10_col5, #T_d16ca_row10_col6, #T_d16ca_row10_col7, #T_d16ca_row11_col0, #T_d16ca_row11_col1, #T_d16ca_row11_col2, #T_d16ca_row11_col3, #T_d16ca_row11_col4, #T_d16ca_row11_col5, #T_d16ca_row11_col6, #T_d16ca_row11_col7, #T_d16ca_row12_col0, #T_d16ca_row12_col1, #T_d16ca_row12_col2, #T_d16ca_row12_col3, #T_d16ca_row12_col4, #T_d16ca_row12_col5, #T_d16ca_row12_col6, #T_d16ca_row12_col7, #T_d16ca_row13_col0, #T_d16ca_row13_col1, #T_d16ca_row13_col2, #T_d16ca_row13_col3, #T_d16ca_row13_col4, #T_d16ca_row13_col5, #T_d16ca_row13_col6, #T_d16ca_row13_col7 {\n  text-align: left;\n}\n#T_d16ca_row0_col1, #T_d16ca_row0_col3, #T_d16ca_row0_col5, #T_d16ca_row0_col6, #T_d16ca_row0_col7, #T_d16ca_row2_col4, #T_d16ca_row3_col2 {\n  text-align: left;\n  background-color: yellow;\n}\n#T_d16ca_row0_col8, #T_d16ca_row1_col8, #T_d16ca_row2_col8, #T_d16ca_row3_col8, #T_d16ca_row4_col8, #T_d16ca_row5_col8, #T_d16ca_row6_col8, #T_d16ca_row7_col8, #T_d16ca_row8_col8, #T_d16ca_row9_col8, #T_d16ca_row10_col8, #T_d16ca_row12_col8, #T_d16ca_row13_col8 {\n  text-align: left;\n  background-color: lightgrey;\n}\n#T_d16ca_row11_col8 {\n  text-align: left;\n  background-color: yellow;\n  background-color: lightgrey;\n}\n</style>\n<table id=\"T_d16ca\">\n  <thead>\n    <tr>\n      <th class=\"blank level0\" >&nbsp;</th>\n      <th id=\"T_d16ca_level0_col0\" class=\"col_heading level0 col0\" >Model</th>\n      <th id=\"T_d16ca_level0_col1\" class=\"col_heading level0 col1\" >Accuracy</th>\n      <th id=\"T_d16ca_level0_col2\" class=\"col_heading level0 col2\" >AUC</th>\n      <th id=\"T_d16ca_level0_col3\" class=\"col_heading level0 col3\" >Recall</th>\n      <th id=\"T_d16ca_level0_col4\" class=\"col_heading level0 col4\" >Prec.</th>\n      <th id=\"T_d16ca_level0_col5\" class=\"col_heading level0 col5\" >F1</th>\n      <th id=\"T_d16ca_level0_col6\" class=\"col_heading level0 col6\" >Kappa</th>\n      <th id=\"T_d16ca_level0_col7\" class=\"col_heading level0 col7\" >MCC</th>\n      <th id=\"T_d16ca_level0_col8\" class=\"col_heading level0 col8\" >TT (Sec)</th>\n    </tr>\n  </thead>\n  <tbody>\n    <tr>\n      <th id=\"T_d16ca_level0_row0\" class=\"row_heading level0 row0\" >ridge</th>\n      <td id=\"T_d16ca_row0_col0\" class=\"data row0 col0\" >Ridge Classifier</td>\n      <td id=\"T_d16ca_row0_col1\" class=\"data row0 col1\" >0.7872</td>\n      <td id=\"T_d16ca_row0_col2\" class=\"data row0 col2\" >0.0000</td>\n      <td id=\"T_d16ca_row0_col3\" class=\"data row0 col3\" >0.6937</td>\n      <td id=\"T_d16ca_row0_col4\" class=\"data row0 col4\" >0.8000</td>\n      <td id=\"T_d16ca_row0_col5\" class=\"data row0 col5\" >0.7845</td>\n      <td id=\"T_d16ca_row0_col6\" class=\"data row0 col6\" >0.7695</td>\n      <td id=\"T_d16ca_row0_col7\" class=\"data row0 col7\" >0.7711</td>\n      <td id=\"T_d16ca_row0_col8\" class=\"data row0 col8\" >4.5280</td>\n    </tr>\n    <tr>\n      <th id=\"T_d16ca_level0_row1\" class=\"row_heading level0 row1\" >svm</th>\n      <td id=\"T_d16ca_row1_col0\" class=\"data row1 col0\" >SVM - Linear Kernel</td>\n      <td id=\"T_d16ca_row1_col1\" class=\"data row1 col1\" >0.7805</td>\n      <td id=\"T_d16ca_row1_col2\" class=\"data row1 col2\" >0.0000</td>\n      <td id=\"T_d16ca_row1_col3\" class=\"data row1 col3\" >0.6801</td>\n      <td id=\"T_d16ca_row1_col4\" class=\"data row1 col4\" >0.7942</td>\n      <td id=\"T_d16ca_row1_col5\" class=\"data row1 col5\" >0.7776</td>\n      <td id=\"T_d16ca_row1_col6\" class=\"data row1 col6\" >0.7629</td>\n      <td id=\"T_d16ca_row1_col7\" class=\"data row1 col7\" >0.7639</td>\n      <td id=\"T_d16ca_row1_col8\" class=\"data row1 col8\" >13.4200</td>\n    </tr>\n    <tr>\n      <th id=\"T_d16ca_level0_row2\" class=\"row_heading level0 row2\" >gbc</th>\n      <td id=\"T_d16ca_row2_col0\" class=\"data row2 col0\" >Gradient Boosting Classifier</td>\n      <td id=\"T_d16ca_row2_col1\" class=\"data row2 col1\" >0.6787</td>\n      <td id=\"T_d16ca_row2_col2\" class=\"data row2 col2\" >0.5494</td>\n      <td id=\"T_d16ca_row2_col3\" class=\"data row2 col3\" >0.6068</td>\n      <td id=\"T_d16ca_row2_col4\" class=\"data row2 col4\" >0.8019</td>\n      <td id=\"T_d16ca_row2_col5\" class=\"data row2 col5\" >0.6934</td>\n      <td id=\"T_d16ca_row2_col6\" class=\"data row2 col6\" >0.6411</td>\n      <td id=\"T_d16ca_row2_col7\" class=\"data row2 col7\" >0.6666</td>\n      <td id=\"T_d16ca_row2_col8\" class=\"data row2 col8\" >4154.3200</td>\n    </tr>\n    <tr>\n      <th id=\"T_d16ca_level0_row3\" class=\"row_heading level0 row3\" >lr</th>\n      <td id=\"T_d16ca_row3_col0\" class=\"data row3 col0\" >Logistic Regression</td>\n      <td id=\"T_d16ca_row3_col1\" class=\"data row3 col1\" >0.6624</td>\n      <td id=\"T_d16ca_row3_col2\" class=\"data row3 col2\" >0.5678</td>\n      <td id=\"T_d16ca_row3_col3\" class=\"data row3 col3\" >0.4697</td>\n      <td id=\"T_d16ca_row3_col4\" class=\"data row3 col4\" >0.7283</td>\n      <td id=\"T_d16ca_row3_col5\" class=\"data row3 col5\" >0.6536</td>\n      <td id=\"T_d16ca_row3_col6\" class=\"data row3 col6\" >0.6259</td>\n      <td id=\"T_d16ca_row3_col7\" class=\"data row3 col7\" >0.6374</td>\n      <td id=\"T_d16ca_row3_col8\" class=\"data row3 col8\" >34.8140</td>\n    </tr>\n    <tr>\n      <th id=\"T_d16ca_level0_row4\" class=\"row_heading level0 row4\" >et</th>\n      <td id=\"T_d16ca_row4_col0\" class=\"data row4 col0\" >Extra Trees Classifier</td>\n      <td id=\"T_d16ca_row4_col1\" class=\"data row4 col1\" >0.6543</td>\n      <td id=\"T_d16ca_row4_col2\" class=\"data row4 col2\" >0.5396</td>\n      <td id=\"T_d16ca_row4_col3\" class=\"data row4 col3\" >0.5738</td>\n      <td id=\"T_d16ca_row4_col4\" class=\"data row4 col4\" >0.6672</td>\n      <td id=\"T_d16ca_row4_col5\" class=\"data row4 col5\" >0.6524</td>\n      <td id=\"T_d16ca_row4_col6\" class=\"data row4 col6\" >0.6268</td>\n      <td id=\"T_d16ca_row4_col7\" class=\"data row4 col7\" >0.6276</td>\n      <td id=\"T_d16ca_row4_col8\" class=\"data row4 col8\" >18.5800</td>\n    </tr>\n    <tr>\n      <th id=\"T_d16ca_level0_row5\" class=\"row_heading level0 row5\" >rf</th>\n      <td id=\"T_d16ca_row5_col0\" class=\"data row5 col0\" >Random Forest Classifier</td>\n      <td id=\"T_d16ca_row5_col1\" class=\"data row5 col1\" >0.6507</td>\n      <td id=\"T_d16ca_row5_col2\" class=\"data row5 col2\" >0.5437</td>\n      <td id=\"T_d16ca_row5_col3\" class=\"data row5 col3\" >0.5648</td>\n      <td id=\"T_d16ca_row5_col4\" class=\"data row5 col4\" >0.6695</td>\n      <td id=\"T_d16ca_row5_col5\" class=\"data row5 col5\" >0.6483</td>\n      <td id=\"T_d16ca_row5_col6\" class=\"data row5 col6\" >0.6219</td>\n      <td id=\"T_d16ca_row5_col7\" class=\"data row5 col7\" >0.6231</td>\n      <td id=\"T_d16ca_row5_col8\" class=\"data row5 col8\" >13.3940</td>\n    </tr>\n    <tr>\n      <th id=\"T_d16ca_level0_row6\" class=\"row_heading level0 row6\" >nb</th>\n      <td id=\"T_d16ca_row6_col0\" class=\"data row6 col0\" >Naive Bayes</td>\n      <td id=\"T_d16ca_row6_col1\" class=\"data row6 col1\" >0.6455</td>\n      <td id=\"T_d16ca_row6_col2\" class=\"data row6 col2\" >0.4968</td>\n      <td id=\"T_d16ca_row6_col3\" class=\"data row6 col3\" >0.6426</td>\n      <td id=\"T_d16ca_row6_col4\" class=\"data row6 col4\" >0.7285</td>\n      <td id=\"T_d16ca_row6_col5\" class=\"data row6 col5\" >0.6697</td>\n      <td id=\"T_d16ca_row6_col6\" class=\"data row6 col6\" >0.6260</td>\n      <td id=\"T_d16ca_row6_col7\" class=\"data row6 col7\" >0.6277</td>\n      <td id=\"T_d16ca_row6_col8\" class=\"data row6 col8\" >17.4220</td>\n    </tr>\n    <tr>\n      <th id=\"T_d16ca_level0_row7\" class=\"row_heading level0 row7\" >dt</th>\n      <td id=\"T_d16ca_row7_col0\" class=\"data row7 col0\" >Decision Tree Classifier</td>\n      <td id=\"T_d16ca_row7_col1\" class=\"data row7 col1\" >0.6311</td>\n      <td id=\"T_d16ca_row7_col2\" class=\"data row7 col2\" >0.4807</td>\n      <td id=\"T_d16ca_row7_col3\" class=\"data row7 col3\" >0.5465</td>\n      <td id=\"T_d16ca_row7_col4\" class=\"data row7 col4\" >0.6571</td>\n      <td id=\"T_d16ca_row7_col5\" class=\"data row7 col5\" >0.6317</td>\n      <td id=\"T_d16ca_row7_col6\" class=\"data row7 col6\" >0.6005</td>\n      <td id=\"T_d16ca_row7_col7\" class=\"data row7 col7\" >0.6020</td>\n      <td id=\"T_d16ca_row7_col8\" class=\"data row7 col8\" >22.8060</td>\n    </tr>\n    <tr>\n      <th id=\"T_d16ca_level0_row8\" class=\"row_heading level0 row8\" >lda</th>\n      <td id=\"T_d16ca_row8_col0\" class=\"data row8 col0\" >Linear Discriminant Analysis</td>\n      <td id=\"T_d16ca_row8_col1\" class=\"data row8 col1\" >0.4780</td>\n      <td id=\"T_d16ca_row8_col2\" class=\"data row8 col2\" >0.4920</td>\n      <td id=\"T_d16ca_row8_col3\" class=\"data row8 col3\" >0.4438</td>\n      <td id=\"T_d16ca_row8_col4\" class=\"data row8 col4\" >0.6209</td>\n      <td id=\"T_d16ca_row8_col5\" class=\"data row8 col5\" >0.5219</td>\n      <td id=\"T_d16ca_row8_col6\" class=\"data row8 col6\" >0.4614</td>\n      <td id=\"T_d16ca_row8_col7\" class=\"data row8 col7\" >0.4647</td>\n      <td id=\"T_d16ca_row8_col8\" class=\"data row8 col8\" >181.2280</td>\n    </tr>\n    <tr>\n      <th id=\"T_d16ca_level0_row9\" class=\"row_heading level0 row9\" >knn</th>\n      <td id=\"T_d16ca_row9_col0\" class=\"data row9 col0\" >K Neighbors Classifier</td>\n      <td id=\"T_d16ca_row9_col1\" class=\"data row9 col1\" >0.4227</td>\n      <td id=\"T_d16ca_row9_col2\" class=\"data row9 col2\" >0.4802</td>\n      <td id=\"T_d16ca_row9_col3\" class=\"data row9 col3\" >0.3720</td>\n      <td id=\"T_d16ca_row9_col4\" class=\"data row9 col4\" >0.5319</td>\n      <td id=\"T_d16ca_row9_col5\" class=\"data row9 col5\" >0.4438</td>\n      <td id=\"T_d16ca_row9_col6\" class=\"data row9 col6\" >0.3834</td>\n      <td id=\"T_d16ca_row9_col7\" class=\"data row9 col7\" >0.3857</td>\n      <td id=\"T_d16ca_row9_col8\" class=\"data row9 col8\" >94.4900</td>\n    </tr>\n    <tr>\n      <th id=\"T_d16ca_level0_row10\" class=\"row_heading level0 row10\" >ada</th>\n      <td id=\"T_d16ca_row10_col0\" class=\"data row10 col0\" >Ada Boost Classifier</td>\n      <td id=\"T_d16ca_row10_col1\" class=\"data row10 col1\" >0.2193</td>\n      <td id=\"T_d16ca_row10_col2\" class=\"data row10 col2\" >0.3207</td>\n      <td id=\"T_d16ca_row10_col3\" class=\"data row10 col3\" >0.0466</td>\n      <td id=\"T_d16ca_row10_col4\" class=\"data row10 col4\" >0.1562</td>\n      <td id=\"T_d16ca_row10_col5\" class=\"data row10 col5\" >0.1036</td>\n      <td id=\"T_d16ca_row10_col6\" class=\"data row10 col6\" >0.0397</td>\n      <td id=\"T_d16ca_row10_col7\" class=\"data row10 col7\" >0.1258</td>\n      <td id=\"T_d16ca_row10_col8\" class=\"data row10 col8\" >19.4380</td>\n    </tr>\n    <tr>\n      <th id=\"T_d16ca_level0_row11\" class=\"row_heading level0 row11\" >dummy</th>\n      <td id=\"T_d16ca_row11_col0\" class=\"data row11 col0\" >Dummy Classifier</td>\n      <td id=\"T_d16ca_row11_col1\" class=\"data row11 col1\" >0.1921</td>\n      <td id=\"T_d16ca_row11_col2\" class=\"data row11 col2\" >0.3000</td>\n      <td id=\"T_d16ca_row11_col3\" class=\"data row11 col3\" >0.0165</td>\n      <td id=\"T_d16ca_row11_col4\" class=\"data row11 col4\" >0.0369</td>\n      <td id=\"T_d16ca_row11_col5\" class=\"data row11 col5\" >0.0619</td>\n      <td id=\"T_d16ca_row11_col6\" class=\"data row11 col6\" >0.0000</td>\n      <td id=\"T_d16ca_row11_col7\" class=\"data row11 col7\" >0.0000</td>\n      <td id=\"T_d16ca_row11_col8\" class=\"data row11 col8\" >0.1980</td>\n    </tr>\n    <tr>\n      <th id=\"T_d16ca_level0_row12\" class=\"row_heading level0 row12\" >lightgbm</th>\n      <td id=\"T_d16ca_row12_col0\" class=\"data row12 col0\" >Light Gradient Boosting Machine</td>\n      <td id=\"T_d16ca_row12_col1\" class=\"data row12 col1\" >0.1766</td>\n      <td id=\"T_d16ca_row12_col2\" class=\"data row12 col2\" >0.3643</td>\n      <td id=\"T_d16ca_row12_col3\" class=\"data row12 col3\" >0.0794</td>\n      <td id=\"T_d16ca_row12_col4\" class=\"data row12 col4\" >0.1672</td>\n      <td id=\"T_d16ca_row12_col5\" class=\"data row12 col5\" >0.1367</td>\n      <td id=\"T_d16ca_row12_col6\" class=\"data row12 col6\" >0.1023</td>\n      <td id=\"T_d16ca_row12_col7\" class=\"data row12 col7\" >0.1144</td>\n      <td id=\"T_d16ca_row12_col8\" class=\"data row12 col8\" >14.7220</td>\n    </tr>\n    <tr>\n      <th id=\"T_d16ca_level0_row13\" class=\"row_heading level0 row13\" >qda</th>\n      <td id=\"T_d16ca_row13_col0\" class=\"data row13 col0\" >Quadratic Discriminant Analysis</td>\n      <td id=\"T_d16ca_row13_col1\" class=\"data row13 col1\" >0.0015</td>\n      <td id=\"T_d16ca_row13_col2\" class=\"data row13 col2\" >0.0000</td>\n      <td id=\"T_d16ca_row13_col3\" class=\"data row13 col3\" >0.0165</td>\n      <td id=\"T_d16ca_row13_col4\" class=\"data row13 col4\" >0.0000</td>\n      <td id=\"T_d16ca_row13_col5\" class=\"data row13 col5\" >0.0000</td>\n      <td id=\"T_d16ca_row13_col6\" class=\"data row13 col6\" >0.0000</td>\n      <td id=\"T_d16ca_row13_col7\" class=\"data row13 col7\" >0.0000</td>\n      <td id=\"T_d16ca_row13_col8\" class=\"data row13 col8\" >17.3940</td>\n    </tr>\n  </tbody>\n</table>\n"
     },
     "metadata": {},
     "output_type": "display_data"
    },
    {
     "data": {
      "text/plain": "IntProgress(value=0, description='Processing: ', max=6)",
      "application/vnd.jupyter.widget-view+json": {
       "version_major": 2,
       "version_minor": 0,
       "model_id": "952e9e3cf1ba4aca99e2b58bf24c1323"
      }
     },
     "metadata": {},
     "output_type": "display_data"
    },
    {
     "data": {
      "text/plain": "                                                                    \n                                                                    \nInitiated  . . . . . . . . . . . . . . . . . .              04:12:45\nStatus     . . . . . . . . . . . . . . . . . .  Loading Dependencies\nEstimator  . . . . . . . . . . . . . . . . . .     Compiling Library",
      "text/html": "<div>\n<style scoped>\n    .dataframe tbody tr th:only-of-type {\n        vertical-align: middle;\n    }\n\n    .dataframe tbody tr th {\n        vertical-align: top;\n    }\n\n    .dataframe thead th {\n        text-align: right;\n    }\n</style>\n<table border=\"1\" class=\"dataframe\">\n  <thead>\n    <tr style=\"text-align: right;\">\n      <th></th>\n      <th></th>\n      <th></th>\n    </tr>\n    <tr>\n      <th></th>\n      <th></th>\n      <th></th>\n    </tr>\n  </thead>\n  <tbody>\n    <tr>\n      <th>Initiated</th>\n      <td>. . . . . . . . . . . . . . . . . .</td>\n      <td>04:12:45</td>\n    </tr>\n    <tr>\n      <th>Status</th>\n      <td>. . . . . . . . . . . . . . . . . .</td>\n      <td>Loading Dependencies</td>\n    </tr>\n    <tr>\n      <th>Estimator</th>\n      <td>. . . . . . . . . . . . . . . . . .</td>\n      <td>Compiling Library</td>\n    </tr>\n  </tbody>\n</table>\n</div>"
     },
     "metadata": {},
     "output_type": "display_data"
    },
    {
     "data": {
      "text/plain": "Empty DataFrame\nColumns: [Fold, Accuracy, AUC, Recall, Prec., F1, Kappa, MCC]\nIndex: []",
      "text/html": "<div>\n<style scoped>\n    .dataframe tbody tr th:only-of-type {\n        vertical-align: middle;\n    }\n\n    .dataframe tbody tr th {\n        vertical-align: top;\n    }\n\n    .dataframe thead th {\n        text-align: right;\n    }\n</style>\n<table border=\"1\" class=\"dataframe\">\n  <thead>\n    <tr style=\"text-align: right;\">\n      <th></th>\n      <th>Fold</th>\n      <th>Accuracy</th>\n      <th>AUC</th>\n      <th>Recall</th>\n      <th>Prec.</th>\n      <th>F1</th>\n      <th>Kappa</th>\n      <th>MCC</th>\n    </tr>\n  </thead>\n  <tbody>\n  </tbody>\n</table>\n</div>"
     },
     "metadata": {},
     "output_type": "display_data"
    }
   ],
   "source": [
    "# top5 = compare_models(sort='Accuracy', n_select=10)\n",
    "# 점심시간 전에 model blending\n",
    "top5 = compare_models(sort='Accuracy', n_select=5, fold=5)\n",
    "blended_models = blend_models(top5, fold=5)\n",
    "finalized_models = finalize_model(blended_models)"
   ],
   "metadata": {
    "collapsed": false,
    "pycharm": {
     "is_executing": true
    }
   }
  },
  {
   "cell_type": "code",
   "execution_count": null,
   "outputs": [],
   "source": [
    "predictions_blend = predict_model(data=VAL, estimator=finalized_models)\n",
    "predictions_blend\n",
    "save_model(predictions_blend, './original_model3/blend')"
   ],
   "metadata": {
    "collapsed": false,
    "pycharm": {
     "is_executing": true
    }
   }
  },
  {
   "cell_type": "code",
   "execution_count": null,
   "outputs": [],
   "source": [
    "ridge1 = create_model('ridge')\n",
    "finalize_model(ridge1)\n",
    "save_model(ridge1, './original_model3/ridge1')\n",
    "prediction_ridge = predict_model(ridge1, VAL)\n",
    "prediction_ridge"
   ],
   "metadata": {
    "collapsed": false
   }
  },
  {
   "cell_type": "code",
   "execution_count": null,
   "outputs": [
    {
     "data": {
      "text/plain": "<pandas.io.formats.style.Styler at 0x2ab8b99cc70>",
      "text/html": "<style type=\"text/css\">\n#T_c000f_row10_col0, #T_c000f_row10_col1, #T_c000f_row10_col2, #T_c000f_row10_col3, #T_c000f_row10_col4, #T_c000f_row10_col5, #T_c000f_row10_col6 {\n  background: yellow;\n}\n</style>\n<table id=\"T_c000f\">\n  <thead>\n    <tr>\n      <th class=\"blank level0\" >&nbsp;</th>\n      <th id=\"T_c000f_level0_col0\" class=\"col_heading level0 col0\" >Accuracy</th>\n      <th id=\"T_c000f_level0_col1\" class=\"col_heading level0 col1\" >AUC</th>\n      <th id=\"T_c000f_level0_col2\" class=\"col_heading level0 col2\" >Recall</th>\n      <th id=\"T_c000f_level0_col3\" class=\"col_heading level0 col3\" >Prec.</th>\n      <th id=\"T_c000f_level0_col4\" class=\"col_heading level0 col4\" >F1</th>\n      <th id=\"T_c000f_level0_col5\" class=\"col_heading level0 col5\" >Kappa</th>\n      <th id=\"T_c000f_level0_col6\" class=\"col_heading level0 col6\" >MCC</th>\n    </tr>\n    <tr>\n      <th class=\"index_name level0\" >Fold</th>\n      <th class=\"blank col0\" >&nbsp;</th>\n      <th class=\"blank col1\" >&nbsp;</th>\n      <th class=\"blank col2\" >&nbsp;</th>\n      <th class=\"blank col3\" >&nbsp;</th>\n      <th class=\"blank col4\" >&nbsp;</th>\n      <th class=\"blank col5\" >&nbsp;</th>\n      <th class=\"blank col6\" >&nbsp;</th>\n    </tr>\n  </thead>\n  <tbody>\n    <tr>\n      <th id=\"T_c000f_level0_row0\" class=\"row_heading level0 row0\" >0</th>\n      <td id=\"T_c000f_row0_col0\" class=\"data row0 col0\" >0.6360</td>\n      <td id=\"T_c000f_row0_col1\" class=\"data row0 col1\" >0.0000</td>\n      <td id=\"T_c000f_row0_col2\" class=\"data row0 col2\" >0.5574</td>\n      <td id=\"T_c000f_row0_col3\" class=\"data row0 col3\" >0.6475</td>\n      <td id=\"T_c000f_row0_col4\" class=\"data row0 col4\" >0.6293</td>\n      <td id=\"T_c000f_row0_col5\" class=\"data row0 col5\" >0.6056</td>\n      <td id=\"T_c000f_row0_col6\" class=\"data row0 col6\" >0.6070</td>\n    </tr>\n    <tr>\n      <th id=\"T_c000f_level0_row1\" class=\"row_heading level0 row1\" >1</th>\n      <td id=\"T_c000f_row1_col0\" class=\"data row1 col0\" >0.6602</td>\n      <td id=\"T_c000f_row1_col1\" class=\"data row1 col1\" >0.0000</td>\n      <td id=\"T_c000f_row1_col2\" class=\"data row1 col2\" >0.6245</td>\n      <td id=\"T_c000f_row1_col3\" class=\"data row1 col3\" >0.6779</td>\n      <td id=\"T_c000f_row1_col4\" class=\"data row1 col4\" >0.6616</td>\n      <td id=\"T_c000f_row1_col5\" class=\"data row1 col5\" >0.6345</td>\n      <td id=\"T_c000f_row1_col6\" class=\"data row1 col6\" >0.6351</td>\n    </tr>\n    <tr>\n      <th id=\"T_c000f_level0_row2\" class=\"row_heading level0 row2\" >2</th>\n      <td id=\"T_c000f_row2_col0\" class=\"data row2 col0\" >0.6864</td>\n      <td id=\"T_c000f_row2_col1\" class=\"data row2 col1\" >0.0000</td>\n      <td id=\"T_c000f_row2_col2\" class=\"data row2 col2\" >0.6119</td>\n      <td id=\"T_c000f_row2_col3\" class=\"data row2 col3\" >0.7101</td>\n      <td id=\"T_c000f_row2_col4\" class=\"data row2 col4\" >0.6862</td>\n      <td id=\"T_c000f_row2_col5\" class=\"data row2 col5\" >0.6615</td>\n      <td id=\"T_c000f_row2_col6\" class=\"data row2 col6\" >0.6625</td>\n    </tr>\n    <tr>\n      <th id=\"T_c000f_level0_row3\" class=\"row_heading level0 row3\" >3</th>\n      <td id=\"T_c000f_row3_col0\" class=\"data row3 col0\" >0.6776</td>\n      <td id=\"T_c000f_row3_col1\" class=\"data row3 col1\" >0.0000</td>\n      <td id=\"T_c000f_row3_col2\" class=\"data row3 col2\" >0.6216</td>\n      <td id=\"T_c000f_row3_col3\" class=\"data row3 col3\" >0.7007</td>\n      <td id=\"T_c000f_row3_col4\" class=\"data row3 col4\" >0.6743</td>\n      <td id=\"T_c000f_row3_col5\" class=\"data row3 col5\" >0.6511</td>\n      <td id=\"T_c000f_row3_col6\" class=\"data row3 col6\" >0.6528</td>\n    </tr>\n    <tr>\n      <th id=\"T_c000f_level0_row4\" class=\"row_heading level0 row4\" >4</th>\n      <td id=\"T_c000f_row4_col0\" class=\"data row4 col0\" >0.6525</td>\n      <td id=\"T_c000f_row4_col1\" class=\"data row4 col1\" >0.0000</td>\n      <td id=\"T_c000f_row4_col2\" class=\"data row4 col2\" >0.5595</td>\n      <td id=\"T_c000f_row4_col3\" class=\"data row4 col3\" >0.6760</td>\n      <td id=\"T_c000f_row4_col4\" class=\"data row4 col4\" >0.6511</td>\n      <td id=\"T_c000f_row4_col5\" class=\"data row4 col5\" >0.6249</td>\n      <td id=\"T_c000f_row4_col6\" class=\"data row4 col6\" >0.6259</td>\n    </tr>\n    <tr>\n      <th id=\"T_c000f_level0_row5\" class=\"row_heading level0 row5\" >5</th>\n      <td id=\"T_c000f_row5_col0\" class=\"data row5 col0\" >0.6496</td>\n      <td id=\"T_c000f_row5_col1\" class=\"data row5 col1\" >0.9036</td>\n      <td id=\"T_c000f_row5_col2\" class=\"data row5 col2\" >0.5744</td>\n      <td id=\"T_c000f_row5_col3\" class=\"data row5 col3\" >0.6671</td>\n      <td id=\"T_c000f_row5_col4\" class=\"data row5 col4\" >0.6486</td>\n      <td id=\"T_c000f_row5_col5\" class=\"data row5 col5\" >0.6213</td>\n      <td id=\"T_c000f_row5_col6\" class=\"data row5 col6\" >0.6225</td>\n    </tr>\n    <tr>\n      <th id=\"T_c000f_level0_row6\" class=\"row_heading level0 row6\" >6</th>\n      <td id=\"T_c000f_row6_col0\" class=\"data row6 col0\" >0.6496</td>\n      <td id=\"T_c000f_row6_col1\" class=\"data row6 col1\" >0.9214</td>\n      <td id=\"T_c000f_row6_col2\" class=\"data row6 col2\" >0.5856</td>\n      <td id=\"T_c000f_row6_col3\" class=\"data row6 col3\" >0.6790</td>\n      <td id=\"T_c000f_row6_col4\" class=\"data row6 col4\" >0.6470</td>\n      <td id=\"T_c000f_row6_col5\" class=\"data row6 col5\" >0.6200</td>\n      <td id=\"T_c000f_row6_col6\" class=\"data row6 col6\" >0.6219</td>\n    </tr>\n    <tr>\n      <th id=\"T_c000f_level0_row7\" class=\"row_heading level0 row7\" >7</th>\n      <td id=\"T_c000f_row7_col0\" class=\"data row7 col0\" >0.6747</td>\n      <td id=\"T_c000f_row7_col1\" class=\"data row7 col1\" >0.9220</td>\n      <td id=\"T_c000f_row7_col2\" class=\"data row7 col2\" >0.6042</td>\n      <td id=\"T_c000f_row7_col3\" class=\"data row7 col3\" >0.6816</td>\n      <td id=\"T_c000f_row7_col4\" class=\"data row7 col4\" >0.6672</td>\n      <td id=\"T_c000f_row7_col5\" class=\"data row7 col5\" >0.6476</td>\n      <td id=\"T_c000f_row7_col6\" class=\"data row7 col6\" >0.6493</td>\n    </tr>\n    <tr>\n      <th id=\"T_c000f_level0_row8\" class=\"row_heading level0 row8\" >8</th>\n      <td id=\"T_c000f_row8_col0\" class=\"data row8 col0\" >0.6631</td>\n      <td id=\"T_c000f_row8_col1\" class=\"data row8 col1\" >0.9155</td>\n      <td id=\"T_c000f_row8_col2\" class=\"data row8 col2\" >0.5885</td>\n      <td id=\"T_c000f_row8_col3\" class=\"data row8 col3\" >0.6857</td>\n      <td id=\"T_c000f_row8_col4\" class=\"data row8 col4\" >0.6559</td>\n      <td id=\"T_c000f_row8_col5\" class=\"data row8 col5\" >0.6345</td>\n      <td id=\"T_c000f_row8_col6\" class=\"data row8 col6\" >0.6367</td>\n    </tr>\n    <tr>\n      <th id=\"T_c000f_level0_row9\" class=\"row_heading level0 row9\" >9</th>\n      <td id=\"T_c000f_row9_col0\" class=\"data row9 col0\" >0.6573</td>\n      <td id=\"T_c000f_row9_col1\" class=\"data row9 col1\" >0.9151</td>\n      <td id=\"T_c000f_row9_col2\" class=\"data row9 col2\" >0.5616</td>\n      <td id=\"T_c000f_row9_col3\" class=\"data row9 col3\" >0.6707</td>\n      <td id=\"T_c000f_row9_col4\" class=\"data row9 col4\" >0.6518</td>\n      <td id=\"T_c000f_row9_col5\" class=\"data row9 col5\" >0.6296</td>\n      <td id=\"T_c000f_row9_col6\" class=\"data row9 col6\" >0.6309</td>\n    </tr>\n    <tr>\n      <th id=\"T_c000f_level0_row10\" class=\"row_heading level0 row10\" >Mean</th>\n      <td id=\"T_c000f_row10_col0\" class=\"data row10 col0\" >0.6607</td>\n      <td id=\"T_c000f_row10_col1\" class=\"data row10 col1\" >0.4578</td>\n      <td id=\"T_c000f_row10_col2\" class=\"data row10 col2\" >0.5889</td>\n      <td id=\"T_c000f_row10_col3\" class=\"data row10 col3\" >0.6796</td>\n      <td id=\"T_c000f_row10_col4\" class=\"data row10 col4\" >0.6573</td>\n      <td id=\"T_c000f_row10_col5\" class=\"data row10 col5\" >0.6331</td>\n      <td id=\"T_c000f_row10_col6\" class=\"data row10 col6\" >0.6345</td>\n    </tr>\n    <tr>\n      <th id=\"T_c000f_level0_row11\" class=\"row_heading level0 row11\" >Std</th>\n      <td id=\"T_c000f_row11_col0\" class=\"data row11 col0\" >0.0144</td>\n      <td id=\"T_c000f_row11_col1\" class=\"data row11 col1\" >0.4578</td>\n      <td id=\"T_c000f_row11_col2\" class=\"data row11 col2\" >0.0243</td>\n      <td id=\"T_c000f_row11_col3\" class=\"data row11 col3\" >0.0164</td>\n      <td id=\"T_c000f_row11_col4\" class=\"data row11 col4\" >0.0151</td>\n      <td id=\"T_c000f_row11_col5\" class=\"data row11 col5\" >0.0158</td>\n      <td id=\"T_c000f_row11_col6\" class=\"data row11 col6\" >0.0158</td>\n    </tr>\n  </tbody>\n</table>\n"
     },
     "metadata": {},
     "output_type": "display_data"
    },
    {
     "data": {
      "text/plain": "IntProgress(value=0, description='Processing: ', max=7)",
      "application/vnd.jupyter.widget-view+json": {
       "version_major": 2,
       "version_minor": 0,
       "model_id": "0d1c990f4b824b00963332e6bdeba848"
      }
     },
     "metadata": {},
     "output_type": "display_data"
    },
    {
     "data": {
      "text/plain": "                                                                    \n                                                                    \nInitiated  . . . . . . . . . . . . . . . . . .              11:58:01\nStatus     . . . . . . . . . . . . . . . . . .  Loading Dependencies\nEstimator  . . . . . . . . . . . . . . . . . .     Compiling Library",
      "text/html": "<div>\n<style scoped>\n    .dataframe tbody tr th:only-of-type {\n        vertical-align: middle;\n    }\n\n    .dataframe tbody tr th {\n        vertical-align: top;\n    }\n\n    .dataframe thead th {\n        text-align: right;\n    }\n</style>\n<table border=\"1\" class=\"dataframe\">\n  <thead>\n    <tr style=\"text-align: right;\">\n      <th></th>\n      <th></th>\n      <th></th>\n    </tr>\n    <tr>\n      <th></th>\n      <th></th>\n      <th></th>\n    </tr>\n  </thead>\n  <tbody>\n    <tr>\n      <th>Initiated</th>\n      <td>. . . . . . . . . . . . . . . . . .</td>\n      <td>11:58:01</td>\n    </tr>\n    <tr>\n      <th>Status</th>\n      <td>. . . . . . . . . . . . . . . . . .</td>\n      <td>Loading Dependencies</td>\n    </tr>\n    <tr>\n      <th>Estimator</th>\n      <td>. . . . . . . . . . . . . . . . . .</td>\n      <td>Compiling Library</td>\n    </tr>\n  </tbody>\n</table>\n</div>"
     },
     "metadata": {},
     "output_type": "display_data"
    },
    {
     "data": {
      "text/plain": "Empty DataFrame\nColumns: [Fold, Accuracy, AUC, Recall, Prec., F1, Kappa, MCC]\nIndex: []",
      "text/html": "<div>\n<style scoped>\n    .dataframe tbody tr th:only-of-type {\n        vertical-align: middle;\n    }\n\n    .dataframe tbody tr th {\n        vertical-align: top;\n    }\n\n    .dataframe thead th {\n        text-align: right;\n    }\n</style>\n<table border=\"1\" class=\"dataframe\">\n  <thead>\n    <tr style=\"text-align: right;\">\n      <th></th>\n      <th>Fold</th>\n      <th>Accuracy</th>\n      <th>AUC</th>\n      <th>Recall</th>\n      <th>Prec.</th>\n      <th>F1</th>\n      <th>Kappa</th>\n      <th>MCC</th>\n    </tr>\n  </thead>\n  <tbody>\n  </tbody>\n</table>\n</div>"
     },
     "metadata": {},
     "output_type": "display_data"
    },
    {
     "name": "stdout",
     "output_type": "stream",
     "text": [
      "Fitting 10 folds for each of 10 candidates, totalling 100 fits\n"
     ]
    },
    {
     "name": "stderr",
     "output_type": "stream",
     "text": [
      "[Parallel(n_jobs=-1)]: Using backend LokyBackend with 8 concurrent workers.\n",
      "[Parallel(n_jobs=-1)]: Done  34 tasks      | elapsed:  4.1min\n"
     ]
    }
   ],
   "source": [
    "rf1 = create_model('rf')\n",
    "tuned_rf1 = tune_model(rf1)\n",
    "final_rf1 = finalize_model(tuned_rf1)\n",
    "save_model(rf1, './original_model3/rf1')\n",
    "prediction_rf = predict_model(rf1, VAL)\n",
    "prediction_rf"
   ],
   "metadata": {
    "collapsed": false,
    "pycharm": {
     "is_executing": true
    }
   }
  },
  {
   "cell_type": "code",
   "execution_count": null,
   "outputs": [],
   "source": [
    "# 21%\n",
    "ada1 = create_model('ada')\n",
    "finalize_model(ada1)\n",
    "save_model(ada1, './original_model3/ada1')\n",
    "prediction_ada = predict_model(ada1, VAL)\n",
    "prediction_ada"
   ],
   "metadata": {
    "collapsed": false,
    "pycharm": {
     "is_executing": true
    }
   }
  }
 ]
}
