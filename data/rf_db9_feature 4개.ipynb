{
 "cells": [
  {
   "cell_type": "code",
   "execution_count": 1,
   "metadata": {
    "collapsed": true
   },
   "outputs": [
    {
     "name": "stderr",
     "output_type": "stream",
     "text": [
      "C:\\Users\\user\\miniconda3\\envs\\pycaret2\\lib\\site-packages\\numpy\\_distributor_init.py:30: UserWarning: loaded more than 1 DLL from .libs:\n",
      "C:\\Users\\user\\miniconda3\\envs\\pycaret2\\lib\\site-packages\\numpy\\.libs\\libopenblas.4SP5SUA7CBGXUEOC35YP2ASOICYYEQZZ.gfortran-win_amd64.dll\n",
      "C:\\Users\\user\\miniconda3\\envs\\pycaret2\\lib\\site-packages\\numpy\\.libs\\libopenblas.GK7GX5KEQ4F6UYO3P26ULGBQYHGQO7J4.gfortran-win_amd64.dll\n",
      "  warnings.warn(\"loaded more than 1 DLL from .libs:\"\n"
     ]
    },
    {
     "data": {
      "text/plain": "          id   cheongguseobeonho   no  \\\n0          1  ELS-BS-ESP-2004002   12   \n1          2  OCA-BS-ESP-2010004    5   \n2          3  MIR-BS-ESP-2011002  119   \n3          4  BLO-BS-ESP-2003002   16   \n4          5  DEO-BS-ESP-2105008   97   \n...      ...                 ...  ...   \n17315  21080  BLO-BS-ESP-2006006    1   \n17316  21081  BLO-BS-ESP-2004008    1   \n17317  21082  ELS-BS-ESP-1908002    2   \n17318  21083  BLO-BS-ESP-1906014    2   \n17319  21084  BLO-BS-ESP-1906014    3   \n\n                                                subject_  \\\n0                           NO.1 A/E C18 MAJOR O/H PARTS   \n1                   운전시간 대비 #2 AUX ENG TOP END O/H PARTS   \n2          운전시간 대비 #2 AUX ENG(CAT 3512C) MAJOR O/H PARTS   \n3                           #1 AUX ENG TOP END O/H PARTS   \n4                                        DEO-E-210512-01   \n...                                                  ...   \n17315  BLO-F-ENGINE-200515-03 BOAT DAVIT CYL 외, AIRCO...   \n17316  BLO-F-ENGINE-200403-01 (NAVI DECK CRANE DERRIN...   \n17317                                ELS-F-ENG-190628-02   \n17318            BLO-F-ENGINE-190617-01 (NET BOAT PARTS)   \n17319            BLO-F-ENGINE-190617-01 (NET BOAT PARTS)   \n\n                   machinery                              assembly  \\\n0      NO.1 GENERATOR ENGINE               323-6480 LINES GP-FUEL    \n1      NO.2 GENERATOR ENGINE                            GASKET KIT   \n2      NO.2 GENERATOR ENGINE             285-8374 MANIFOLD GP-EXH    \n3      NO.1 GENERATOR ENGINE                     159-8828 TURBO GP   \n4      NO.1 GENERATOR ENGINE             2N4727 INSTRUMNT PANEL GP   \n...                      ...                                   ...   \n17315            HYD. SYSTEM  5-753-2E_BOAT DAVIT & N.D CRANE LINE   \n17316            HYD. SYSTEM  5-753-2E_BOAT DAVIT & N.D CRANE LINE   \n17317            6M NET BOAT                       ELECTRIC CLUTCH   \n17318            7M NET BOAT        HAND HYDRAULIC STEERING SYSTEM   \n17319            7M NET BOAT        HAND HYDRAULIC STEERING SYSTEM   \n\n                                     items                         part1  \\\n0                         SEAL-O-RING-STOR                     7.00E-275   \n1                       OIL COOLER & LINES                     7.00E-275   \n2                                   WASHER                     7.00E-275   \n3                           BOLT-HIGH TEMP                     7.00E-275   \n4                                     SEAL                     7.00E-275   \n...                                    ...                           ...   \n17315         HYD. CYLINDER_NET BOAT DAVIT            φ150 × φ85 × 695st   \n17316  HYD. CYLINDER_N.D CRANE_BOOM_LIFTER          φ160 × φ112 × 1130st   \n17317                                PULLY                     Φ305X5V-3   \n17318                            CYLINDER            Φ50 x S195 CYLINDER   \n17319                SEAL KIT FOR CYLINDER  Φ50 x S195 CYLINDER SEAL KIT   \n\n                           Part2                                         key1  \\\n0                           None                                    7.00E-275   \n1                           None                                    7.00E-275   \n2                           None                                    7.00E-275   \n3                           None                                    7.00E-275   \n4                           None                                    7.00E-275   \n...                          ...                                          ...   \n17315  FF-SE-1CB150BB695ABD-YP2J  φ150 × φ85 × 695stFF-SE-1CB150BB695ABD-YP2J   \n17316       S-2CA160A20.6N1130-1     φ160 × φ112 × 1130stS-2CA160A20.6N1130-1   \n17317                       None                                    Φ305X5V-3   \n17318                       None                          Φ50 x S195 CYLINDER   \n17319                       None                 Φ50 x S195 CYLINDER SEAL KIT   \n\n       ... ipgochanggo  changgochulgo  changgochulgosuryang chulgoseonbak  \\\n0      ...          BS     2020-09-19                     1           BLO   \n1      ...          BS     2020-09-18                     1           JBG   \n2      ...          BS     2020-12-12                     1           BON   \n3      ...          BS     2021-06-16                     1           MIR   \n4      ...          BS     0000-00-00                     0          None   \n...    ...         ...            ...                   ...           ...   \n17315  ...          BW     0000-00-00                     0          None   \n17316  ...          BW     2020-08-26                     1           BLO   \n17317  ...          BW     2019-09-04                     1           ELS   \n17318  ...          BW     2019-08-20                     1           BLO   \n17319  ...          BW     2019-08-20                     2           BLO   \n\n       chulgounbanseon seonbagipgo  seonbagipgosuryang wallyo_yeobu 발주-월  \\\n0                본선 선적  0000-00-00                   0         None    3   \n1                본선 선적  0000-00-00                   0         None    7   \n2       SANWA FONTAINE  0000-00-00                   0         None   10   \n3            체항수리 시 사용  0000-00-00                   0         None   11   \n4                 None  0000-00-00                   0         None    1   \n...                ...         ...                 ...          ...  ...   \n17315             None  0000-00-00                   0         None    6   \n17316       BLO 상가시 선적  0000-00-00                   0         None    4   \n17317          ONENESS  2019-10-02                   1           완료    8   \n17318         세이셀 컨테이너  2019-10-12                   1           완료    6   \n17319         세이셀 컨테이너  2019-10-12                   2           완료    6   \n\n        창고입고-발주  \n0      194 days  \n1       59 days  \n2       61 days  \n3      212 days  \n4      220 days  \n...         ...  \n17315   95 days  \n17316   67 days  \n17317   25 days  \n17318   25 days  \n17319   25 days  \n\n[17320 rows x 38 columns]",
      "text/html": "<div>\n<style scoped>\n    .dataframe tbody tr th:only-of-type {\n        vertical-align: middle;\n    }\n\n    .dataframe tbody tr th {\n        vertical-align: top;\n    }\n\n    .dataframe thead th {\n        text-align: right;\n    }\n</style>\n<table border=\"1\" class=\"dataframe\">\n  <thead>\n    <tr style=\"text-align: right;\">\n      <th></th>\n      <th>id</th>\n      <th>cheongguseobeonho</th>\n      <th>no</th>\n      <th>subject_</th>\n      <th>machinery</th>\n      <th>assembly</th>\n      <th>items</th>\n      <th>part1</th>\n      <th>Part2</th>\n      <th>key1</th>\n      <th>...</th>\n      <th>ipgochanggo</th>\n      <th>changgochulgo</th>\n      <th>changgochulgosuryang</th>\n      <th>chulgoseonbak</th>\n      <th>chulgounbanseon</th>\n      <th>seonbagipgo</th>\n      <th>seonbagipgosuryang</th>\n      <th>wallyo_yeobu</th>\n      <th>발주-월</th>\n      <th>창고입고-발주</th>\n    </tr>\n  </thead>\n  <tbody>\n    <tr>\n      <th>0</th>\n      <td>1</td>\n      <td>ELS-BS-ESP-2004002</td>\n      <td>12</td>\n      <td>NO.1 A/E C18 MAJOR O/H PARTS</td>\n      <td>NO.1 GENERATOR ENGINE</td>\n      <td>323-6480 LINES GP-FUEL</td>\n      <td>SEAL-O-RING-STOR</td>\n      <td>7.00E-275</td>\n      <td>None</td>\n      <td>7.00E-275</td>\n      <td>...</td>\n      <td>BS</td>\n      <td>2020-09-19</td>\n      <td>1</td>\n      <td>BLO</td>\n      <td>본선 선적</td>\n      <td>0000-00-00</td>\n      <td>0</td>\n      <td>None</td>\n      <td>3</td>\n      <td>194 days</td>\n    </tr>\n    <tr>\n      <th>1</th>\n      <td>2</td>\n      <td>OCA-BS-ESP-2010004</td>\n      <td>5</td>\n      <td>운전시간 대비 #2 AUX ENG TOP END O/H PARTS</td>\n      <td>NO.2 GENERATOR ENGINE</td>\n      <td>GASKET KIT</td>\n      <td>OIL COOLER &amp; LINES</td>\n      <td>7.00E-275</td>\n      <td>None</td>\n      <td>7.00E-275</td>\n      <td>...</td>\n      <td>BS</td>\n      <td>2020-09-18</td>\n      <td>1</td>\n      <td>JBG</td>\n      <td>본선 선적</td>\n      <td>0000-00-00</td>\n      <td>0</td>\n      <td>None</td>\n      <td>7</td>\n      <td>59 days</td>\n    </tr>\n    <tr>\n      <th>2</th>\n      <td>3</td>\n      <td>MIR-BS-ESP-2011002</td>\n      <td>119</td>\n      <td>운전시간 대비 #2 AUX ENG(CAT 3512C) MAJOR O/H PARTS</td>\n      <td>NO.2 GENERATOR ENGINE</td>\n      <td>285-8374 MANIFOLD GP-EXH</td>\n      <td>WASHER</td>\n      <td>7.00E-275</td>\n      <td>None</td>\n      <td>7.00E-275</td>\n      <td>...</td>\n      <td>BS</td>\n      <td>2020-12-12</td>\n      <td>1</td>\n      <td>BON</td>\n      <td>SANWA FONTAINE</td>\n      <td>0000-00-00</td>\n      <td>0</td>\n      <td>None</td>\n      <td>10</td>\n      <td>61 days</td>\n    </tr>\n    <tr>\n      <th>3</th>\n      <td>4</td>\n      <td>BLO-BS-ESP-2003002</td>\n      <td>16</td>\n      <td>#1 AUX ENG TOP END O/H PARTS</td>\n      <td>NO.1 GENERATOR ENGINE</td>\n      <td>159-8828 TURBO GP</td>\n      <td>BOLT-HIGH TEMP</td>\n      <td>7.00E-275</td>\n      <td>None</td>\n      <td>7.00E-275</td>\n      <td>...</td>\n      <td>BS</td>\n      <td>2021-06-16</td>\n      <td>1</td>\n      <td>MIR</td>\n      <td>체항수리 시 사용</td>\n      <td>0000-00-00</td>\n      <td>0</td>\n      <td>None</td>\n      <td>11</td>\n      <td>212 days</td>\n    </tr>\n    <tr>\n      <th>4</th>\n      <td>5</td>\n      <td>DEO-BS-ESP-2105008</td>\n      <td>97</td>\n      <td>DEO-E-210512-01</td>\n      <td>NO.1 GENERATOR ENGINE</td>\n      <td>2N4727 INSTRUMNT PANEL GP</td>\n      <td>SEAL</td>\n      <td>7.00E-275</td>\n      <td>None</td>\n      <td>7.00E-275</td>\n      <td>...</td>\n      <td>BS</td>\n      <td>0000-00-00</td>\n      <td>0</td>\n      <td>None</td>\n      <td>None</td>\n      <td>0000-00-00</td>\n      <td>0</td>\n      <td>None</td>\n      <td>1</td>\n      <td>220 days</td>\n    </tr>\n    <tr>\n      <th>...</th>\n      <td>...</td>\n      <td>...</td>\n      <td>...</td>\n      <td>...</td>\n      <td>...</td>\n      <td>...</td>\n      <td>...</td>\n      <td>...</td>\n      <td>...</td>\n      <td>...</td>\n      <td>...</td>\n      <td>...</td>\n      <td>...</td>\n      <td>...</td>\n      <td>...</td>\n      <td>...</td>\n      <td>...</td>\n      <td>...</td>\n      <td>...</td>\n      <td>...</td>\n      <td>...</td>\n    </tr>\n    <tr>\n      <th>17315</th>\n      <td>21080</td>\n      <td>BLO-BS-ESP-2006006</td>\n      <td>1</td>\n      <td>BLO-F-ENGINE-200515-03 BOAT DAVIT CYL 외, AIRCO...</td>\n      <td>HYD. SYSTEM</td>\n      <td>5-753-2E_BOAT DAVIT &amp; N.D CRANE LINE</td>\n      <td>HYD. CYLINDER_NET BOAT DAVIT</td>\n      <td>φ150 × φ85 × 695st</td>\n      <td>FF-SE-1CB150BB695ABD-YP2J</td>\n      <td>φ150 × φ85 × 695stFF-SE-1CB150BB695ABD-YP2J</td>\n      <td>...</td>\n      <td>BW</td>\n      <td>0000-00-00</td>\n      <td>0</td>\n      <td>None</td>\n      <td>None</td>\n      <td>0000-00-00</td>\n      <td>0</td>\n      <td>None</td>\n      <td>6</td>\n      <td>95 days</td>\n    </tr>\n    <tr>\n      <th>17316</th>\n      <td>21081</td>\n      <td>BLO-BS-ESP-2004008</td>\n      <td>1</td>\n      <td>BLO-F-ENGINE-200403-01 (NAVI DECK CRANE DERRIN...</td>\n      <td>HYD. SYSTEM</td>\n      <td>5-753-2E_BOAT DAVIT &amp; N.D CRANE LINE</td>\n      <td>HYD. CYLINDER_N.D CRANE_BOOM_LIFTER</td>\n      <td>φ160 × φ112 × 1130st</td>\n      <td>S-2CA160A20.6N1130-1</td>\n      <td>φ160 × φ112 × 1130stS-2CA160A20.6N1130-1</td>\n      <td>...</td>\n      <td>BW</td>\n      <td>2020-08-26</td>\n      <td>1</td>\n      <td>BLO</td>\n      <td>BLO 상가시 선적</td>\n      <td>0000-00-00</td>\n      <td>0</td>\n      <td>None</td>\n      <td>4</td>\n      <td>67 days</td>\n    </tr>\n    <tr>\n      <th>17317</th>\n      <td>21082</td>\n      <td>ELS-BS-ESP-1908002</td>\n      <td>2</td>\n      <td>ELS-F-ENG-190628-02</td>\n      <td>6M NET BOAT</td>\n      <td>ELECTRIC CLUTCH</td>\n      <td>PULLY</td>\n      <td>Φ305X5V-3</td>\n      <td>None</td>\n      <td>Φ305X5V-3</td>\n      <td>...</td>\n      <td>BW</td>\n      <td>2019-09-04</td>\n      <td>1</td>\n      <td>ELS</td>\n      <td>ONENESS</td>\n      <td>2019-10-02</td>\n      <td>1</td>\n      <td>완료</td>\n      <td>8</td>\n      <td>25 days</td>\n    </tr>\n    <tr>\n      <th>17318</th>\n      <td>21083</td>\n      <td>BLO-BS-ESP-1906014</td>\n      <td>2</td>\n      <td>BLO-F-ENGINE-190617-01 (NET BOAT PARTS)</td>\n      <td>7M NET BOAT</td>\n      <td>HAND HYDRAULIC STEERING SYSTEM</td>\n      <td>CYLINDER</td>\n      <td>Φ50 x S195 CYLINDER</td>\n      <td>None</td>\n      <td>Φ50 x S195 CYLINDER</td>\n      <td>...</td>\n      <td>BW</td>\n      <td>2019-08-20</td>\n      <td>1</td>\n      <td>BLO</td>\n      <td>세이셀 컨테이너</td>\n      <td>2019-10-12</td>\n      <td>1</td>\n      <td>완료</td>\n      <td>6</td>\n      <td>25 days</td>\n    </tr>\n    <tr>\n      <th>17319</th>\n      <td>21084</td>\n      <td>BLO-BS-ESP-1906014</td>\n      <td>3</td>\n      <td>BLO-F-ENGINE-190617-01 (NET BOAT PARTS)</td>\n      <td>7M NET BOAT</td>\n      <td>HAND HYDRAULIC STEERING SYSTEM</td>\n      <td>SEAL KIT FOR CYLINDER</td>\n      <td>Φ50 x S195 CYLINDER SEAL KIT</td>\n      <td>None</td>\n      <td>Φ50 x S195 CYLINDER SEAL KIT</td>\n      <td>...</td>\n      <td>BW</td>\n      <td>2019-08-20</td>\n      <td>2</td>\n      <td>BLO</td>\n      <td>세이셀 컨테이너</td>\n      <td>2019-10-12</td>\n      <td>2</td>\n      <td>완료</td>\n      <td>6</td>\n      <td>25 days</td>\n    </tr>\n  </tbody>\n</table>\n<p>17320 rows × 38 columns</p>\n</div>"
     },
     "execution_count": 1,
     "metadata": {},
     "output_type": "execute_result"
    }
   ],
   "source": [
    "from importlib import machinery\n",
    "\n",
    "import matplotlib.pyplot as plt\n",
    "from keras.layers import Input, Dense\n",
    "from keras.models import Model\n",
    "from keras.optimizers import RMSprop\n",
    "from keras import backend as K\n",
    "import tensorflow as tf\n",
    "\n",
    "from sklearn import preprocessing\n",
    "label_encoder = preprocessing.LabelEncoder()\n",
    "import io\n",
    "import pandas as pd\n",
    "\n",
    "from sklearn.preprocessing import LabelEncoder\n",
    "\n",
    "\n",
    "class MultiColumnLabelEncoder:\n",
    "\n",
    "    def __init__(self, columns=None):\n",
    "        self.columns = columns # array of column names to encode\n",
    "\n",
    "\n",
    "    def fit(self, X, y=None):\n",
    "        self.encoders = {}\n",
    "        columns = X.columns if self.columns is None else self.columns\n",
    "        for col in columns:\n",
    "            self.encoders[col] = LabelEncoder().fit(X[col])\n",
    "        return self\n",
    "\n",
    "\n",
    "    def transform(self, X):\n",
    "        output = X.copy()\n",
    "        columns = X.columns if self.columns is None else self.columns\n",
    "        for col in columns:\n",
    "            output[col] = self.encoders[col].transform(X[col])\n",
    "        return output\n",
    "\n",
    "\n",
    "    def fit_transform(self, X, y=None):\n",
    "        return self.fit(X,y).transform(X)\n",
    "\n",
    "\n",
    "    def inverse_transform(self, X):\n",
    "        output = X.copy()\n",
    "        columns = X.columns if self.columns is None else self.columns\n",
    "        for col in columns:\n",
    "            output[col] = self.encoders[col].inverse_transform(X[col])\n",
    "        return output\n",
    "\n",
    "import pymysql\n",
    "conn=pymysql.connect(host='.com',port=3306,user='',password='',db='', cursorclass=pymysql.cursors.DictCursor)\n",
    "cursor = conn.cursor()\n",
    "sql = \"select * from JSYoon_leadtime_preprocessed\"\n",
    "cursor.execute(sql)\n",
    "result = cursor.fetchall()\n",
    "conn.close()\n",
    "original = pd.DataFrame(result)\n",
    "original"
   ]
  },
  {
   "cell_type": "code",
   "execution_count": 35,
   "outputs": [
    {
     "data": {
      "text/plain": "          id   cheongguseobeonho   no  \\\n0          1  ELS-BS-ESP-2004002   12   \n1          2  OCA-BS-ESP-2010004    5   \n2          3  MIR-BS-ESP-2011002  119   \n3          4  BLO-BS-ESP-2003002   16   \n4          5  DEO-BS-ESP-2105008   97   \n...      ...                 ...  ...   \n17315  21080  BLO-BS-ESP-2006006    1   \n17316  21081  BLO-BS-ESP-2004008    1   \n17317  21082  ELS-BS-ESP-1908002    2   \n17318  21083  BLO-BS-ESP-1906014    2   \n17319  21084  BLO-BS-ESP-1906014    3   \n\n                                                subject_  \\\n0                           NO.1 A/E C18 MAJOR O/H PARTS   \n1                   운전시간 대비 #2 AUX ENG TOP END O/H PARTS   \n2          운전시간 대비 #2 AUX ENG(CAT 3512C) MAJOR O/H PARTS   \n3                           #1 AUX ENG TOP END O/H PARTS   \n4                                        DEO-E-210512-01   \n...                                                  ...   \n17315  BLO-F-ENGINE-200515-03 BOAT DAVIT CYL 외, AIRCO...   \n17316  BLO-F-ENGINE-200403-01 (NAVI DECK CRANE DERRIN...   \n17317                                ELS-F-ENG-190628-02   \n17318            BLO-F-ENGINE-190617-01 (NET BOAT PARTS)   \n17319            BLO-F-ENGINE-190617-01 (NET BOAT PARTS)   \n\n                   machinery  assembly                                items  \\\n0      NO.1 GENERATOR ENGINE       272                     SEAL-O-RING-STOR   \n1      NO.2 GENERATOR ENGINE      1129                   OIL COOLER & LINES   \n2      NO.2 GENERATOR ENGINE       199                               WASHER   \n3      NO.1 GENERATOR ENGINE        67                       BOLT-HIGH TEMP   \n4      NO.1 GENERATOR ENGINE       230                                 SEAL   \n...                      ...       ...                                  ...   \n17315            HYD. SYSTEM       457         HYD. CYLINDER_NET BOAT DAVIT   \n17316            HYD. SYSTEM       457  HYD. CYLINDER_N.D CRANE_BOOM_LIFTER   \n17317            6M NET BOAT       861                                PULLY   \n17318            7M NET BOAT      1154                            CYLINDER    \n17319            7M NET BOAT      1154                SEAL KIT FOR CYLINDER   \n\n                              part1                      Part2  \\\n0                         7.00E-275                       None   \n1                         7.00E-275                       None   \n2                         7.00E-275                       None   \n3                         7.00E-275                       None   \n4                         7.00E-275                       None   \n...                             ...                        ...   \n17315            φ150 × φ85 × 695st  FF-SE-1CB150BB695ABD-YP2J   \n17316          φ160 × φ112 × 1130st       S-2CA160A20.6N1130-1   \n17317                     Φ305X5V-3                       None   \n17318           Φ50 x S195 CYLINDER                       None   \n17319  Φ50 x S195 CYLINDER SEAL KIT                       None   \n\n                                              key1  ... ipgochanggo  \\\n0                                        7.00E-275  ...          BS   \n1                                        7.00E-275  ...          BS   \n2                                        7.00E-275  ...          BS   \n3                                        7.00E-275  ...          BS   \n4                                        7.00E-275  ...          BS   \n...                                            ...  ...         ...   \n17315  φ150 × φ85 × 695stFF-SE-1CB150BB695ABD-YP2J  ...          BW   \n17316     φ160 × φ112 × 1130stS-2CA160A20.6N1130-1  ...          BW   \n17317                                    Φ305X5V-3  ...          BW   \n17318                          Φ50 x S195 CYLINDER  ...          BW   \n17319                 Φ50 x S195 CYLINDER SEAL KIT  ...          BW   \n\n       changgochulgo  changgochulgosuryang  chulgoseonbak  chulgounbanseon  \\\n0         2020-09-19                     1            BLO            본선 선적   \n1         2020-09-18                     1            JBG            본선 선적   \n2         2020-12-12                     1            BON   SANWA FONTAINE   \n3         2021-06-16                     1            MIR        체항수리 시 사용   \n4         0000-00-00                     0           None             None   \n...              ...                   ...            ...              ...   \n17315     0000-00-00                     0           None             None   \n17316     2020-08-26                     1            BLO       BLO 상가시 선적   \n17317     2019-09-04                     1            ELS          ONENESS   \n17318     2019-08-20                     1            BLO         세이셀 컨테이너   \n17319     2019-08-20                     2            BLO         세이셀 컨테이너   \n\n       seonbagipgo  seonbagipgosuryang wallyo_yeobu 발주-월   창고입고-발주  \n0       0000-00-00                   0         None    3  194 days  \n1       0000-00-00                   0         None    7   59 days  \n2       0000-00-00                   0         None   10   61 days  \n3       0000-00-00                   0         None   11  212 days  \n4       0000-00-00                   0         None    1  220 days  \n...            ...                 ...          ...  ...       ...  \n17315   0000-00-00                   0         None    6   95 days  \n17316   0000-00-00                   0         None    4   67 days  \n17317   2019-10-02                   1           완료    8   25 days  \n17318   2019-10-12                   1           완료    6   25 days  \n17319   2019-10-12                   2           완료    6   25 days  \n\n[17320 rows x 38 columns]",
      "text/html": "<div>\n<style scoped>\n    .dataframe tbody tr th:only-of-type {\n        vertical-align: middle;\n    }\n\n    .dataframe tbody tr th {\n        vertical-align: top;\n    }\n\n    .dataframe thead th {\n        text-align: right;\n    }\n</style>\n<table border=\"1\" class=\"dataframe\">\n  <thead>\n    <tr style=\"text-align: right;\">\n      <th></th>\n      <th>id</th>\n      <th>cheongguseobeonho</th>\n      <th>no</th>\n      <th>subject_</th>\n      <th>machinery</th>\n      <th>assembly</th>\n      <th>items</th>\n      <th>part1</th>\n      <th>Part2</th>\n      <th>key1</th>\n      <th>...</th>\n      <th>ipgochanggo</th>\n      <th>changgochulgo</th>\n      <th>changgochulgosuryang</th>\n      <th>chulgoseonbak</th>\n      <th>chulgounbanseon</th>\n      <th>seonbagipgo</th>\n      <th>seonbagipgosuryang</th>\n      <th>wallyo_yeobu</th>\n      <th>발주-월</th>\n      <th>창고입고-발주</th>\n    </tr>\n  </thead>\n  <tbody>\n    <tr>\n      <th>0</th>\n      <td>1</td>\n      <td>ELS-BS-ESP-2004002</td>\n      <td>12</td>\n      <td>NO.1 A/E C18 MAJOR O/H PARTS</td>\n      <td>NO.1 GENERATOR ENGINE</td>\n      <td>272</td>\n      <td>SEAL-O-RING-STOR</td>\n      <td>7.00E-275</td>\n      <td>None</td>\n      <td>7.00E-275</td>\n      <td>...</td>\n      <td>BS</td>\n      <td>2020-09-19</td>\n      <td>1</td>\n      <td>BLO</td>\n      <td>본선 선적</td>\n      <td>0000-00-00</td>\n      <td>0</td>\n      <td>None</td>\n      <td>3</td>\n      <td>194 days</td>\n    </tr>\n    <tr>\n      <th>1</th>\n      <td>2</td>\n      <td>OCA-BS-ESP-2010004</td>\n      <td>5</td>\n      <td>운전시간 대비 #2 AUX ENG TOP END O/H PARTS</td>\n      <td>NO.2 GENERATOR ENGINE</td>\n      <td>1129</td>\n      <td>OIL COOLER &amp; LINES</td>\n      <td>7.00E-275</td>\n      <td>None</td>\n      <td>7.00E-275</td>\n      <td>...</td>\n      <td>BS</td>\n      <td>2020-09-18</td>\n      <td>1</td>\n      <td>JBG</td>\n      <td>본선 선적</td>\n      <td>0000-00-00</td>\n      <td>0</td>\n      <td>None</td>\n      <td>7</td>\n      <td>59 days</td>\n    </tr>\n    <tr>\n      <th>2</th>\n      <td>3</td>\n      <td>MIR-BS-ESP-2011002</td>\n      <td>119</td>\n      <td>운전시간 대비 #2 AUX ENG(CAT 3512C) MAJOR O/H PARTS</td>\n      <td>NO.2 GENERATOR ENGINE</td>\n      <td>199</td>\n      <td>WASHER</td>\n      <td>7.00E-275</td>\n      <td>None</td>\n      <td>7.00E-275</td>\n      <td>...</td>\n      <td>BS</td>\n      <td>2020-12-12</td>\n      <td>1</td>\n      <td>BON</td>\n      <td>SANWA FONTAINE</td>\n      <td>0000-00-00</td>\n      <td>0</td>\n      <td>None</td>\n      <td>10</td>\n      <td>61 days</td>\n    </tr>\n    <tr>\n      <th>3</th>\n      <td>4</td>\n      <td>BLO-BS-ESP-2003002</td>\n      <td>16</td>\n      <td>#1 AUX ENG TOP END O/H PARTS</td>\n      <td>NO.1 GENERATOR ENGINE</td>\n      <td>67</td>\n      <td>BOLT-HIGH TEMP</td>\n      <td>7.00E-275</td>\n      <td>None</td>\n      <td>7.00E-275</td>\n      <td>...</td>\n      <td>BS</td>\n      <td>2021-06-16</td>\n      <td>1</td>\n      <td>MIR</td>\n      <td>체항수리 시 사용</td>\n      <td>0000-00-00</td>\n      <td>0</td>\n      <td>None</td>\n      <td>11</td>\n      <td>212 days</td>\n    </tr>\n    <tr>\n      <th>4</th>\n      <td>5</td>\n      <td>DEO-BS-ESP-2105008</td>\n      <td>97</td>\n      <td>DEO-E-210512-01</td>\n      <td>NO.1 GENERATOR ENGINE</td>\n      <td>230</td>\n      <td>SEAL</td>\n      <td>7.00E-275</td>\n      <td>None</td>\n      <td>7.00E-275</td>\n      <td>...</td>\n      <td>BS</td>\n      <td>0000-00-00</td>\n      <td>0</td>\n      <td>None</td>\n      <td>None</td>\n      <td>0000-00-00</td>\n      <td>0</td>\n      <td>None</td>\n      <td>1</td>\n      <td>220 days</td>\n    </tr>\n    <tr>\n      <th>...</th>\n      <td>...</td>\n      <td>...</td>\n      <td>...</td>\n      <td>...</td>\n      <td>...</td>\n      <td>...</td>\n      <td>...</td>\n      <td>...</td>\n      <td>...</td>\n      <td>...</td>\n      <td>...</td>\n      <td>...</td>\n      <td>...</td>\n      <td>...</td>\n      <td>...</td>\n      <td>...</td>\n      <td>...</td>\n      <td>...</td>\n      <td>...</td>\n      <td>...</td>\n      <td>...</td>\n    </tr>\n    <tr>\n      <th>17315</th>\n      <td>21080</td>\n      <td>BLO-BS-ESP-2006006</td>\n      <td>1</td>\n      <td>BLO-F-ENGINE-200515-03 BOAT DAVIT CYL 외, AIRCO...</td>\n      <td>HYD. SYSTEM</td>\n      <td>457</td>\n      <td>HYD. CYLINDER_NET BOAT DAVIT</td>\n      <td>φ150 × φ85 × 695st</td>\n      <td>FF-SE-1CB150BB695ABD-YP2J</td>\n      <td>φ150 × φ85 × 695stFF-SE-1CB150BB695ABD-YP2J</td>\n      <td>...</td>\n      <td>BW</td>\n      <td>0000-00-00</td>\n      <td>0</td>\n      <td>None</td>\n      <td>None</td>\n      <td>0000-00-00</td>\n      <td>0</td>\n      <td>None</td>\n      <td>6</td>\n      <td>95 days</td>\n    </tr>\n    <tr>\n      <th>17316</th>\n      <td>21081</td>\n      <td>BLO-BS-ESP-2004008</td>\n      <td>1</td>\n      <td>BLO-F-ENGINE-200403-01 (NAVI DECK CRANE DERRIN...</td>\n      <td>HYD. SYSTEM</td>\n      <td>457</td>\n      <td>HYD. CYLINDER_N.D CRANE_BOOM_LIFTER</td>\n      <td>φ160 × φ112 × 1130st</td>\n      <td>S-2CA160A20.6N1130-1</td>\n      <td>φ160 × φ112 × 1130stS-2CA160A20.6N1130-1</td>\n      <td>...</td>\n      <td>BW</td>\n      <td>2020-08-26</td>\n      <td>1</td>\n      <td>BLO</td>\n      <td>BLO 상가시 선적</td>\n      <td>0000-00-00</td>\n      <td>0</td>\n      <td>None</td>\n      <td>4</td>\n      <td>67 days</td>\n    </tr>\n    <tr>\n      <th>17317</th>\n      <td>21082</td>\n      <td>ELS-BS-ESP-1908002</td>\n      <td>2</td>\n      <td>ELS-F-ENG-190628-02</td>\n      <td>6M NET BOAT</td>\n      <td>861</td>\n      <td>PULLY</td>\n      <td>Φ305X5V-3</td>\n      <td>None</td>\n      <td>Φ305X5V-3</td>\n      <td>...</td>\n      <td>BW</td>\n      <td>2019-09-04</td>\n      <td>1</td>\n      <td>ELS</td>\n      <td>ONENESS</td>\n      <td>2019-10-02</td>\n      <td>1</td>\n      <td>완료</td>\n      <td>8</td>\n      <td>25 days</td>\n    </tr>\n    <tr>\n      <th>17318</th>\n      <td>21083</td>\n      <td>BLO-BS-ESP-1906014</td>\n      <td>2</td>\n      <td>BLO-F-ENGINE-190617-01 (NET BOAT PARTS)</td>\n      <td>7M NET BOAT</td>\n      <td>1154</td>\n      <td>CYLINDER</td>\n      <td>Φ50 x S195 CYLINDER</td>\n      <td>None</td>\n      <td>Φ50 x S195 CYLINDER</td>\n      <td>...</td>\n      <td>BW</td>\n      <td>2019-08-20</td>\n      <td>1</td>\n      <td>BLO</td>\n      <td>세이셀 컨테이너</td>\n      <td>2019-10-12</td>\n      <td>1</td>\n      <td>완료</td>\n      <td>6</td>\n      <td>25 days</td>\n    </tr>\n    <tr>\n      <th>17319</th>\n      <td>21084</td>\n      <td>BLO-BS-ESP-1906014</td>\n      <td>3</td>\n      <td>BLO-F-ENGINE-190617-01 (NET BOAT PARTS)</td>\n      <td>7M NET BOAT</td>\n      <td>1154</td>\n      <td>SEAL KIT FOR CYLINDER</td>\n      <td>Φ50 x S195 CYLINDER SEAL KIT</td>\n      <td>None</td>\n      <td>Φ50 x S195 CYLINDER SEAL KIT</td>\n      <td>...</td>\n      <td>BW</td>\n      <td>2019-08-20</td>\n      <td>2</td>\n      <td>BLO</td>\n      <td>세이셀 컨테이너</td>\n      <td>2019-10-12</td>\n      <td>2</td>\n      <td>완료</td>\n      <td>6</td>\n      <td>25 days</td>\n    </tr>\n  </tbody>\n</table>\n<p>17320 rows × 38 columns</p>\n</div>"
     },
     "execution_count": 35,
     "metadata": {},
     "output_type": "execute_result"
    }
   ],
   "source": [
    "features_4 = ['assembly', 'gyeonjeok', 'gyeonjeokhwapye', 'dt']\n",
    "multi = MultiColumnLabelEncoder(columns=['assembly', 'gyeonjeok', 'gyeonjeokhwapye'])\n",
    "original1 = multi.fit_transform(original)\n",
    "original1"
   ],
   "metadata": {
    "collapsed": false
   }
  },
  {
   "cell_type": "code",
   "execution_count": 36,
   "outputs": [
    {
     "data": {
      "text/plain": "       assembly  gyeonjeok  gyeonjeokhwapye   dt\n0           272        245                2   40\n1          1129        314                2    5\n2           199        351                2   10\n3            67        369                2   50\n4           230        405                2   30\n...         ...        ...              ...  ...\n17315       457        294                1   75\n17316       457        270                1  110\n17317       861        125                1    5\n17318      1154         98                1    5\n17319      1154         98                1    5\n\n[17320 rows x 4 columns]",
      "text/html": "<div>\n<style scoped>\n    .dataframe tbody tr th:only-of-type {\n        vertical-align: middle;\n    }\n\n    .dataframe tbody tr th {\n        vertical-align: top;\n    }\n\n    .dataframe thead th {\n        text-align: right;\n    }\n</style>\n<table border=\"1\" class=\"dataframe\">\n  <thead>\n    <tr style=\"text-align: right;\">\n      <th></th>\n      <th>assembly</th>\n      <th>gyeonjeok</th>\n      <th>gyeonjeokhwapye</th>\n      <th>dt</th>\n    </tr>\n  </thead>\n  <tbody>\n    <tr>\n      <th>0</th>\n      <td>272</td>\n      <td>245</td>\n      <td>2</td>\n      <td>40</td>\n    </tr>\n    <tr>\n      <th>1</th>\n      <td>1129</td>\n      <td>314</td>\n      <td>2</td>\n      <td>5</td>\n    </tr>\n    <tr>\n      <th>2</th>\n      <td>199</td>\n      <td>351</td>\n      <td>2</td>\n      <td>10</td>\n    </tr>\n    <tr>\n      <th>3</th>\n      <td>67</td>\n      <td>369</td>\n      <td>2</td>\n      <td>50</td>\n    </tr>\n    <tr>\n      <th>4</th>\n      <td>230</td>\n      <td>405</td>\n      <td>2</td>\n      <td>30</td>\n    </tr>\n    <tr>\n      <th>...</th>\n      <td>...</td>\n      <td>...</td>\n      <td>...</td>\n      <td>...</td>\n    </tr>\n    <tr>\n      <th>17315</th>\n      <td>457</td>\n      <td>294</td>\n      <td>1</td>\n      <td>75</td>\n    </tr>\n    <tr>\n      <th>17316</th>\n      <td>457</td>\n      <td>270</td>\n      <td>1</td>\n      <td>110</td>\n    </tr>\n    <tr>\n      <th>17317</th>\n      <td>861</td>\n      <td>125</td>\n      <td>1</td>\n      <td>5</td>\n    </tr>\n    <tr>\n      <th>17318</th>\n      <td>1154</td>\n      <td>98</td>\n      <td>1</td>\n      <td>5</td>\n    </tr>\n    <tr>\n      <th>17319</th>\n      <td>1154</td>\n      <td>98</td>\n      <td>1</td>\n      <td>5</td>\n    </tr>\n  </tbody>\n</table>\n<p>17320 rows × 4 columns</p>\n</div>"
     },
     "execution_count": 36,
     "metadata": {},
     "output_type": "execute_result"
    }
   ],
   "source": [
    "import joblib\n",
    "\n",
    "model4 = joblib.load('./model4.pkl')\n",
    "db = original1.loc[:, features_4]\n",
    "db"
   ],
   "metadata": {
    "collapsed": false
   }
  },
  {
   "cell_type": "code",
   "execution_count": 37,
   "outputs": [
    {
     "data": {
      "text/plain": "                                   assembly   gyeonjeok gyeonjeokhwapye   dt  \\\n0                   323-6480 LINES GP-FUEL   2020-03-09             KRW   40   \n1                                GASKET KIT  2020-07-21             KRW    5   \n2                 285-8374 MANIFOLD GP-EXH   2020-10-12             KRW   10   \n3                         159-8828 TURBO GP  2020-11-16             KRW   50   \n4                 2N4727 INSTRUMNT PANEL GP  2021-01-15             KRW   30   \n...                                     ...         ...             ...  ...   \n17315  5-753-2E_BOAT DAVIT & N.D CRANE LINE  2020-06-11             JPY   75   \n17316  5-753-2E_BOAT DAVIT & N.D CRANE LINE  2020-04-27             JPY  110   \n17317                       ELECTRIC CLUTCH  2019-08-01             JPY    5   \n17318        HAND HYDRAULIC STEERING SYSTEM  2019-06-17             JPY    5   \n17319        HAND HYDRAULIC STEERING SYSTEM  2019-06-17             JPY    5   \n\n       leadtime_predicted  \n0                     194  \n1                      59  \n2                      61  \n3                     212  \n4                     220  \n...                   ...  \n17315                  94  \n17316                  71  \n17317                  23  \n17318                  23  \n17319                  23  \n\n[17320 rows x 5 columns]",
      "text/html": "<div>\n<style scoped>\n    .dataframe tbody tr th:only-of-type {\n        vertical-align: middle;\n    }\n\n    .dataframe tbody tr th {\n        vertical-align: top;\n    }\n\n    .dataframe thead th {\n        text-align: right;\n    }\n</style>\n<table border=\"1\" class=\"dataframe\">\n  <thead>\n    <tr style=\"text-align: right;\">\n      <th></th>\n      <th>assembly</th>\n      <th>gyeonjeok</th>\n      <th>gyeonjeokhwapye</th>\n      <th>dt</th>\n      <th>leadtime_predicted</th>\n    </tr>\n  </thead>\n  <tbody>\n    <tr>\n      <th>0</th>\n      <td>323-6480 LINES GP-FUEL</td>\n      <td>2020-03-09</td>\n      <td>KRW</td>\n      <td>40</td>\n      <td>194</td>\n    </tr>\n    <tr>\n      <th>1</th>\n      <td>GASKET KIT</td>\n      <td>2020-07-21</td>\n      <td>KRW</td>\n      <td>5</td>\n      <td>59</td>\n    </tr>\n    <tr>\n      <th>2</th>\n      <td>285-8374 MANIFOLD GP-EXH</td>\n      <td>2020-10-12</td>\n      <td>KRW</td>\n      <td>10</td>\n      <td>61</td>\n    </tr>\n    <tr>\n      <th>3</th>\n      <td>159-8828 TURBO GP</td>\n      <td>2020-11-16</td>\n      <td>KRW</td>\n      <td>50</td>\n      <td>212</td>\n    </tr>\n    <tr>\n      <th>4</th>\n      <td>2N4727 INSTRUMNT PANEL GP</td>\n      <td>2021-01-15</td>\n      <td>KRW</td>\n      <td>30</td>\n      <td>220</td>\n    </tr>\n    <tr>\n      <th>...</th>\n      <td>...</td>\n      <td>...</td>\n      <td>...</td>\n      <td>...</td>\n      <td>...</td>\n    </tr>\n    <tr>\n      <th>17315</th>\n      <td>5-753-2E_BOAT DAVIT &amp; N.D CRANE LINE</td>\n      <td>2020-06-11</td>\n      <td>JPY</td>\n      <td>75</td>\n      <td>94</td>\n    </tr>\n    <tr>\n      <th>17316</th>\n      <td>5-753-2E_BOAT DAVIT &amp; N.D CRANE LINE</td>\n      <td>2020-04-27</td>\n      <td>JPY</td>\n      <td>110</td>\n      <td>71</td>\n    </tr>\n    <tr>\n      <th>17317</th>\n      <td>ELECTRIC CLUTCH</td>\n      <td>2019-08-01</td>\n      <td>JPY</td>\n      <td>5</td>\n      <td>23</td>\n    </tr>\n    <tr>\n      <th>17318</th>\n      <td>HAND HYDRAULIC STEERING SYSTEM</td>\n      <td>2019-06-17</td>\n      <td>JPY</td>\n      <td>5</td>\n      <td>23</td>\n    </tr>\n    <tr>\n      <th>17319</th>\n      <td>HAND HYDRAULIC STEERING SYSTEM</td>\n      <td>2019-06-17</td>\n      <td>JPY</td>\n      <td>5</td>\n      <td>23</td>\n    </tr>\n  </tbody>\n</table>\n<p>17320 rows × 5 columns</p>\n</div>"
     },
     "execution_count": 37,
     "metadata": {},
     "output_type": "execute_result"
    }
   ],
   "source": [
    "prediction = model4.predict(db)\n",
    "pred_df = pd.DataFrame(prediction)\n",
    "pred_df = pred_df.astype(int)\n",
    "pred_df.columns = ['leadtime_predicted']\n",
    "concat = pd.concat([db, pred_df], axis=1)\n",
    "concat = multi.inverse_transform(concat)\n",
    "concat"
   ],
   "metadata": {
    "collapsed": false
   }
  },
  {
   "cell_type": "code",
   "execution_count": 46,
   "outputs": [
    {
     "data": {
      "text/plain": "                   machinery                                items  \\\n0      NO.1 GENERATOR ENGINE                     SEAL-O-RING-STOR   \n1      NO.2 GENERATOR ENGINE                   OIL COOLER & LINES   \n2      NO.2 GENERATOR ENGINE                               WASHER   \n3      NO.1 GENERATOR ENGINE                       BOLT-HIGH TEMP   \n4      NO.1 GENERATOR ENGINE                                 SEAL   \n...                      ...                                  ...   \n17315            HYD. SYSTEM         HYD. CYLINDER_NET BOAT DAVIT   \n17316            HYD. SYSTEM  HYD. CYLINDER_N.D CRANE_BOOM_LIFTER   \n17317            6M NET BOAT                                PULLY   \n17318            7M NET BOAT                            CYLINDER    \n17319            7M NET BOAT                SEAL KIT FOR CYLINDER   \n\n                              part1      key2       balju  \\\n0                         7.00E-275    COOLER  2020-03-09   \n1                         7.00E-275    COOLER  2020-07-21   \n2                         7.00E-275    COOLER  2020-10-12   \n3                         7.00E-275    COOLER  2020-11-16   \n4                         7.00E-275    COOLER  2021-01-15   \n...                             ...       ...         ...   \n17315            φ150 × φ85 × 695st  CYLINDER  2020-06-11   \n17316          φ160 × φ112 × 1130st  CYLINDER  2020-04-27   \n17317                     Φ305X5V-3      BELT  2019-08-01   \n17318           Φ50 x S195 CYLINDER  CYLINDER  2019-06-17   \n17319  Φ50 x S195 CYLINDER SEAL KIT  CYLINDER  2019-06-17   \n\n                              baljucheo changgoipgo  leadtime  \\\n0              HAEIN Coporation_Cheonan  2020-09-19       194   \n1              HAEIN Coporation_Cheonan  2020-09-18        59   \n2              HAEIN Coporation_Cheonan  2020-12-12        61   \n3              HAEIN Coporation_Cheonan  2021-06-16       212   \n4              HAEIN Coporation_Cheonan  2021-08-23       220   \n...                                 ...         ...       ...   \n17315          MARINE HYDROTEC CO.,LTD.  2020-09-14        95   \n17316          MARINE HYDROTEC CO.,LTD.  2020-07-03        67   \n17317  PORT RELIEF ENGINEERING CO.,LTD.  2019-08-26        25   \n17318  PORT RELIEF ENGINEERING CO.,LTD.  2019-07-12        25   \n17319  PORT RELIEF ENGINEERING CO.,LTD.  2019-07-12        25   \n\n                                   assembly   gyeonjeok gyeonjeokhwapye   dt  \\\n0                   323-6480 LINES GP-FUEL   2020-03-09             KRW   40   \n1                                GASKET KIT  2020-07-21             KRW    5   \n2                 285-8374 MANIFOLD GP-EXH   2020-10-12             KRW   10   \n3                         159-8828 TURBO GP  2020-11-16             KRW   50   \n4                 2N4727 INSTRUMNT PANEL GP  2021-01-15             KRW   30   \n...                                     ...         ...             ...  ...   \n17315  5-753-2E_BOAT DAVIT & N.D CRANE LINE  2020-06-11             JPY   75   \n17316  5-753-2E_BOAT DAVIT & N.D CRANE LINE  2020-04-27             JPY  110   \n17317                       ELECTRIC CLUTCH  2019-08-01             JPY    5   \n17318        HAND HYDRAULIC STEERING SYSTEM  2019-06-17             JPY    5   \n17319        HAND HYDRAULIC STEERING SYSTEM  2019-06-17             JPY    5   \n\n       leadtime_predicted  차이  \n0                     194   0  \n1                      59   0  \n2                      61   0  \n3                     212   0  \n4                     220   0  \n...                   ...  ..  \n17315                  94   1  \n17316                  71   4  \n17317                  23   2  \n17318                  23   2  \n17319                  23   2  \n\n[17320 rows x 14 columns]",
      "text/html": "<div>\n<style scoped>\n    .dataframe tbody tr th:only-of-type {\n        vertical-align: middle;\n    }\n\n    .dataframe tbody tr th {\n        vertical-align: top;\n    }\n\n    .dataframe thead th {\n        text-align: right;\n    }\n</style>\n<table border=\"1\" class=\"dataframe\">\n  <thead>\n    <tr style=\"text-align: right;\">\n      <th></th>\n      <th>machinery</th>\n      <th>items</th>\n      <th>part1</th>\n      <th>key2</th>\n      <th>balju</th>\n      <th>baljucheo</th>\n      <th>changgoipgo</th>\n      <th>leadtime</th>\n      <th>assembly</th>\n      <th>gyeonjeok</th>\n      <th>gyeonjeokhwapye</th>\n      <th>dt</th>\n      <th>leadtime_predicted</th>\n      <th>차이</th>\n    </tr>\n  </thead>\n  <tbody>\n    <tr>\n      <th>0</th>\n      <td>NO.1 GENERATOR ENGINE</td>\n      <td>SEAL-O-RING-STOR</td>\n      <td>7.00E-275</td>\n      <td>COOLER</td>\n      <td>2020-03-09</td>\n      <td>HAEIN Coporation_Cheonan</td>\n      <td>2020-09-19</td>\n      <td>194</td>\n      <td>323-6480 LINES GP-FUEL</td>\n      <td>2020-03-09</td>\n      <td>KRW</td>\n      <td>40</td>\n      <td>194</td>\n      <td>0</td>\n    </tr>\n    <tr>\n      <th>1</th>\n      <td>NO.2 GENERATOR ENGINE</td>\n      <td>OIL COOLER &amp; LINES</td>\n      <td>7.00E-275</td>\n      <td>COOLER</td>\n      <td>2020-07-21</td>\n      <td>HAEIN Coporation_Cheonan</td>\n      <td>2020-09-18</td>\n      <td>59</td>\n      <td>GASKET KIT</td>\n      <td>2020-07-21</td>\n      <td>KRW</td>\n      <td>5</td>\n      <td>59</td>\n      <td>0</td>\n    </tr>\n    <tr>\n      <th>2</th>\n      <td>NO.2 GENERATOR ENGINE</td>\n      <td>WASHER</td>\n      <td>7.00E-275</td>\n      <td>COOLER</td>\n      <td>2020-10-12</td>\n      <td>HAEIN Coporation_Cheonan</td>\n      <td>2020-12-12</td>\n      <td>61</td>\n      <td>285-8374 MANIFOLD GP-EXH</td>\n      <td>2020-10-12</td>\n      <td>KRW</td>\n      <td>10</td>\n      <td>61</td>\n      <td>0</td>\n    </tr>\n    <tr>\n      <th>3</th>\n      <td>NO.1 GENERATOR ENGINE</td>\n      <td>BOLT-HIGH TEMP</td>\n      <td>7.00E-275</td>\n      <td>COOLER</td>\n      <td>2020-11-16</td>\n      <td>HAEIN Coporation_Cheonan</td>\n      <td>2021-06-16</td>\n      <td>212</td>\n      <td>159-8828 TURBO GP</td>\n      <td>2020-11-16</td>\n      <td>KRW</td>\n      <td>50</td>\n      <td>212</td>\n      <td>0</td>\n    </tr>\n    <tr>\n      <th>4</th>\n      <td>NO.1 GENERATOR ENGINE</td>\n      <td>SEAL</td>\n      <td>7.00E-275</td>\n      <td>COOLER</td>\n      <td>2021-01-15</td>\n      <td>HAEIN Coporation_Cheonan</td>\n      <td>2021-08-23</td>\n      <td>220</td>\n      <td>2N4727 INSTRUMNT PANEL GP</td>\n      <td>2021-01-15</td>\n      <td>KRW</td>\n      <td>30</td>\n      <td>220</td>\n      <td>0</td>\n    </tr>\n    <tr>\n      <th>...</th>\n      <td>...</td>\n      <td>...</td>\n      <td>...</td>\n      <td>...</td>\n      <td>...</td>\n      <td>...</td>\n      <td>...</td>\n      <td>...</td>\n      <td>...</td>\n      <td>...</td>\n      <td>...</td>\n      <td>...</td>\n      <td>...</td>\n      <td>...</td>\n    </tr>\n    <tr>\n      <th>17315</th>\n      <td>HYD. SYSTEM</td>\n      <td>HYD. CYLINDER_NET BOAT DAVIT</td>\n      <td>φ150 × φ85 × 695st</td>\n      <td>CYLINDER</td>\n      <td>2020-06-11</td>\n      <td>MARINE HYDROTEC CO.,LTD.</td>\n      <td>2020-09-14</td>\n      <td>95</td>\n      <td>5-753-2E_BOAT DAVIT &amp; N.D CRANE LINE</td>\n      <td>2020-06-11</td>\n      <td>JPY</td>\n      <td>75</td>\n      <td>94</td>\n      <td>1</td>\n    </tr>\n    <tr>\n      <th>17316</th>\n      <td>HYD. SYSTEM</td>\n      <td>HYD. CYLINDER_N.D CRANE_BOOM_LIFTER</td>\n      <td>φ160 × φ112 × 1130st</td>\n      <td>CYLINDER</td>\n      <td>2020-04-27</td>\n      <td>MARINE HYDROTEC CO.,LTD.</td>\n      <td>2020-07-03</td>\n      <td>67</td>\n      <td>5-753-2E_BOAT DAVIT &amp; N.D CRANE LINE</td>\n      <td>2020-04-27</td>\n      <td>JPY</td>\n      <td>110</td>\n      <td>71</td>\n      <td>4</td>\n    </tr>\n    <tr>\n      <th>17317</th>\n      <td>6M NET BOAT</td>\n      <td>PULLY</td>\n      <td>Φ305X5V-3</td>\n      <td>BELT</td>\n      <td>2019-08-01</td>\n      <td>PORT RELIEF ENGINEERING CO.,LTD.</td>\n      <td>2019-08-26</td>\n      <td>25</td>\n      <td>ELECTRIC CLUTCH</td>\n      <td>2019-08-01</td>\n      <td>JPY</td>\n      <td>5</td>\n      <td>23</td>\n      <td>2</td>\n    </tr>\n    <tr>\n      <th>17318</th>\n      <td>7M NET BOAT</td>\n      <td>CYLINDER</td>\n      <td>Φ50 x S195 CYLINDER</td>\n      <td>CYLINDER</td>\n      <td>2019-06-17</td>\n      <td>PORT RELIEF ENGINEERING CO.,LTD.</td>\n      <td>2019-07-12</td>\n      <td>25</td>\n      <td>HAND HYDRAULIC STEERING SYSTEM</td>\n      <td>2019-06-17</td>\n      <td>JPY</td>\n      <td>5</td>\n      <td>23</td>\n      <td>2</td>\n    </tr>\n    <tr>\n      <th>17319</th>\n      <td>7M NET BOAT</td>\n      <td>SEAL KIT FOR CYLINDER</td>\n      <td>Φ50 x S195 CYLINDER SEAL KIT</td>\n      <td>CYLINDER</td>\n      <td>2019-06-17</td>\n      <td>PORT RELIEF ENGINEERING CO.,LTD.</td>\n      <td>2019-07-12</td>\n      <td>25</td>\n      <td>HAND HYDRAULIC STEERING SYSTEM</td>\n      <td>2019-06-17</td>\n      <td>JPY</td>\n      <td>5</td>\n      <td>23</td>\n      <td>2</td>\n    </tr>\n  </tbody>\n</table>\n<p>17320 rows × 14 columns</p>\n</div>"
     },
     "execution_count": 46,
     "metadata": {},
     "output_type": "execute_result"
    }
   ],
   "source": [
    "import joblib\n",
    "\n",
    "model4 = joblib.load('./model4.pkl')\n",
    "db = original1.loc[:, features_4]\n",
    "prediction = model4.predict(db)\n",
    "pred_df = pd.DataFrame(prediction)\n",
    "pred_df = pred_df.astype(int)\n",
    "pred_df.columns = ['leadtime_predicted']\n",
    "concat = pd.concat([db, pred_df], axis=1)\n",
    "concat = multi.inverse_transform(concat)\n",
    "essential = ['machinery', 'items', 'part1', 'key2', 'balju', 'baljucheo', 'changgoipgo', 'leadtime']\n",
    "final = pd.concat([original[essential], concat], axis=1)\n",
    "final['차이'] = (final['leadtime_predicted'] - final['leadtime']).abs()\n",
    "# final.drop(final[(final['차이'] >= 4)].index, inplace=True) # 제거 전 17320, 제거 후 13869\n",
    "final"
   ],
   "metadata": {
    "collapsed": false
   }
  },
  {
   "cell_type": "code",
   "execution_count": 43,
   "outputs": [
    {
     "data": {
      "text/plain": "13869"
     },
     "execution_count": 43,
     "metadata": {},
     "output_type": "execute_result"
    }
   ],
   "source": [
    "from sqlalchemy import create_engine\n",
    "db_connection_str = 'mysql+pymysql://:@.com/'\n",
    "db_connection = create_engine(db_connection_str)\n",
    "conn = db_connection.connect()\n",
    "\n",
    "final.to_sql(name='leadtime_final', con=db_connection, if_exists='replace',index=False)"
   ],
   "metadata": {
    "collapsed": false
   }
  }
 ],
 "metadata": {
  "kernelspec": {
   "display_name": "Python 3",
   "language": "python",
   "name": "python3"
  },
  "language_info": {
   "codemirror_mode": {
    "name": "ipython",
    "version": 2
   },
   "file_extension": ".py",
   "mimetype": "text/x-python",
   "name": "python",
   "nbconvert_exporter": "python",
   "pygments_lexer": "ipython2",
   "version": "2.7.6"
  }
 },
 "nbformat": 4,
 "nbformat_minor": 0
}
